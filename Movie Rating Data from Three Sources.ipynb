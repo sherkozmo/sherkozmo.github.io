{
 "cells": [
  {
   "cell_type": "markdown",
   "metadata": {},
   "source": [
    "## Movie Rating Data from Three Data Sources"
   ]
  },
  {
   "cell_type": "markdown",
   "metadata": {},
   "source": [
    "Merging the Data and Storing in a Database/Visualizing Data\n",
    "\n",
    "Now that you have cleaned and transformed your 3 datasets, you need to load them into a database. You can choose what kind of database (SQLLite or MySQL, Postgre SQL are all free options). You will want to load each dataset into SQL Lite as an individual table and then you must join the datasets together in Python into 1 dataset.\n",
    "\n",
    "Once all the data is merged together in your database, create 5 visualizations that demonstrate the data you have cleansed. You should have at least 2 visualizations that have data from more than one source (meaning, if you have 3 tables, you must have visualizations that span across 2 of the tables – you are also welcome to use your consolidated dataset that you created in the previous step, if you do that, you have met this requirement).\n",
    "\n",
    "For the visualization portion of the project, you are welcome to use a python library like Matplotlib, Seaborn, or an R package ggPlot2, Plotly, or Tableau/PowerBI.\n",
    "\n",
    "PowerBI is a free tool that could be used – Tableau only has a free web author. If your use Tableau/PowerBI you need to submit a PDF with your assignment vs the Tableau/PowerBI file.\n",
    "\n",
    "Submit your code for merging and storing in the database, with your code for the visualizations along with a 250-500-word summary of what you learned and had to do to complete the project. You can submit a Jupyter Notebook or a PDF of your code. If you submit a .py file you need to also include a PDF or attachment of your results."
   ]
  },
  {
   "cell_type": "code",
   "execution_count": 42,
   "metadata": {},
   "outputs": [],
   "source": [
    "import sqlite3\n",
    "import pandas as pd"
   ]
  },
  {
   "cell_type": "code",
   "execution_count": 121,
   "metadata": {},
   "outputs": [],
   "source": [
    "with sqlite3.connect(\"termproject.db\") as conn:\n",
    "    cursor = conn.cursor()\n",
    "    cursor.execute(\"PRAGMA foreign_keys = 1\")\n",
    "    sql = \"\"\"\n",
    "    SELECT * FROM moviescsv\n",
    "    JOIN moviesapi ON moviescsv.title = moviesapi.title\n",
    "    \"\"\""
   ]
  },
  {
   "cell_type": "code",
   "execution_count": 122,
   "metadata": {},
   "outputs": [],
   "source": [
    "csvapi = pd.read_sql_query(sql, conn)"
   ]
  },
  {
   "cell_type": "code",
   "execution_count": 123,
   "metadata": {},
   "outputs": [
    {
     "data": {
      "text/plain": [
       "Index(['imdb_title_id', 'title', 'original_title', 'year', 'date_published',\n",
       "       'genre', 'duration', 'country', 'language', 'director', 'writer',\n",
       "       'production_company', 'actors', 'description', 'avg_vote', 'csv_votes',\n",
       "       'budget', 'usa_gross_income', 'worlwide_gross_income', 'metascore',\n",
       "       'reviews_from_users', 'reviews_from_critics', '', 'title', 'api_year',\n",
       "       'users_rating', 'votes', 'metascore', 'runtime', 'directors'],\n",
       "      dtype='object')"
      ]
     },
     "execution_count": 123,
     "metadata": {},
     "output_type": "execute_result"
    }
   ],
   "source": [
    "csvapi.columns"
   ]
  },
  {
   "cell_type": "code",
   "execution_count": 124,
   "metadata": {},
   "outputs": [],
   "source": [
    "with sqlite3.connect(\"termproject.db\") as conn:\n",
    "    cursor = conn.cursor()\n",
    "    cursor.execute(\"PRAGMA foreign_keys = 1\")\n",
    "    sql2 = \"\"\"\n",
    "    SELECT * FROM moviescsv\n",
    "    JOIN moviesapi ON moviescsv.title = moviesapi.title\n",
    "    JOIN moviesurldata ON moviescsv.title = moviesurldata.movie\n",
    "    \"\"\""
   ]
  },
  {
   "cell_type": "code",
   "execution_count": 125,
   "metadata": {},
   "outputs": [],
   "source": [
    "csvapiurl = pd.read_sql_query(sql2, conn)"
   ]
  },
  {
   "cell_type": "code",
   "execution_count": 126,
   "metadata": {},
   "outputs": [
    {
     "data": {
      "text/plain": [
       "Index(['imdb_title_id', 'title', 'original_title', 'year', 'date_published',\n",
       "       'genre', 'duration', 'country', 'language', 'director', 'writer',\n",
       "       'production_company', 'actors', 'description', 'avg_vote', 'csv_votes',\n",
       "       'budget', 'usa_gross_income', 'worlwide_gross_income', 'metascore',\n",
       "       'reviews_from_users', 'reviews_from_critics', '', 'title', 'api_year',\n",
       "       'users_rating', 'votes', 'metascore', 'runtime', 'directors', '',\n",
       "       'Rank', 'Movie', 'ReleaseDate', 'Distributor', 'Genre', '2018 Gross',\n",
       "       'Tickets Sold'],\n",
       "      dtype='object')"
      ]
     },
     "execution_count": 126,
     "metadata": {},
     "output_type": "execute_result"
    }
   ],
   "source": [
    "csvapiurl.columns"
   ]
  },
  {
   "cell_type": "code",
   "execution_count": 127,
   "metadata": {},
   "outputs": [],
   "source": [
    "import matplotlib.pyplot as plt\n",
    "import numpy as np\n",
    "import seaborn as sns\n",
    "from datetime import datetime"
   ]
  },
  {
   "cell_type": "code",
   "execution_count": 128,
   "metadata": {},
   "outputs": [
    {
     "data": {
      "text/plain": [
       "(array([ 18.,  39., 117., 176., 216., 255., 182.,  68.,  18.,   7.]),\n",
       " array([1.2 , 2.03, 2.86, 3.69, 4.52, 5.35, 6.18, 7.01, 7.84, 8.67, 9.5 ]),\n",
       " <BarContainer object of 10 artists>)"
      ]
     },
     "execution_count": 128,
     "metadata": {},
     "output_type": "execute_result"
    },
    {
     "data": {
      "image/png": "[encoded data removed]",
      "text/plain": [
       "<Figure size 432x288 with 1 Axes>"
      ]
     },
     "metadata": {
      "needs_background": "light"
     },
     "output_type": "display_data"
    }
   ],
   "source": [
    "plt.hist(csvapi.users_rating, bins=10, color='k')"
   ]
  },
  {
   "cell_type": "code",
   "execution_count": 129,
   "metadata": {},
   "outputs": [],
   "source": [
    "movieapi_votes = csvapi['users_rating']"
   ]
  },
  {
   "cell_type": "code",
   "execution_count": 130,
   "metadata": {},
   "outputs": [
    {
     "data": {
      "text/plain": [
       "<AxesSubplot:>"
      ]
     },
     "execution_count": 130,
     "metadata": {},
     "output_type": "execute_result"
    },
    {
     "data": {
      "image/png": "[encoded data removed]",
      "text/plain": [
       "<Figure size 432x288 with 1 Axes>"
      ]
     },
     "metadata": {
      "needs_background": "light"
     },
     "output_type": "display_data"
    }
   ],
   "source": [
    "movieapi_votes.plot(kind='line', style='k-', xlim=(1, 100), grid=True)"
   ]
  },
  {
   "cell_type": "code",
   "execution_count": 131,
   "metadata": {},
   "outputs": [],
   "source": [
    "sub_csvapi = csvapi[csvapi[\"year\"] > 2010]"
   ]
  },
  {
   "cell_type": "code",
   "execution_count": 132,
   "metadata": {},
   "outputs": [
    {
     "data": {
      "text/plain": [
       "Index(['imdb_title_id', 'title', 'original_title', 'year', 'date_published',\n",
       "       'genre', 'duration', 'country', 'language', 'director', 'writer',\n",
       "       'production_company', 'actors', 'description', 'avg_vote', 'csv_votes',\n",
       "       'budget', 'usa_gross_income', 'worlwide_gross_income', 'metascore',\n",
       "       'reviews_from_users', 'reviews_from_critics', '', 'title', 'api_year',\n",
       "       'users_rating', 'votes', 'metascore', 'runtime', 'directors'],\n",
       "      dtype='object')"
      ]
     },
     "execution_count": 132,
     "metadata": {},
     "output_type": "execute_result"
    }
   ],
   "source": [
    "sub_csvapi.columns"
   ]
  },
  {
   "cell_type": "code",
   "execution_count": 133,
   "metadata": {},
   "outputs": [],
   "source": [
    "#pivot to capture years of data since 2000\n",
    "pivot = pd.pivot_table(sub_csvapi, columns=['year'], values=['avg_vote','users_rating'], aggfunc='mean')"
   ]
  },
  {
   "cell_type": "code",
   "execution_count": 145,
   "metadata": {},
   "outputs": [],
   "source": [
    "sub2_csvapi = csvapi[csvapi['year'] > 2017]"
   ]
  },
  {
   "cell_type": "code",
   "execution_count": 146,
   "metadata": {},
   "outputs": [
    {
     "data": {
      "text/html": [
       "<div>\n",
       "<style scoped>\n",
       "    .dataframe tbody tr th:only-of-type {\n",
       "        vertical-align: middle;\n",
       "    }\n",
       "\n",
       "    .dataframe tbody tr th {\n",
       "        vertical-align: top;\n",
       "    }\n",
       "\n",
       "    .dataframe thead th {\n",
       "        text-align: right;\n",
       "    }\n",
       "</style>\n",
       "<table border=\"1\" class=\"dataframe\">\n",
       "  <thead>\n",
       "    <tr style=\"text-align: right;\">\n",
       "      <th></th>\n",
       "      <th>imdb_title_id</th>\n",
       "      <th>title</th>\n",
       "      <th>original_title</th>\n",
       "      <th>year</th>\n",
       "      <th>date_published</th>\n",
       "      <th>genre</th>\n",
       "      <th>duration</th>\n",
       "      <th>country</th>\n",
       "      <th>language</th>\n",
       "      <th>director</th>\n",
       "      <th>...</th>\n",
       "      <th>reviews_from_users</th>\n",
       "      <th>reviews_from_critics</th>\n",
       "      <th></th>\n",
       "      <th>title</th>\n",
       "      <th>api_year</th>\n",
       "      <th>users_rating</th>\n",
       "      <th>votes</th>\n",
       "      <th>metascore</th>\n",
       "      <th>runtime</th>\n",
       "      <th>directors</th>\n",
       "    </tr>\n",
       "  </thead>\n",
       "  <tbody>\n",
       "    <tr>\n",
       "      <th>117</th>\n",
       "      <td>tt0360556</td>\n",
       "      <td>Fahrenheit 451</td>\n",
       "      <td>Fahrenheit 451</td>\n",
       "      <td>2018</td>\n",
       "      <td>2018-05-20</td>\n",
       "      <td>Drama, Sci-Fi, Thriller</td>\n",
       "      <td>100</td>\n",
       "      <td>USA</td>\n",
       "      <td>English</td>\n",
       "      <td>Ramin Bahrani</td>\n",
       "      <td>...</td>\n",
       "      <td>206</td>\n",
       "      <td>74</td>\n",
       "      <td>51216</td>\n",
       "      <td>Fahrenheit 451</td>\n",
       "      <td>2018.0</td>\n",
       "      <td>4.9</td>\n",
       "      <td>16,475</td>\n",
       "      <td></td>\n",
       "      <td>100 min</td>\n",
       "      <td>['Ramin Bahrani']</td>\n",
       "    </tr>\n",
       "    <tr>\n",
       "      <th>126</th>\n",
       "      <td>tt0427543</td>\n",
       "      <td>A Million Little Pieces</td>\n",
       "      <td>A Million Little Pieces</td>\n",
       "      <td>2018</td>\n",
       "      <td>2019-12-06</td>\n",
       "      <td>Drama</td>\n",
       "      <td>113</td>\n",
       "      <td>USA</td>\n",
       "      <td>English</td>\n",
       "      <td>Sam Taylor-Johnson</td>\n",
       "      <td>...</td>\n",
       "      <td>36</td>\n",
       "      <td>23</td>\n",
       "      <td>51648</td>\n",
       "      <td>A Million Little Pieces</td>\n",
       "      <td>2018.0</td>\n",
       "      <td>6.2</td>\n",
       "      <td>1,298</td>\n",
       "      <td>45.0</td>\n",
       "      <td>113 min</td>\n",
       "      <td>['Sam Taylor-Johnson']</td>\n",
       "    </tr>\n",
       "    <tr>\n",
       "      <th>144</th>\n",
       "      <td>tt0859635</td>\n",
       "      <td>Super Troopers 2</td>\n",
       "      <td>Super Troopers 2</td>\n",
       "      <td>2018</td>\n",
       "      <td>2018-07-12</td>\n",
       "      <td>Comedy, Crime, Mystery</td>\n",
       "      <td>100</td>\n",
       "      <td>USA</td>\n",
       "      <td>English</td>\n",
       "      <td>Jay Chandrasekhar</td>\n",
       "      <td>...</td>\n",
       "      <td>207</td>\n",
       "      <td>93</td>\n",
       "      <td>50043</td>\n",
       "      <td>Super Troopers 2</td>\n",
       "      <td>2018.0</td>\n",
       "      <td>6.0</td>\n",
       "      <td>22,886</td>\n",
       "      <td>41.0</td>\n",
       "      <td></td>\n",
       "      <td>['Jay Chandrasekhar']</td>\n",
       "    </tr>\n",
       "    <tr>\n",
       "      <th>149</th>\n",
       "      <td>tt0972544</td>\n",
       "      <td>Back Roads</td>\n",
       "      <td>Back Roads</td>\n",
       "      <td>2018</td>\n",
       "      <td>2018-12-07</td>\n",
       "      <td>Crime, Drama, Thriller</td>\n",
       "      <td>101</td>\n",
       "      <td>USA</td>\n",
       "      <td>English</td>\n",
       "      <td>Alex Pettyfer</td>\n",
       "      <td>...</td>\n",
       "      <td>47</td>\n",
       "      <td>24</td>\n",
       "      <td>49123</td>\n",
       "      <td>Back Roads</td>\n",
       "      <td>2018.0</td>\n",
       "      <td>6.6</td>\n",
       "      <td>3,198</td>\n",
       "      <td>42.0</td>\n",
       "      <td>101 min</td>\n",
       "      <td>['Alex Pettyfer']</td>\n",
       "    </tr>\n",
       "    <tr>\n",
       "      <th>152</th>\n",
       "      <td>tt10199664</td>\n",
       "      <td>Adam</td>\n",
       "      <td>Adam</td>\n",
       "      <td>2019</td>\n",
       "      <td>2020-02-05</td>\n",
       "      <td>Drama</td>\n",
       "      <td>98</td>\n",
       "      <td>Morocco, France, Belgium</td>\n",
       "      <td>Arabic</td>\n",
       "      <td>Maryam Touzani</td>\n",
       "      <td>...</td>\n",
       "      <td>1</td>\n",
       "      <td>21</td>\n",
       "      <td>27711</td>\n",
       "      <td>Adam</td>\n",
       "      <td>2018.0</td>\n",
       "      <td>5.5</td>\n",
       "      <td>77</td>\n",
       "      <td></td>\n",
       "      <td>72 min</td>\n",
       "      <td>['Maria Solrun']</td>\n",
       "    </tr>\n",
       "    <tr>\n",
       "      <th>...</th>\n",
       "      <td>...</td>\n",
       "      <td>...</td>\n",
       "      <td>...</td>\n",
       "      <td>...</td>\n",
       "      <td>...</td>\n",
       "      <td>...</td>\n",
       "      <td>...</td>\n",
       "      <td>...</td>\n",
       "      <td>...</td>\n",
       "      <td>...</td>\n",
       "      <td>...</td>\n",
       "      <td>...</td>\n",
       "      <td>...</td>\n",
       "      <td>...</td>\n",
       "      <td>...</td>\n",
       "      <td>...</td>\n",
       "      <td>...</td>\n",
       "      <td>...</td>\n",
       "      <td>...</td>\n",
       "      <td>...</td>\n",
       "      <td>...</td>\n",
       "    </tr>\n",
       "    <tr>\n",
       "      <th>1091</th>\n",
       "      <td>tt9369332</td>\n",
       "      <td>Halloween Horror Tales</td>\n",
       "      <td>Halloween Horror Tales</td>\n",
       "      <td>2018</td>\n",
       "      <td>2018-11-29</td>\n",
       "      <td>Horror, Thriller</td>\n",
       "      <td>77</td>\n",
       "      <td>USA</td>\n",
       "      <td>English</td>\n",
       "      <td>Jeff Kirkendall</td>\n",
       "      <td>...</td>\n",
       "      <td>7</td>\n",
       "      <td>4</td>\n",
       "      <td>30109</td>\n",
       "      <td>Halloween Horror Tales</td>\n",
       "      <td>2018.0</td>\n",
       "      <td>1.8</td>\n",
       "      <td>136</td>\n",
       "      <td></td>\n",
       "      <td>77 min</td>\n",
       "      <td>['Jeff Kirkendall']</td>\n",
       "    </tr>\n",
       "    <tr>\n",
       "      <th>1092</th>\n",
       "      <td>tt9459550</td>\n",
       "      <td>American Kamasutra</td>\n",
       "      <td>American Kamasutra</td>\n",
       "      <td>2018</td>\n",
       "      <td>2018-12-13</td>\n",
       "      <td>Drama, Romance</td>\n",
       "      <td>88</td>\n",
       "      <td>USA</td>\n",
       "      <td>English</td>\n",
       "      <td>Jacky St. James</td>\n",
       "      <td>...</td>\n",
       "      <td>11</td>\n",
       "      <td></td>\n",
       "      <td>46936</td>\n",
       "      <td>American Kamasutra</td>\n",
       "      <td>2018.0</td>\n",
       "      <td>2.9</td>\n",
       "      <td>298</td>\n",
       "      <td></td>\n",
       "      <td>88 min</td>\n",
       "      <td>['Jacky St. James']</td>\n",
       "    </tr>\n",
       "    <tr>\n",
       "      <th>1093</th>\n",
       "      <td>tt9477532</td>\n",
       "      <td>Greta</td>\n",
       "      <td>Greta</td>\n",
       "      <td>2019</td>\n",
       "      <td>2019-10-10</td>\n",
       "      <td>Drama</td>\n",
       "      <td>97</td>\n",
       "      <td>Brazil</td>\n",
       "      <td>Portuguese</td>\n",
       "      <td>Armando PraÃ§a</td>\n",
       "      <td>...</td>\n",
       "      <td></td>\n",
       "      <td>12</td>\n",
       "      <td>52051</td>\n",
       "      <td>Greta</td>\n",
       "      <td>2018.0</td>\n",
       "      <td>6.0</td>\n",
       "      <td>22,405</td>\n",
       "      <td>54.0</td>\n",
       "      <td>98 min</td>\n",
       "      <td>['Neil Jordan']</td>\n",
       "    </tr>\n",
       "    <tr>\n",
       "      <th>1094</th>\n",
       "      <td>tt9509866</td>\n",
       "      <td>The Guy Who Didn't Like Musicals</td>\n",
       "      <td>The Guy Who Didn't Like Musicals</td>\n",
       "      <td>2018</td>\n",
       "      <td>2018-12-23</td>\n",
       "      <td>Comedy, Musical</td>\n",
       "      <td>112</td>\n",
       "      <td>USA</td>\n",
       "      <td>English</td>\n",
       "      <td>Nick Lang</td>\n",
       "      <td>...</td>\n",
       "      <td>4</td>\n",
       "      <td></td>\n",
       "      <td>41117</td>\n",
       "      <td>The Guy Who Didn't Like Musicals</td>\n",
       "      <td>2018.0</td>\n",
       "      <td>8.7</td>\n",
       "      <td>296</td>\n",
       "      <td></td>\n",
       "      <td>112 min</td>\n",
       "      <td>['Nick Lang']</td>\n",
       "    </tr>\n",
       "    <tr>\n",
       "      <th>1095</th>\n",
       "      <td>tt9855990</td>\n",
       "      <td>Nightmare Tenant</td>\n",
       "      <td>Nightmare Tenant</td>\n",
       "      <td>2018</td>\n",
       "      <td>2018-12-05</td>\n",
       "      <td>Thriller</td>\n",
       "      <td>90</td>\n",
       "      <td>USA</td>\n",
       "      <td>English</td>\n",
       "      <td>Robert Malenfant</td>\n",
       "      <td>...</td>\n",
       "      <td>9</td>\n",
       "      <td>2</td>\n",
       "      <td>36491</td>\n",
       "      <td>Nightmare Tenant</td>\n",
       "      <td>2018.0</td>\n",
       "      <td>5.4</td>\n",
       "      <td>156</td>\n",
       "      <td></td>\n",
       "      <td>90 min</td>\n",
       "      <td>['Robert Malenfant']</td>\n",
       "    </tr>\n",
       "  </tbody>\n",
       "</table>\n",
       "<p>819 rows × 30 columns</p>\n",
       "</div>"
      ],
      "text/plain": [
       "     imdb_title_id                             title  \\\n",
       "117      tt0360556                    Fahrenheit 451   \n",
       "126      tt0427543           A Million Little Pieces   \n",
       "144      tt0859635                  Super Troopers 2   \n",
       "149      tt0972544                        Back Roads   \n",
       "152     tt10199664                              Adam   \n",
       "...            ...                               ...   \n",
       "1091     tt9369332            Halloween Horror Tales   \n",
       "1092     tt9459550                American Kamasutra   \n",
       "1093     tt9477532                             Greta   \n",
       "1094     tt9509866  The Guy Who Didn't Like Musicals   \n",
       "1095     tt9855990                  Nightmare Tenant   \n",
       "\n",
       "                        original_title  year date_published  \\\n",
       "117                     Fahrenheit 451  2018     2018-05-20   \n",
       "126            A Million Little Pieces  2018     2019-12-06   \n",
       "144                   Super Troopers 2  2018     2018-07-12   \n",
       "149                         Back Roads  2018     2018-12-07   \n",
       "152                               Adam  2019     2020-02-05   \n",
       "...                                ...   ...            ...   \n",
       "1091            Halloween Horror Tales  2018     2018-11-29   \n",
       "1092                American Kamasutra  2018     2018-12-13   \n",
       "1093                             Greta  2019     2019-10-10   \n",
       "1094  The Guy Who Didn't Like Musicals  2018     2018-12-23   \n",
       "1095                  Nightmare Tenant  2018     2018-12-05   \n",
       "\n",
       "                        genre duration                   country    language  \\\n",
       "117   Drama, Sci-Fi, Thriller      100                       USA     English   \n",
       "126                     Drama      113                       USA     English   \n",
       "144    Comedy, Crime, Mystery      100                       USA     English   \n",
       "149    Crime, Drama, Thriller      101                       USA     English   \n",
       "152                     Drama       98  Morocco, France, Belgium      Arabic   \n",
       "...                       ...      ...                       ...         ...   \n",
       "1091         Horror, Thriller       77                       USA     English   \n",
       "1092           Drama, Romance       88                       USA     English   \n",
       "1093                    Drama       97                    Brazil  Portuguese   \n",
       "1094          Comedy, Musical      112                       USA     English   \n",
       "1095                 Thriller       90                       USA     English   \n",
       "\n",
       "                director  ... reviews_from_users reviews_from_critics         \\\n",
       "117        Ramin Bahrani  ...                206                   74  51216   \n",
       "126   Sam Taylor-Johnson  ...                 36                   23  51648   \n",
       "144    Jay Chandrasekhar  ...                207                   93  50043   \n",
       "149        Alex Pettyfer  ...                 47                   24  49123   \n",
       "152       Maryam Touzani  ...                  1                   21  27711   \n",
       "...                  ...  ...                ...                  ...    ...   \n",
       "1091     Jeff Kirkendall  ...                  7                    4  30109   \n",
       "1092     Jacky St. James  ...                 11                       46936   \n",
       "1093      Armando PraÃ§a  ...                                      12  52051   \n",
       "1094           Nick Lang  ...                  4                       41117   \n",
       "1095    Robert Malenfant  ...                  9                    2  36491   \n",
       "\n",
       "                                 title  api_year  users_rating   votes  \\\n",
       "117                     Fahrenheit 451    2018.0           4.9  16,475   \n",
       "126            A Million Little Pieces    2018.0           6.2   1,298   \n",
       "144                   Super Troopers 2    2018.0           6.0  22,886   \n",
       "149                         Back Roads    2018.0           6.6   3,198   \n",
       "152                               Adam    2018.0           5.5      77   \n",
       "...                                ...       ...           ...     ...   \n",
       "1091            Halloween Horror Tales    2018.0           1.8     136   \n",
       "1092                American Kamasutra    2018.0           2.9     298   \n",
       "1093                             Greta    2018.0           6.0  22,405   \n",
       "1094  The Guy Who Didn't Like Musicals    2018.0           8.7     296   \n",
       "1095                  Nightmare Tenant    2018.0           5.4     156   \n",
       "\n",
       "     metascore  runtime               directors  \n",
       "117             100 min       ['Ramin Bahrani']  \n",
       "126       45.0  113 min  ['Sam Taylor-Johnson']  \n",
       "144       41.0            ['Jay Chandrasekhar']  \n",
       "149       42.0  101 min       ['Alex Pettyfer']  \n",
       "152              72 min        ['Maria Solrun']  \n",
       "...        ...      ...                     ...  \n",
       "1091             77 min     ['Jeff Kirkendall']  \n",
       "1092             88 min     ['Jacky St. James']  \n",
       "1093      54.0   98 min         ['Neil Jordan']  \n",
       "1094            112 min           ['Nick Lang']  \n",
       "1095             90 min    ['Robert Malenfant']  \n",
       "\n",
       "[819 rows x 30 columns]"
      ]
     },
     "execution_count": 146,
     "metadata": {},
     "output_type": "execute_result"
    }
   ],
   "source": [
    "sub2_csvapi"
   ]
  },
  {
   "cell_type": "code",
   "execution_count": 147,
   "metadata": {},
   "outputs": [
    {
     "data": {
      "text/plain": [
       "Index(['imdb_title_id', 'title', 'original_title', 'year', 'date_published',\n",
       "       'genre', 'duration', 'country', 'language', 'director', 'writer',\n",
       "       'production_company', 'actors', 'description', 'avg_vote', 'csv_votes',\n",
       "       'budget', 'usa_gross_income', 'worlwide_gross_income', 'metascore',\n",
       "       'reviews_from_users', 'reviews_from_critics', '', 'title', 'api_year',\n",
       "       'users_rating', 'votes', 'metascore', 'runtime', 'directors'],\n",
       "      dtype='object')"
      ]
     },
     "execution_count": 147,
     "metadata": {},
     "output_type": "execute_result"
    }
   ],
   "source": [
    "sub2_csvapi.columns"
   ]
  },
  {
   "cell_type": "code",
   "execution_count": 148,
   "metadata": {},
   "outputs": [
    {
     "data": {
      "text/html": [
       "<div>\n",
       "<style scoped>\n",
       "    .dataframe tbody tr th:only-of-type {\n",
       "        vertical-align: middle;\n",
       "    }\n",
       "\n",
       "    .dataframe tbody tr th {\n",
       "        vertical-align: top;\n",
       "    }\n",
       "\n",
       "    .dataframe thead th {\n",
       "        text-align: right;\n",
       "    }\n",
       "</style>\n",
       "<table border=\"1\" class=\"dataframe\">\n",
       "  <thead>\n",
       "    <tr style=\"text-align: right;\">\n",
       "      <th>year</th>\n",
       "      <th>2011</th>\n",
       "      <th>2012</th>\n",
       "      <th>2013</th>\n",
       "      <th>2014</th>\n",
       "      <th>2015</th>\n",
       "      <th>2016</th>\n",
       "      <th>2017</th>\n",
       "      <th>2018</th>\n",
       "      <th>2019</th>\n",
       "      <th>2020</th>\n",
       "    </tr>\n",
       "  </thead>\n",
       "  <tbody>\n",
       "    <tr>\n",
       "      <th>avg_vote</th>\n",
       "      <td>5.072727</td>\n",
       "      <td>5.225000</td>\n",
       "      <td>5.150000</td>\n",
       "      <td>5.347059</td>\n",
       "      <td>4.511111</td>\n",
       "      <td>5.315385</td>\n",
       "      <td>4.723529</td>\n",
       "      <td>5.052500</td>\n",
       "      <td>5.426667</td>\n",
       "      <td>6.30</td>\n",
       "    </tr>\n",
       "    <tr>\n",
       "      <th>users_rating</th>\n",
       "      <td>5.063636</td>\n",
       "      <td>5.941667</td>\n",
       "      <td>5.585714</td>\n",
       "      <td>5.211765</td>\n",
       "      <td>5.738889</td>\n",
       "      <td>4.884615</td>\n",
       "      <td>5.205882</td>\n",
       "      <td>5.054875</td>\n",
       "      <td>5.713333</td>\n",
       "      <td>4.25</td>\n",
       "    </tr>\n",
       "  </tbody>\n",
       "</table>\n",
       "</div>"
      ],
      "text/plain": [
       "year              2011      2012      2013      2014      2015      2016  \\\n",
       "avg_vote      5.072727  5.225000  5.150000  5.347059  4.511111  5.315385   \n",
       "users_rating  5.063636  5.941667  5.585714  5.211765  5.738889  4.884615   \n",
       "\n",
       "year              2017      2018      2019  2020  \n",
       "avg_vote      4.723529  5.052500  5.426667  6.30  \n",
       "users_rating  5.205882  5.054875  5.713333  4.25  "
      ]
     },
     "execution_count": 148,
     "metadata": {},
     "output_type": "execute_result"
    }
   ],
   "source": [
    "pivot"
   ]
  },
  {
   "cell_type": "code",
   "execution_count": 149,
   "metadata": {},
   "outputs": [
    {
     "data": {
      "text/plain": [
       "<seaborn.axisgrid.FacetGrid at 0x21cb5b39f40>"
      ]
     },
     "execution_count": 149,
     "metadata": {},
     "output_type": "execute_result"
    },
    {
     "data": {
      "image/png": "[encoded data removed]",
      "text/plain": [
       "<Figure size 360x360 with 1 Axes>"
      ]
     },
     "metadata": {
      "needs_background": "light"
     },
     "output_type": "display_data"
    }
   ],
   "source": [
    "sns.catplot(x='year', y='avg_vote', kind='box', data=sub2_csvapi)"
   ]
  },
  {
   "cell_type": "code",
   "execution_count": 98,
   "metadata": {},
   "outputs": [
    {
     "data": {
      "text/plain": [
       "0       59,063\n",
       "1          240\n",
       "2           15\n",
       "3           43\n",
       "4        6,160\n",
       "         ...  \n",
       "1091       136\n",
       "1092       298\n",
       "1093    22,405\n",
       "1094       296\n",
       "1095       156\n",
       "Name: votes, Length: 1096, dtype: object"
      ]
     },
     "execution_count": 98,
     "metadata": {},
     "output_type": "execute_result"
    }
   ],
   "source": [
    "comp2"
   ]
  },
  {
   "cell_type": "code",
   "execution_count": 30,
   "metadata": {},
   "outputs": [
    {
     "name": "stderr",
     "output_type": "stream",
     "text": [
      "C:\\Users\\kozfa\\anaconda3\\lib\\site-packages\\seaborn\\_decorators.py:36: FutureWarning: Pass the following variables as keyword args: x, y. From version 0.12, the only valid positional argument will be `data`, and passing other arguments without an explicit keyword will result in an error or misinterpretation.\n",
      "  warnings.warn(\n"
     ]
    },
    {
     "data": {
      "text/plain": [
       "<AxesSubplot:xlabel='avg_vote', ylabel='users_rating'>"
      ]
     },
     "execution_count": 30,
     "metadata": {},
     "output_type": "execute_result"
    },
    {
     "data": {
      "image/png": "[encoded data removed]",
      "text/plain": [
       "<Figure size 432x288 with 1 Axes>"
      ]
     },
     "metadata": {
      "needs_background": "light"
     },
     "output_type": "display_data"
    }
   ],
   "source": [
    "sns.regplot('avg_vote', 'users_rating', data=sub_csvapi)"
   ]
  },
  {
   "cell_type": "code",
   "execution_count": 150,
   "metadata": {},
   "outputs": [],
   "source": [
    "with sqlite3.connect(\"termproject.db\") as conn:\n",
    "    cursor = conn.cursor()\n",
    "    cursor.execute(\"PRAGMA foreign_keys = 1\")\n",
    "    sql3 = \"\"\"\n",
    "    SELECT * FROM moviesurldata\n",
    "    \"\"\""
   ]
  },
  {
   "cell_type": "code",
   "execution_count": 151,
   "metadata": {},
   "outputs": [],
   "source": [
    "url = pd.read_sql_query(sql3, conn)"
   ]
  },
  {
   "cell_type": "code",
   "execution_count": 152,
   "metadata": {},
   "outputs": [
    {
     "data": {
      "text/plain": [
       "Index(['', 'Rank', 'Movie', 'ReleaseDate', 'Distributor', 'Genre',\n",
       "       '2018 Gross', 'Tickets Sold'],\n",
       "      dtype='object')"
      ]
     },
     "execution_count": 152,
     "metadata": {},
     "output_type": "execute_result"
    }
   ],
   "source": [
    "url.columns"
   ]
  },
  {
   "cell_type": "code",
   "execution_count": 176,
   "metadata": {},
   "outputs": [
    {
     "data": {
      "text/plain": [
       "[<matplotlib.lines.Line2D at 0x21cc600d7f0>]"
      ]
     },
     "execution_count": 176,
     "metadata": {},
     "output_type": "execute_result"
    },
    {
     "data": {
      "image/png": "[encoded data removed]",
      "text/plain": [
       "<Figure size 432x288 with 1 Axes>"
      ]
     },
     "metadata": {
      "needs_background": "light"
     },
     "output_type": "display_data"
    }
   ],
   "source": [
    "plt.plot('2018 Gross', data=url[url['Genre']=='Action'])"
   ]
  },
  {
   "cell_type": "code",
   "execution_count": 190,
   "metadata": {},
   "outputs": [],
   "source": [
    "grouped = url['Tickets Sold'].groupby(url['Genre'])"
   ]
  },
  {
   "cell_type": "code",
   "execution_count": 198,
   "metadata": {},
   "outputs": [
    {
     "name": "stdout",
     "output_type": "stream",
     "text": [
      "Populating the interactive namespace from numpy and matplotlib\n"
     ]
    },
    {
     "data": {
      "text/plain": [
       "<matplotlib.collections.PathCollection at 0x21cc074c9d0>"
      ]
     },
     "execution_count": 198,
     "metadata": {},
     "output_type": "execute_result"
    },
    {
     "data": {
      "image/png": "[encoded data removed]",
      "text/plain": [
       "<Figure size 1080x432 with 1 Axes>"
      ]
     },
     "metadata": {
      "needs_background": "light"
     },
     "output_type": "display_data"
    }
   ],
   "source": [
    "%pylab inline\n",
    "pylab.rcParams['figure.figsize'] = (15, 6)\n",
    "plt.scatter('Genre', 'Tickets Sold', data=url)"
   ]
  },
  {
   "cell_type": "markdown",
   "metadata": {},
   "source": [
    "# Summary"
   ]
  },
  {
   "cell_type": "markdown",
   "metadata": {},
   "source": [
    "To complete the term project I needed to do the following:\n",
    "1. I installed sql lite tools to load my data to include the csv file, url data, and api data into separate tables in the database. \n",
    "2. I made several updates to the tables and as I went along. I included the datatype value in the table in order to create the visualizations. I have to believe I could have assigned datatypes in python but chose to create that permanently into the tables. I was impressed at how the database commits the changes of the datatypes by excuting a CREATE TABLE script and gives you the table in the format requested. \n",
    "3. Once the tables were in place I created my jupyter notebook to read the data into my notebook. I created a JOIN with the csv and url file and a JOIN with the csv and api data. I used the title to create the join.\n",
    "4. Next I started building my subsets of data to create the visualizations I want. There was some additional data wrangling I had to do in order to get the data to populate appropriately to make the charts. \n",
    "5. I created one histogram, and based on previous classes in this Masters program, I should probably create histograms for each of the fields I want to evaluate.\n",
    "6. I developed a line chart for a portion of the data to show me where the user ratings are primarly.\n",
    "7. The box and whiskers visualization gives me an idea of average votes for three of the release years.\n",
    "8. The scatter plot shows a trend line related to the average rating to the number of votes, as the ratings go up so do the votes.\n",
    "9. I finished up with a line chart and a scatter chart looking at the different genres either individually or as a group. On the last chart I looked at how to expand the view in jupyter notebook so I can see all the genres."
   ]
  },
  {
   "cell_type": "markdown",
   "metadata": {},
   "source": [
    "## What did I learn from this project?"
   ]
  },
  {
   "cell_type": "markdown",
   "metadata": {},
   "source": [
    "The hardest part of this project was the subject matter and what to use for data. Once I figured out that we needed a csv, url based, and api source for our data, I was then able to get what I needed to build my data source. I was apprehensive about the url and api data pulls, but was happy I was able to figure how how to pull that kind of data. \n",
    "\n",
    "I spent a large portion of time working on the api data. I was able to get the key and access the dataset but I just could not figure out how to pull in the amount of data needed to satisfy the project. My resolve was to find a JSON dataset, which is the format of most all APIs and work with that data in jupyter notebook and successfully wrangle it.\n",
    "\n",
    "I really enjoyed the web scraping methods and the url pull from the web. It's such a challenge to pull web data and I like the idea of carving out the data I want from the html structure.\n",
    "\n",
    "Working with the database portion was a good refresher and was a nice review of databases to work with the SQLlite product and what it has to offer on the free platform.\n",
    "\n",
    "Making the visualizations goes back to how well you know your data and how well it was cleaned prior to using it. When I was working with larger amounts of data, I needed to take a look at what I really needed to have a readable visualization. It's imprtant to get the data laid out in a format to create the appropriate visualization. I did a large amount of experimenting and I think it takes some of that to get the best out of your data."
   ]
  }
 ],
 "metadata": {
  "kernelspec": {
   "display_name": "Python 3 (ipykernel)",
   "language": "python",
   "name": "python3"
  },
  "language_info": {
   "codemirror_mode": {
    "name": "ipython",
    "version": 3
   },
   "file_extension": ".py",
   "mimetype": "text/x-python",
   "name": "python",
   "nbconvert_exporter": "python",
   "pygments_lexer": "ipython3",
   "version": "3.8.12"
  }
 },
 "nbformat": 4,
 "nbformat_minor": 4
}
