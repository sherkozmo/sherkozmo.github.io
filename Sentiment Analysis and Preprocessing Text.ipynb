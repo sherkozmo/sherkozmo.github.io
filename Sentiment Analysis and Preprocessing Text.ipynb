{
 "cells": [
  {
   "cell_type": "markdown",
   "metadata": {},
   "source": [
    "## Part 1: Using the TextBlob Sentiment Analyzer"
   ]
  },
  {
   "cell_type": "markdown",
   "metadata": {},
   "source": [
    "<ol><li>Import the movie review data as a data frame and ensure that the data is loaded properly.\n",
    "<li>How many of each positive and negative reviews are there?\n",
    "<li>Use TextBlob to classify each movie review as positive or negative. Assume that a polarity score greater than or equal to zero is a positive sentiment and less than 0 is a negative sentiment.\n",
    "<li>Check the accuracy of this model. Is this model better than random guessing?\n",
    "<li>For up to five points extra credit, use another prebuilt text sentiment analyzer, e.g., VADER, and repeat steps (3) and (4).<ol>"
   ]
  },
  {
   "cell_type": "code",
   "execution_count": 1,
   "metadata": {},
   "outputs": [
    {
     "name": "stdout",
     "output_type": "stream",
     "text": [
      "Requirement already up-to-date: textblob in c:\\users\\kozfa\\anaconda3\\lib\\site-packages (0.17.1)\n",
      "Requirement already satisfied, skipping upgrade: nltk>=3.1; python_version >= \"3\" in c:\\users\\kozfa\\anaconda3\\lib\\site-packages (from textblob) (3.5)\n",
      "Requirement already satisfied, skipping upgrade: joblib in c:\\users\\kozfa\\anaconda3\\lib\\site-packages (from nltk>=3.1; python_version >= \"3\"->textblob) (0.17.0)\n",
      "Requirement already satisfied, skipping upgrade: regex in c:\\users\\kozfa\\anaconda3\\lib\\site-packages (from nltk>=3.1; python_version >= \"3\"->textblob) (2020.10.15)\n",
      "Requirement already satisfied, skipping upgrade: tqdm in c:\\users\\kozfa\\anaconda3\\lib\\site-packages (from nltk>=3.1; python_version >= \"3\"->textblob) (4.50.2)\n",
      "Requirement already satisfied, skipping upgrade: click in c:\\users\\kozfa\\anaconda3\\lib\\site-packages (from nltk>=3.1; python_version >= \"3\"->textblob) (7.1.2)\n",
      "Finished.\n"
     ]
    },
    {
     "name": "stderr",
     "output_type": "stream",
     "text": [
      "[nltk_data] Downloading package brown to\n",
      "[nltk_data]     C:\\Users\\kozfa\\AppData\\Roaming\\nltk_data...\n",
      "[nltk_data]   Package brown is already up-to-date!\n",
      "[nltk_data] Downloading package punkt to\n",
      "[nltk_data]     C:\\Users\\kozfa\\AppData\\Roaming\\nltk_data...\n",
      "[nltk_data]   Package punkt is already up-to-date!\n",
      "[nltk_data] Downloading package wordnet to\n",
      "[nltk_data]     C:\\Users\\kozfa\\AppData\\Roaming\\nltk_data...\n",
      "[nltk_data]   Package wordnet is already up-to-date!\n",
      "[nltk_data] Downloading package averaged_perceptron_tagger to\n",
      "[nltk_data]     C:\\Users\\kozfa\\AppData\\Roaming\\nltk_data...\n",
      "[nltk_data]   Package averaged_perceptron_tagger is already up-to-\n",
      "[nltk_data]       date!\n",
      "[nltk_data] Downloading package conll2000 to\n",
      "[nltk_data]     C:\\Users\\kozfa\\AppData\\Roaming\\nltk_data...\n",
      "[nltk_data]   Package conll2000 is already up-to-date!\n",
      "[nltk_data] Downloading package movie_reviews to\n",
      "[nltk_data]     C:\\Users\\kozfa\\AppData\\Roaming\\nltk_data...\n",
      "[nltk_data]   Package movie_reviews is already up-to-date!\n"
     ]
    }
   ],
   "source": [
    "# import core package for TextBlob\n",
    "! pip install -U textblob\n",
    "! python -m textblob.download_corpora"
   ]
  },
  {
   "cell_type": "code",
   "execution_count": 2,
   "metadata": {},
   "outputs": [],
   "source": [
    "# Import packages for TextBlob assignment\n",
    "from textblob import Word\n",
    "from textblob import TextBlob"
   ]
  },
  {
   "cell_type": "code",
   "execution_count": 3,
   "metadata": {},
   "outputs": [],
   "source": [
    "# import libraries\n",
    "import numpy as np\n",
    "import pandas as pd"
   ]
  },
  {
   "cell_type": "markdown",
   "metadata": {},
   "source": [
    "#### 1. Import the movie review data as a data frame and ensure that the data is loaded properly"
   ]
  },
  {
   "cell_type": "code",
   "execution_count": 4,
   "metadata": {},
   "outputs": [],
   "source": [
    "# Import data from Kaggle website - the labeled training dataset: Bag of Words Meets Bags of Popcorn. \n",
    "df_tblob = pd.read_csv('labeledTrainData.tsv', sep='\\t')"
   ]
  },
  {
   "cell_type": "code",
   "execution_count": 5,
   "metadata": {},
   "outputs": [
    {
     "data": {
      "text/html": [
       "<div>\n",
       "<style scoped>\n",
       "    .dataframe tbody tr th:only-of-type {\n",
       "        vertical-align: middle;\n",
       "    }\n",
       "\n",
       "    .dataframe tbody tr th {\n",
       "        vertical-align: top;\n",
       "    }\n",
       "\n",
       "    .dataframe thead th {\n",
       "        text-align: right;\n",
       "    }\n",
       "</style>\n",
       "<table border=\"1\" class=\"dataframe\">\n",
       "  <thead>\n",
       "    <tr style=\"text-align: right;\">\n",
       "      <th></th>\n",
       "      <th>id</th>\n",
       "      <th>sentiment</th>\n",
       "      <th>review</th>\n",
       "    </tr>\n",
       "  </thead>\n",
       "  <tbody>\n",
       "    <tr>\n",
       "      <th>0</th>\n",
       "      <td>5814_8</td>\n",
       "      <td>1</td>\n",
       "      <td>With all this stuff going down at the moment w...</td>\n",
       "    </tr>\n",
       "    <tr>\n",
       "      <th>1</th>\n",
       "      <td>2381_9</td>\n",
       "      <td>1</td>\n",
       "      <td>\\The Classic War of the Worlds\\\" by Timothy Hi...</td>\n",
       "    </tr>\n",
       "    <tr>\n",
       "      <th>2</th>\n",
       "      <td>7759_3</td>\n",
       "      <td>0</td>\n",
       "      <td>The film starts with a manager (Nicholas Bell)...</td>\n",
       "    </tr>\n",
       "    <tr>\n",
       "      <th>3</th>\n",
       "      <td>3630_4</td>\n",
       "      <td>0</td>\n",
       "      <td>It must be assumed that those who praised this...</td>\n",
       "    </tr>\n",
       "    <tr>\n",
       "      <th>4</th>\n",
       "      <td>9495_8</td>\n",
       "      <td>1</td>\n",
       "      <td>Superbly trashy and wondrously unpretentious 8...</td>\n",
       "    </tr>\n",
       "  </tbody>\n",
       "</table>\n",
       "</div>"
      ],
      "text/plain": [
       "       id  sentiment                                             review\n",
       "0  5814_8          1  With all this stuff going down at the moment w...\n",
       "1  2381_9          1  \\The Classic War of the Worlds\\\" by Timothy Hi...\n",
       "2  7759_3          0  The film starts with a manager (Nicholas Bell)...\n",
       "3  3630_4          0  It must be assumed that those who praised this...\n",
       "4  9495_8          1  Superbly trashy and wondrously unpretentious 8..."
      ]
     },
     "execution_count": 5,
     "metadata": {},
     "output_type": "execute_result"
    }
   ],
   "source": [
    "df_tblob.head(5)"
   ]
  },
  {
   "cell_type": "code",
   "execution_count": 6,
   "metadata": {},
   "outputs": [
    {
     "data": {
      "text/plain": [
       "Index(['id', 'sentiment', 'review'], dtype='object')"
      ]
     },
     "execution_count": 6,
     "metadata": {},
     "output_type": "execute_result"
    }
   ],
   "source": [
    "df_tblob.columns"
   ]
  },
  {
   "cell_type": "code",
   "execution_count": 7,
   "metadata": {},
   "outputs": [
    {
     "data": {
      "text/html": [
       "<div>\n",
       "<style scoped>\n",
       "    .dataframe tbody tr th:only-of-type {\n",
       "        vertical-align: middle;\n",
       "    }\n",
       "\n",
       "    .dataframe tbody tr th {\n",
       "        vertical-align: top;\n",
       "    }\n",
       "\n",
       "    .dataframe thead th {\n",
       "        text-align: right;\n",
       "    }\n",
       "</style>\n",
       "<table border=\"1\" class=\"dataframe\">\n",
       "  <thead>\n",
       "    <tr style=\"text-align: right;\">\n",
       "      <th></th>\n",
       "      <th>sentiment</th>\n",
       "    </tr>\n",
       "  </thead>\n",
       "  <tbody>\n",
       "    <tr>\n",
       "      <th>count</th>\n",
       "      <td>25000.00000</td>\n",
       "    </tr>\n",
       "    <tr>\n",
       "      <th>mean</th>\n",
       "      <td>0.50000</td>\n",
       "    </tr>\n",
       "    <tr>\n",
       "      <th>std</th>\n",
       "      <td>0.50001</td>\n",
       "    </tr>\n",
       "    <tr>\n",
       "      <th>min</th>\n",
       "      <td>0.00000</td>\n",
       "    </tr>\n",
       "    <tr>\n",
       "      <th>25%</th>\n",
       "      <td>0.00000</td>\n",
       "    </tr>\n",
       "    <tr>\n",
       "      <th>50%</th>\n",
       "      <td>0.50000</td>\n",
       "    </tr>\n",
       "    <tr>\n",
       "      <th>75%</th>\n",
       "      <td>1.00000</td>\n",
       "    </tr>\n",
       "    <tr>\n",
       "      <th>max</th>\n",
       "      <td>1.00000</td>\n",
       "    </tr>\n",
       "  </tbody>\n",
       "</table>\n",
       "</div>"
      ],
      "text/plain": [
       "         sentiment\n",
       "count  25000.00000\n",
       "mean       0.50000\n",
       "std        0.50001\n",
       "min        0.00000\n",
       "25%        0.00000\n",
       "50%        0.50000\n",
       "75%        1.00000\n",
       "max        1.00000"
      ]
     },
     "execution_count": 7,
     "metadata": {},
     "output_type": "execute_result"
    }
   ],
   "source": [
    "df_tblob.describe()"
   ]
  },
  {
   "cell_type": "markdown",
   "metadata": {},
   "source": [
    "#### 2. How many of each positive and negative reviews are there?"
   ]
  },
  {
   "cell_type": "code",
   "execution_count": 8,
   "metadata": {},
   "outputs": [],
   "source": [
    "# count the number of sentiment values - 1=positive, 2=negative\n",
    "df_sentcnt = df_tblob.groupby(['sentiment']).agg({'id':pd.Series.nunique})"
   ]
  },
  {
   "cell_type": "code",
   "execution_count": 9,
   "metadata": {},
   "outputs": [
    {
     "data": {
      "text/html": [
       "<div>\n",
       "<style scoped>\n",
       "    .dataframe tbody tr th:only-of-type {\n",
       "        vertical-align: middle;\n",
       "    }\n",
       "\n",
       "    .dataframe tbody tr th {\n",
       "        vertical-align: top;\n",
       "    }\n",
       "\n",
       "    .dataframe thead th {\n",
       "        text-align: right;\n",
       "    }\n",
       "</style>\n",
       "<table border=\"1\" class=\"dataframe\">\n",
       "  <thead>\n",
       "    <tr style=\"text-align: right;\">\n",
       "      <th></th>\n",
       "      <th>id</th>\n",
       "    </tr>\n",
       "    <tr>\n",
       "      <th>sentiment</th>\n",
       "      <th></th>\n",
       "    </tr>\n",
       "  </thead>\n",
       "  <tbody>\n",
       "    <tr>\n",
       "      <th>0</th>\n",
       "      <td>12500</td>\n",
       "    </tr>\n",
       "    <tr>\n",
       "      <th>1</th>\n",
       "      <td>12500</td>\n",
       "    </tr>\n",
       "  </tbody>\n",
       "</table>\n",
       "</div>"
      ],
      "text/plain": [
       "              id\n",
       "sentiment       \n",
       "0          12500\n",
       "1          12500"
      ]
     },
     "execution_count": 9,
     "metadata": {},
     "output_type": "execute_result"
    }
   ],
   "source": [
    "# display df with count values\n",
    "df_sentcnt"
   ]
  },
  {
   "cell_type": "markdown",
   "metadata": {},
   "source": [
    "#### 3. Use TextBlob to classify each movie review as positive or negative. Assume that a polarity score greater than or equal to zero is a positive sentiment and less than 0 is a negative sentiment."
   ]
  },
  {
   "cell_type": "code",
   "execution_count": 10,
   "metadata": {},
   "outputs": [],
   "source": [
    "# add column polarity to pull the polarity value in Textblob sentiment\n",
    "df_tblob['polarity'] = df_tblob['review'].apply(lambda tweet: TextBlob(tweet).sentiment.polarity)"
   ]
  },
  {
   "cell_type": "code",
   "execution_count": 11,
   "metadata": {},
   "outputs": [],
   "source": [
    "# add column tb_score to determine the polarity score - great than or equal to zero is a positive sentiment and\n",
    "# less than 0 is a negative sentiment\n",
    "df_tblob['tb_score'] = df_tblob['polarity'].apply(lambda x: 1 if x > 0 else 0)"
   ]
  },
  {
   "cell_type": "code",
   "execution_count": 12,
   "metadata": {},
   "outputs": [
    {
     "data": {
      "text/html": [
       "<div>\n",
       "<style scoped>\n",
       "    .dataframe tbody tr th:only-of-type {\n",
       "        vertical-align: middle;\n",
       "    }\n",
       "\n",
       "    .dataframe tbody tr th {\n",
       "        vertical-align: top;\n",
       "    }\n",
       "\n",
       "    .dataframe thead th {\n",
       "        text-align: right;\n",
       "    }\n",
       "</style>\n",
       "<table border=\"1\" class=\"dataframe\">\n",
       "  <thead>\n",
       "    <tr style=\"text-align: right;\">\n",
       "      <th></th>\n",
       "      <th>id</th>\n",
       "      <th>sentiment</th>\n",
       "      <th>review</th>\n",
       "      <th>polarity</th>\n",
       "      <th>tb_score</th>\n",
       "    </tr>\n",
       "  </thead>\n",
       "  <tbody>\n",
       "    <tr>\n",
       "      <th>0</th>\n",
       "      <td>5814_8</td>\n",
       "      <td>1</td>\n",
       "      <td>With all this stuff going down at the moment w...</td>\n",
       "      <td>0.001277</td>\n",
       "      <td>1</td>\n",
       "    </tr>\n",
       "    <tr>\n",
       "      <th>1</th>\n",
       "      <td>2381_9</td>\n",
       "      <td>1</td>\n",
       "      <td>\\The Classic War of the Worlds\\\" by Timothy Hi...</td>\n",
       "      <td>0.256349</td>\n",
       "      <td>1</td>\n",
       "    </tr>\n",
       "    <tr>\n",
       "      <th>2</th>\n",
       "      <td>7759_3</td>\n",
       "      <td>0</td>\n",
       "      <td>The film starts with a manager (Nicholas Bell)...</td>\n",
       "      <td>-0.053941</td>\n",
       "      <td>0</td>\n",
       "    </tr>\n",
       "    <tr>\n",
       "      <th>3</th>\n",
       "      <td>3630_4</td>\n",
       "      <td>0</td>\n",
       "      <td>It must be assumed that those who praised this...</td>\n",
       "      <td>0.134753</td>\n",
       "      <td>1</td>\n",
       "    </tr>\n",
       "    <tr>\n",
       "      <th>4</th>\n",
       "      <td>9495_8</td>\n",
       "      <td>1</td>\n",
       "      <td>Superbly trashy and wondrously unpretentious 8...</td>\n",
       "      <td>-0.024842</td>\n",
       "      <td>0</td>\n",
       "    </tr>\n",
       "    <tr>\n",
       "      <th>5</th>\n",
       "      <td>8196_8</td>\n",
       "      <td>1</td>\n",
       "      <td>I dont know why people think this is such a ba...</td>\n",
       "      <td>0.105882</td>\n",
       "      <td>1</td>\n",
       "    </tr>\n",
       "    <tr>\n",
       "      <th>6</th>\n",
       "      <td>7166_2</td>\n",
       "      <td>0</td>\n",
       "      <td>This movie could have been very good, but come...</td>\n",
       "      <td>-0.027054</td>\n",
       "      <td>0</td>\n",
       "    </tr>\n",
       "    <tr>\n",
       "      <th>7</th>\n",
       "      <td>10633_1</td>\n",
       "      <td>0</td>\n",
       "      <td>I watched this video at a friend's house. I'm ...</td>\n",
       "      <td>0.068750</td>\n",
       "      <td>1</td>\n",
       "    </tr>\n",
       "    <tr>\n",
       "      <th>8</th>\n",
       "      <td>319_1</td>\n",
       "      <td>0</td>\n",
       "      <td>A friend of mine bought this film for £1, and ...</td>\n",
       "      <td>0.098810</td>\n",
       "      <td>1</td>\n",
       "    </tr>\n",
       "    <tr>\n",
       "      <th>9</th>\n",
       "      <td>8713_10</td>\n",
       "      <td>1</td>\n",
       "      <td>&lt;br /&gt;&lt;br /&gt;This movie is full of references. ...</td>\n",
       "      <td>0.258333</td>\n",
       "      <td>1</td>\n",
       "    </tr>\n",
       "  </tbody>\n",
       "</table>\n",
       "</div>"
      ],
      "text/plain": [
       "        id  sentiment                                             review  \\\n",
       "0   5814_8          1  With all this stuff going down at the moment w...   \n",
       "1   2381_9          1  \\The Classic War of the Worlds\\\" by Timothy Hi...   \n",
       "2   7759_3          0  The film starts with a manager (Nicholas Bell)...   \n",
       "3   3630_4          0  It must be assumed that those who praised this...   \n",
       "4   9495_8          1  Superbly trashy and wondrously unpretentious 8...   \n",
       "5   8196_8          1  I dont know why people think this is such a ba...   \n",
       "6   7166_2          0  This movie could have been very good, but come...   \n",
       "7  10633_1          0  I watched this video at a friend's house. I'm ...   \n",
       "8    319_1          0  A friend of mine bought this film for £1, and ...   \n",
       "9  8713_10          1  <br /><br />This movie is full of references. ...   \n",
       "\n",
       "   polarity  tb_score  \n",
       "0  0.001277         1  \n",
       "1  0.256349         1  \n",
       "2 -0.053941         0  \n",
       "3  0.134753         1  \n",
       "4 -0.024842         0  \n",
       "5  0.105882         1  \n",
       "6 -0.027054         0  \n",
       "7  0.068750         1  \n",
       "8  0.098810         1  \n",
       "9  0.258333         1  "
      ]
     },
     "execution_count": 12,
     "metadata": {},
     "output_type": "execute_result"
    }
   ],
   "source": [
    "df_tblob.head(10)"
   ]
  },
  {
   "cell_type": "markdown",
   "metadata": {},
   "source": [
    "#### 4. Check the accuracy of this model. Is this model better than random guessing?"
   ]
  },
  {
   "cell_type": "code",
   "execution_count": 13,
   "metadata": {},
   "outputs": [],
   "source": [
    "#df_tblob['match'] = df_tblob['sentiment'].apply(lambda x: if x = 1)\n",
    "accuracy = sum(df_tblob['tb_score']) / len(df_tblob)"
   ]
  },
  {
   "cell_type": "code",
   "execution_count": 14,
   "metadata": {},
   "outputs": [
    {
     "data": {
      "text/plain": [
       "25000"
      ]
     },
     "execution_count": 14,
     "metadata": {},
     "output_type": "execute_result"
    }
   ],
   "source": [
    "#returns the length of the object dataframe\n",
    "len(df_tblob)"
   ]
  },
  {
   "cell_type": "code",
   "execution_count": 15,
   "metadata": {},
   "outputs": [
    {
     "data": {
      "text/plain": [
       "19000"
      ]
     },
     "execution_count": 15,
     "metadata": {},
     "output_type": "execute_result"
    }
   ],
   "source": [
    "# sum of the polarity score determined\n",
    "sum(df_tblob['tb_score'])"
   ]
  },
  {
   "cell_type": "code",
   "execution_count": 16,
   "metadata": {},
   "outputs": [
    {
     "data": {
      "text/plain": [
       "12500"
      ]
     },
     "execution_count": 16,
     "metadata": {},
     "output_type": "execute_result"
    }
   ],
   "source": [
    "# sum of original sentiment column\n",
    "sum(df_tblob['sentiment'])"
   ]
  },
  {
   "cell_type": "code",
   "execution_count": 17,
   "metadata": {},
   "outputs": [
    {
     "data": {
      "text/plain": [
       "0.76"
      ]
     },
     "execution_count": 17,
     "metadata": {},
     "output_type": "execute_result"
    }
   ],
   "source": [
    "# Checking the accuracy of this model\n",
    "# Is this model better than random guessing? YES\n",
    "accuracy"
   ]
  },
  {
   "cell_type": "markdown",
   "metadata": {},
   "source": [
    "## Part 2: Prepping Text for a Custom Model"
   ]
  },
  {
   "cell_type": "markdown",
   "metadata": {},
   "source": [
    "If you want to run your own model to classify text, it needs to be in proper form to do so. The following steps will outline a procedure to do this on the movie reviews text.\n",
    "<ol><li>Convert all text to lowercase letters.\n",
    "<li>Remove punctuation and special characters from the text.\n",
    "<li>Remove stop words.\n",
    "<li>Apply NLTK’s PorterStemmer.\n",
    "<li>Create a bag-of-words matrix from your stemmed text (output from (4)), where each row is a word-count vector for a single movie review (see sections 5.3 & 6.8 in the Machine Learning with Python Cookbook). Display the dimensions of your bag-of-words matrix. The number of rows in this matrix should be the same as the number of rows in your original data frame.\n",
    "<li>Create a term frequency-inverse document frequency (tf-idf) matrix from your stemmed text, for your movie reviews (see section 6.9 in the Machine Learning with Python Cookbook). Display the dimensions of your tf-idf matrix. These dimensions should be the same as your bag-of-words matrix."
   ]
  },
  {
   "cell_type": "markdown",
   "metadata": {},
   "source": [
    "#### 1. Convert all text to lowercase letters."
   ]
  },
  {
   "cell_type": "code",
   "execution_count": 18,
   "metadata": {},
   "outputs": [
    {
     "data": {
      "text/html": [
       "<div>\n",
       "<style scoped>\n",
       "    .dataframe tbody tr th:only-of-type {\n",
       "        vertical-align: middle;\n",
       "    }\n",
       "\n",
       "    .dataframe tbody tr th {\n",
       "        vertical-align: top;\n",
       "    }\n",
       "\n",
       "    .dataframe thead th {\n",
       "        text-align: right;\n",
       "    }\n",
       "</style>\n",
       "<table border=\"1\" class=\"dataframe\">\n",
       "  <thead>\n",
       "    <tr style=\"text-align: right;\">\n",
       "      <th></th>\n",
       "      <th>id</th>\n",
       "      <th>sentiment</th>\n",
       "      <th>review</th>\n",
       "      <th>polarity</th>\n",
       "      <th>tb_score</th>\n",
       "    </tr>\n",
       "  </thead>\n",
       "  <tbody>\n",
       "    <tr>\n",
       "      <th>0</th>\n",
       "      <td>5814_8</td>\n",
       "      <td>1</td>\n",
       "      <td>With all this stuff going down at the moment w...</td>\n",
       "      <td>0.001277</td>\n",
       "      <td>1</td>\n",
       "    </tr>\n",
       "    <tr>\n",
       "      <th>1</th>\n",
       "      <td>2381_9</td>\n",
       "      <td>1</td>\n",
       "      <td>\\The Classic War of the Worlds\\\" by Timothy Hi...</td>\n",
       "      <td>0.256349</td>\n",
       "      <td>1</td>\n",
       "    </tr>\n",
       "    <tr>\n",
       "      <th>2</th>\n",
       "      <td>7759_3</td>\n",
       "      <td>0</td>\n",
       "      <td>The film starts with a manager (Nicholas Bell)...</td>\n",
       "      <td>-0.053941</td>\n",
       "      <td>0</td>\n",
       "    </tr>\n",
       "    <tr>\n",
       "      <th>3</th>\n",
       "      <td>3630_4</td>\n",
       "      <td>0</td>\n",
       "      <td>It must be assumed that those who praised this...</td>\n",
       "      <td>0.134753</td>\n",
       "      <td>1</td>\n",
       "    </tr>\n",
       "    <tr>\n",
       "      <th>4</th>\n",
       "      <td>9495_8</td>\n",
       "      <td>1</td>\n",
       "      <td>Superbly trashy and wondrously unpretentious 8...</td>\n",
       "      <td>-0.024842</td>\n",
       "      <td>0</td>\n",
       "    </tr>\n",
       "  </tbody>\n",
       "</table>\n",
       "</div>"
      ],
      "text/plain": [
       "       id  sentiment                                             review  \\\n",
       "0  5814_8          1  With all this stuff going down at the moment w...   \n",
       "1  2381_9          1  \\The Classic War of the Worlds\\\" by Timothy Hi...   \n",
       "2  7759_3          0  The film starts with a manager (Nicholas Bell)...   \n",
       "3  3630_4          0  It must be assumed that those who praised this...   \n",
       "4  9495_8          1  Superbly trashy and wondrously unpretentious 8...   \n",
       "\n",
       "   polarity  tb_score  \n",
       "0  0.001277         1  \n",
       "1  0.256349         1  \n",
       "2 -0.053941         0  \n",
       "3  0.134753         1  \n",
       "4 -0.024842         0  "
      ]
     },
     "execution_count": 18,
     "metadata": {},
     "output_type": "execute_result"
    }
   ],
   "source": [
    "df_tblob.head(5)"
   ]
  },
  {
   "cell_type": "code",
   "execution_count": 19,
   "metadata": {},
   "outputs": [],
   "source": [
    "# Create function\n",
    "def lower(string: str) -> str:\n",
    "    return string.lower()"
   ]
  },
  {
   "cell_type": "code",
   "execution_count": 20,
   "metadata": {},
   "outputs": [],
   "source": [
    "# Create new column and apply lower case function to review column\n",
    "df_tblob['lcase'] = df_tblob['review'].apply(lower)"
   ]
  },
  {
   "cell_type": "code",
   "execution_count": 21,
   "metadata": {},
   "outputs": [
    {
     "data": {
      "text/html": [
       "<div>\n",
       "<style scoped>\n",
       "    .dataframe tbody tr th:only-of-type {\n",
       "        vertical-align: middle;\n",
       "    }\n",
       "\n",
       "    .dataframe tbody tr th {\n",
       "        vertical-align: top;\n",
       "    }\n",
       "\n",
       "    .dataframe thead th {\n",
       "        text-align: right;\n",
       "    }\n",
       "</style>\n",
       "<table border=\"1\" class=\"dataframe\">\n",
       "  <thead>\n",
       "    <tr style=\"text-align: right;\">\n",
       "      <th></th>\n",
       "      <th>id</th>\n",
       "      <th>sentiment</th>\n",
       "      <th>review</th>\n",
       "      <th>polarity</th>\n",
       "      <th>tb_score</th>\n",
       "      <th>lcase</th>\n",
       "    </tr>\n",
       "  </thead>\n",
       "  <tbody>\n",
       "    <tr>\n",
       "      <th>0</th>\n",
       "      <td>5814_8</td>\n",
       "      <td>1</td>\n",
       "      <td>With all this stuff going down at the moment w...</td>\n",
       "      <td>0.001277</td>\n",
       "      <td>1</td>\n",
       "      <td>with all this stuff going down at the moment w...</td>\n",
       "    </tr>\n",
       "    <tr>\n",
       "      <th>1</th>\n",
       "      <td>2381_9</td>\n",
       "      <td>1</td>\n",
       "      <td>\\The Classic War of the Worlds\\\" by Timothy Hi...</td>\n",
       "      <td>0.256349</td>\n",
       "      <td>1</td>\n",
       "      <td>\\the classic war of the worlds\\\" by timothy hi...</td>\n",
       "    </tr>\n",
       "    <tr>\n",
       "      <th>2</th>\n",
       "      <td>7759_3</td>\n",
       "      <td>0</td>\n",
       "      <td>The film starts with a manager (Nicholas Bell)...</td>\n",
       "      <td>-0.053941</td>\n",
       "      <td>0</td>\n",
       "      <td>the film starts with a manager (nicholas bell)...</td>\n",
       "    </tr>\n",
       "    <tr>\n",
       "      <th>3</th>\n",
       "      <td>3630_4</td>\n",
       "      <td>0</td>\n",
       "      <td>It must be assumed that those who praised this...</td>\n",
       "      <td>0.134753</td>\n",
       "      <td>1</td>\n",
       "      <td>it must be assumed that those who praised this...</td>\n",
       "    </tr>\n",
       "    <tr>\n",
       "      <th>4</th>\n",
       "      <td>9495_8</td>\n",
       "      <td>1</td>\n",
       "      <td>Superbly trashy and wondrously unpretentious 8...</td>\n",
       "      <td>-0.024842</td>\n",
       "      <td>0</td>\n",
       "      <td>superbly trashy and wondrously unpretentious 8...</td>\n",
       "    </tr>\n",
       "  </tbody>\n",
       "</table>\n",
       "</div>"
      ],
      "text/plain": [
       "       id  sentiment                                             review  \\\n",
       "0  5814_8          1  With all this stuff going down at the moment w...   \n",
       "1  2381_9          1  \\The Classic War of the Worlds\\\" by Timothy Hi...   \n",
       "2  7759_3          0  The film starts with a manager (Nicholas Bell)...   \n",
       "3  3630_4          0  It must be assumed that those who praised this...   \n",
       "4  9495_8          1  Superbly trashy and wondrously unpretentious 8...   \n",
       "\n",
       "   polarity  tb_score                                              lcase  \n",
       "0  0.001277         1  with all this stuff going down at the moment w...  \n",
       "1  0.256349         1  \\the classic war of the worlds\\\" by timothy hi...  \n",
       "2 -0.053941         0  the film starts with a manager (nicholas bell)...  \n",
       "3  0.134753         1  it must be assumed that those who praised this...  \n",
       "4 -0.024842         0  superbly trashy and wondrously unpretentious 8...  "
      ]
     },
     "execution_count": 21,
     "metadata": {},
     "output_type": "execute_result"
    }
   ],
   "source": [
    "# evaluate\n",
    "df_tblob.head(5)"
   ]
  },
  {
   "cell_type": "markdown",
   "metadata": {},
   "source": [
    "#### 2. Remove punctuation and special characters from the text."
   ]
  },
  {
   "cell_type": "code",
   "execution_count": 22,
   "metadata": {},
   "outputs": [],
   "source": [
    "# Create a new column and apply removal of punctuation from lcase column\n",
    "df_tblob['rmv_punct'] = df_tblob['lcase'].str.replace('[^\\w\\s]', '')"
   ]
  },
  {
   "cell_type": "code",
   "execution_count": 23,
   "metadata": {},
   "outputs": [
    {
     "data": {
      "text/html": [
       "<div>\n",
       "<style scoped>\n",
       "    .dataframe tbody tr th:only-of-type {\n",
       "        vertical-align: middle;\n",
       "    }\n",
       "\n",
       "    .dataframe tbody tr th {\n",
       "        vertical-align: top;\n",
       "    }\n",
       "\n",
       "    .dataframe thead th {\n",
       "        text-align: right;\n",
       "    }\n",
       "</style>\n",
       "<table border=\"1\" class=\"dataframe\">\n",
       "  <thead>\n",
       "    <tr style=\"text-align: right;\">\n",
       "      <th></th>\n",
       "      <th>id</th>\n",
       "      <th>sentiment</th>\n",
       "      <th>review</th>\n",
       "      <th>polarity</th>\n",
       "      <th>tb_score</th>\n",
       "      <th>lcase</th>\n",
       "      <th>rmv_punct</th>\n",
       "    </tr>\n",
       "  </thead>\n",
       "  <tbody>\n",
       "    <tr>\n",
       "      <th>0</th>\n",
       "      <td>5814_8</td>\n",
       "      <td>1</td>\n",
       "      <td>With all this stuff going down at the moment w...</td>\n",
       "      <td>0.001277</td>\n",
       "      <td>1</td>\n",
       "      <td>with all this stuff going down at the moment w...</td>\n",
       "      <td>with all this stuff going down at the moment w...</td>\n",
       "    </tr>\n",
       "    <tr>\n",
       "      <th>1</th>\n",
       "      <td>2381_9</td>\n",
       "      <td>1</td>\n",
       "      <td>\\The Classic War of the Worlds\\\" by Timothy Hi...</td>\n",
       "      <td>0.256349</td>\n",
       "      <td>1</td>\n",
       "      <td>\\the classic war of the worlds\\\" by timothy hi...</td>\n",
       "      <td>the classic war of the worlds by timothy hines...</td>\n",
       "    </tr>\n",
       "    <tr>\n",
       "      <th>2</th>\n",
       "      <td>7759_3</td>\n",
       "      <td>0</td>\n",
       "      <td>The film starts with a manager (Nicholas Bell)...</td>\n",
       "      <td>-0.053941</td>\n",
       "      <td>0</td>\n",
       "      <td>the film starts with a manager (nicholas bell)...</td>\n",
       "      <td>the film starts with a manager nicholas bell g...</td>\n",
       "    </tr>\n",
       "    <tr>\n",
       "      <th>3</th>\n",
       "      <td>3630_4</td>\n",
       "      <td>0</td>\n",
       "      <td>It must be assumed that those who praised this...</td>\n",
       "      <td>0.134753</td>\n",
       "      <td>1</td>\n",
       "      <td>it must be assumed that those who praised this...</td>\n",
       "      <td>it must be assumed that those who praised this...</td>\n",
       "    </tr>\n",
       "    <tr>\n",
       "      <th>4</th>\n",
       "      <td>9495_8</td>\n",
       "      <td>1</td>\n",
       "      <td>Superbly trashy and wondrously unpretentious 8...</td>\n",
       "      <td>-0.024842</td>\n",
       "      <td>0</td>\n",
       "      <td>superbly trashy and wondrously unpretentious 8...</td>\n",
       "      <td>superbly trashy and wondrously unpretentious 8...</td>\n",
       "    </tr>\n",
       "  </tbody>\n",
       "</table>\n",
       "</div>"
      ],
      "text/plain": [
       "       id  sentiment                                             review  \\\n",
       "0  5814_8          1  With all this stuff going down at the moment w...   \n",
       "1  2381_9          1  \\The Classic War of the Worlds\\\" by Timothy Hi...   \n",
       "2  7759_3          0  The film starts with a manager (Nicholas Bell)...   \n",
       "3  3630_4          0  It must be assumed that those who praised this...   \n",
       "4  9495_8          1  Superbly trashy and wondrously unpretentious 8...   \n",
       "\n",
       "   polarity  tb_score                                              lcase  \\\n",
       "0  0.001277         1  with all this stuff going down at the moment w...   \n",
       "1  0.256349         1  \\the classic war of the worlds\\\" by timothy hi...   \n",
       "2 -0.053941         0  the film starts with a manager (nicholas bell)...   \n",
       "3  0.134753         1  it must be assumed that those who praised this...   \n",
       "4 -0.024842         0  superbly trashy and wondrously unpretentious 8...   \n",
       "\n",
       "                                           rmv_punct  \n",
       "0  with all this stuff going down at the moment w...  \n",
       "1  the classic war of the worlds by timothy hines...  \n",
       "2  the film starts with a manager nicholas bell g...  \n",
       "3  it must be assumed that those who praised this...  \n",
       "4  superbly trashy and wondrously unpretentious 8...  "
      ]
     },
     "execution_count": 23,
     "metadata": {},
     "output_type": "execute_result"
    }
   ],
   "source": [
    "# evaluate\n",
    "df_tblob.head(5)"
   ]
  },
  {
   "cell_type": "markdown",
   "metadata": {},
   "source": [
    "#### 3. Remove stop words."
   ]
  },
  {
   "cell_type": "code",
   "execution_count": 24,
   "metadata": {},
   "outputs": [
    {
     "name": "stderr",
     "output_type": "stream",
     "text": [
      "[nltk_data] Downloading package stopwords to\n",
      "[nltk_data]     C:\\Users\\kozfa\\AppData\\Roaming\\nltk_data...\n",
      "[nltk_data]   Package stopwords is already up-to-date!\n"
     ]
    },
    {
     "data": {
      "text/plain": [
       "True"
      ]
     },
     "execution_count": 24,
     "metadata": {},
     "output_type": "execute_result"
    }
   ],
   "source": [
    "# Load library\n",
    "import nltk\n",
    "from nltk.corpus import stopwords\n",
    "nltk.download('stopwords')"
   ]
  },
  {
   "cell_type": "code",
   "execution_count": 25,
   "metadata": {},
   "outputs": [],
   "source": [
    "# place stopwords in variable\n",
    "stop = stopwords.words('english')"
   ]
  },
  {
   "cell_type": "code",
   "execution_count": 26,
   "metadata": {},
   "outputs": [],
   "source": [
    "# remove stopwords\n",
    "df_tblob['stpwords'] = df_tblob['rmv_punct'].apply(lambda x: ' '.join([word for word in x.split()\n",
    "                                                                     if word not in (stop)]))"
   ]
  },
  {
   "cell_type": "code",
   "execution_count": 27,
   "metadata": {},
   "outputs": [
    {
     "data": {
      "text/html": [
       "<div>\n",
       "<style scoped>\n",
       "    .dataframe tbody tr th:only-of-type {\n",
       "        vertical-align: middle;\n",
       "    }\n",
       "\n",
       "    .dataframe tbody tr th {\n",
       "        vertical-align: top;\n",
       "    }\n",
       "\n",
       "    .dataframe thead th {\n",
       "        text-align: right;\n",
       "    }\n",
       "</style>\n",
       "<table border=\"1\" class=\"dataframe\">\n",
       "  <thead>\n",
       "    <tr style=\"text-align: right;\">\n",
       "      <th></th>\n",
       "      <th>id</th>\n",
       "      <th>sentiment</th>\n",
       "      <th>review</th>\n",
       "      <th>polarity</th>\n",
       "      <th>tb_score</th>\n",
       "      <th>lcase</th>\n",
       "      <th>rmv_punct</th>\n",
       "      <th>stpwords</th>\n",
       "    </tr>\n",
       "  </thead>\n",
       "  <tbody>\n",
       "    <tr>\n",
       "      <th>0</th>\n",
       "      <td>5814_8</td>\n",
       "      <td>1</td>\n",
       "      <td>With all this stuff going down at the moment w...</td>\n",
       "      <td>0.001277</td>\n",
       "      <td>1</td>\n",
       "      <td>with all this stuff going down at the moment w...</td>\n",
       "      <td>with all this stuff going down at the moment w...</td>\n",
       "      <td>stuff going moment mj ive started listening mu...</td>\n",
       "    </tr>\n",
       "    <tr>\n",
       "      <th>1</th>\n",
       "      <td>2381_9</td>\n",
       "      <td>1</td>\n",
       "      <td>\\The Classic War of the Worlds\\\" by Timothy Hi...</td>\n",
       "      <td>0.256349</td>\n",
       "      <td>1</td>\n",
       "      <td>\\the classic war of the worlds\\\" by timothy hi...</td>\n",
       "      <td>the classic war of the worlds by timothy hines...</td>\n",
       "      <td>classic war worlds timothy hines entertaining ...</td>\n",
       "    </tr>\n",
       "    <tr>\n",
       "      <th>2</th>\n",
       "      <td>7759_3</td>\n",
       "      <td>0</td>\n",
       "      <td>The film starts with a manager (Nicholas Bell)...</td>\n",
       "      <td>-0.053941</td>\n",
       "      <td>0</td>\n",
       "      <td>the film starts with a manager (nicholas bell)...</td>\n",
       "      <td>the film starts with a manager nicholas bell g...</td>\n",
       "      <td>film starts manager nicholas bell giving welco...</td>\n",
       "    </tr>\n",
       "    <tr>\n",
       "      <th>3</th>\n",
       "      <td>3630_4</td>\n",
       "      <td>0</td>\n",
       "      <td>It must be assumed that those who praised this...</td>\n",
       "      <td>0.134753</td>\n",
       "      <td>1</td>\n",
       "      <td>it must be assumed that those who praised this...</td>\n",
       "      <td>it must be assumed that those who praised this...</td>\n",
       "      <td>must assumed praised film greatest filmed oper...</td>\n",
       "    </tr>\n",
       "    <tr>\n",
       "      <th>4</th>\n",
       "      <td>9495_8</td>\n",
       "      <td>1</td>\n",
       "      <td>Superbly trashy and wondrously unpretentious 8...</td>\n",
       "      <td>-0.024842</td>\n",
       "      <td>0</td>\n",
       "      <td>superbly trashy and wondrously unpretentious 8...</td>\n",
       "      <td>superbly trashy and wondrously unpretentious 8...</td>\n",
       "      <td>superbly trashy wondrously unpretentious 80s e...</td>\n",
       "    </tr>\n",
       "  </tbody>\n",
       "</table>\n",
       "</div>"
      ],
      "text/plain": [
       "       id  sentiment                                             review  \\\n",
       "0  5814_8          1  With all this stuff going down at the moment w...   \n",
       "1  2381_9          1  \\The Classic War of the Worlds\\\" by Timothy Hi...   \n",
       "2  7759_3          0  The film starts with a manager (Nicholas Bell)...   \n",
       "3  3630_4          0  It must be assumed that those who praised this...   \n",
       "4  9495_8          1  Superbly trashy and wondrously unpretentious 8...   \n",
       "\n",
       "   polarity  tb_score                                              lcase  \\\n",
       "0  0.001277         1  with all this stuff going down at the moment w...   \n",
       "1  0.256349         1  \\the classic war of the worlds\\\" by timothy hi...   \n",
       "2 -0.053941         0  the film starts with a manager (nicholas bell)...   \n",
       "3  0.134753         1  it must be assumed that those who praised this...   \n",
       "4 -0.024842         0  superbly trashy and wondrously unpretentious 8...   \n",
       "\n",
       "                                           rmv_punct  \\\n",
       "0  with all this stuff going down at the moment w...   \n",
       "1  the classic war of the worlds by timothy hines...   \n",
       "2  the film starts with a manager nicholas bell g...   \n",
       "3  it must be assumed that those who praised this...   \n",
       "4  superbly trashy and wondrously unpretentious 8...   \n",
       "\n",
       "                                            stpwords  \n",
       "0  stuff going moment mj ive started listening mu...  \n",
       "1  classic war worlds timothy hines entertaining ...  \n",
       "2  film starts manager nicholas bell giving welco...  \n",
       "3  must assumed praised film greatest filmed oper...  \n",
       "4  superbly trashy wondrously unpretentious 80s e...  "
      ]
     },
     "execution_count": 27,
     "metadata": {},
     "output_type": "execute_result"
    }
   ],
   "source": [
    "# evaluate\n",
    "df_tblob.head(5)"
   ]
  },
  {
   "cell_type": "markdown",
   "metadata": {},
   "source": [
    "#### 4. Apply NLTK's PorterStemmer"
   ]
  },
  {
   "cell_type": "code",
   "execution_count": 28,
   "metadata": {},
   "outputs": [],
   "source": [
    "# Load library\n",
    "#from nltk.stem.porter import PorterStemmer\n",
    "from nltk.stem.snowball import SnowballStemmer"
   ]
  },
  {
   "cell_type": "code",
   "execution_count": 29,
   "metadata": {},
   "outputs": [],
   "source": [
    "# Create stemmer\n",
    "# porter = PorterStemmer()\n",
    "stemmer = SnowballStemmer('english')"
   ]
  },
  {
   "cell_type": "code",
   "execution_count": 30,
   "metadata": {},
   "outputs": [
    {
     "data": {
      "text/html": [
       "<div>\n",
       "<style scoped>\n",
       "    .dataframe tbody tr th:only-of-type {\n",
       "        vertical-align: middle;\n",
       "    }\n",
       "\n",
       "    .dataframe tbody tr th {\n",
       "        vertical-align: top;\n",
       "    }\n",
       "\n",
       "    .dataframe thead th {\n",
       "        text-align: right;\n",
       "    }\n",
       "</style>\n",
       "<table border=\"1\" class=\"dataframe\">\n",
       "  <thead>\n",
       "    <tr style=\"text-align: right;\">\n",
       "      <th></th>\n",
       "      <th>id</th>\n",
       "      <th>sentiment</th>\n",
       "      <th>review</th>\n",
       "      <th>polarity</th>\n",
       "      <th>tb_score</th>\n",
       "      <th>lcase</th>\n",
       "      <th>rmv_punct</th>\n",
       "      <th>stpwords</th>\n",
       "    </tr>\n",
       "  </thead>\n",
       "  <tbody>\n",
       "    <tr>\n",
       "      <th>0</th>\n",
       "      <td>5814_8</td>\n",
       "      <td>1</td>\n",
       "      <td>With all this stuff going down at the moment w...</td>\n",
       "      <td>0.001277</td>\n",
       "      <td>1</td>\n",
       "      <td>with all this stuff going down at the moment w...</td>\n",
       "      <td>with all this stuff going down at the moment w...</td>\n",
       "      <td>stuff going moment mj ive started listening mu...</td>\n",
       "    </tr>\n",
       "    <tr>\n",
       "      <th>1</th>\n",
       "      <td>2381_9</td>\n",
       "      <td>1</td>\n",
       "      <td>\\The Classic War of the Worlds\\\" by Timothy Hi...</td>\n",
       "      <td>0.256349</td>\n",
       "      <td>1</td>\n",
       "      <td>\\the classic war of the worlds\\\" by timothy hi...</td>\n",
       "      <td>the classic war of the worlds by timothy hines...</td>\n",
       "      <td>classic war worlds timothy hines entertaining ...</td>\n",
       "    </tr>\n",
       "    <tr>\n",
       "      <th>2</th>\n",
       "      <td>7759_3</td>\n",
       "      <td>0</td>\n",
       "      <td>The film starts with a manager (Nicholas Bell)...</td>\n",
       "      <td>-0.053941</td>\n",
       "      <td>0</td>\n",
       "      <td>the film starts with a manager (nicholas bell)...</td>\n",
       "      <td>the film starts with a manager nicholas bell g...</td>\n",
       "      <td>film starts manager nicholas bell giving welco...</td>\n",
       "    </tr>\n",
       "    <tr>\n",
       "      <th>3</th>\n",
       "      <td>3630_4</td>\n",
       "      <td>0</td>\n",
       "      <td>It must be assumed that those who praised this...</td>\n",
       "      <td>0.134753</td>\n",
       "      <td>1</td>\n",
       "      <td>it must be assumed that those who praised this...</td>\n",
       "      <td>it must be assumed that those who praised this...</td>\n",
       "      <td>must assumed praised film greatest filmed oper...</td>\n",
       "    </tr>\n",
       "    <tr>\n",
       "      <th>4</th>\n",
       "      <td>9495_8</td>\n",
       "      <td>1</td>\n",
       "      <td>Superbly trashy and wondrously unpretentious 8...</td>\n",
       "      <td>-0.024842</td>\n",
       "      <td>0</td>\n",
       "      <td>superbly trashy and wondrously unpretentious 8...</td>\n",
       "      <td>superbly trashy and wondrously unpretentious 8...</td>\n",
       "      <td>superbly trashy wondrously unpretentious 80s e...</td>\n",
       "    </tr>\n",
       "    <tr>\n",
       "      <th>...</th>\n",
       "      <td>...</td>\n",
       "      <td>...</td>\n",
       "      <td>...</td>\n",
       "      <td>...</td>\n",
       "      <td>...</td>\n",
       "      <td>...</td>\n",
       "      <td>...</td>\n",
       "      <td>...</td>\n",
       "    </tr>\n",
       "    <tr>\n",
       "      <th>24995</th>\n",
       "      <td>3453_3</td>\n",
       "      <td>0</td>\n",
       "      <td>It seems like more consideration has gone into...</td>\n",
       "      <td>0.102083</td>\n",
       "      <td>1</td>\n",
       "      <td>it seems like more consideration has gone into...</td>\n",
       "      <td>it seems like more consideration has gone into...</td>\n",
       "      <td>seems like consideration gone imdb reviews fil...</td>\n",
       "    </tr>\n",
       "    <tr>\n",
       "      <th>24996</th>\n",
       "      <td>5064_1</td>\n",
       "      <td>0</td>\n",
       "      <td>I don't believe they made this film. Completel...</td>\n",
       "      <td>0.090813</td>\n",
       "      <td>1</td>\n",
       "      <td>i don't believe they made this film. completel...</td>\n",
       "      <td>i dont believe they made this film completely ...</td>\n",
       "      <td>dont believe made film completely unnecessary ...</td>\n",
       "    </tr>\n",
       "    <tr>\n",
       "      <th>24997</th>\n",
       "      <td>10905_3</td>\n",
       "      <td>0</td>\n",
       "      <td>Guy is a loser. Can't get girls, needs to buil...</td>\n",
       "      <td>0.145256</td>\n",
       "      <td>1</td>\n",
       "      <td>guy is a loser. can't get girls, needs to buil...</td>\n",
       "      <td>guy is a loser cant get girls needs to build u...</td>\n",
       "      <td>guy loser cant get girls needs build picked st...</td>\n",
       "    </tr>\n",
       "    <tr>\n",
       "      <th>24998</th>\n",
       "      <td>10194_3</td>\n",
       "      <td>0</td>\n",
       "      <td>This 30 minute documentary Buñuel made in the ...</td>\n",
       "      <td>0.065625</td>\n",
       "      <td>1</td>\n",
       "      <td>this 30 minute documentary buñuel made in the ...</td>\n",
       "      <td>this 30 minute documentary buñuel made in the ...</td>\n",
       "      <td>30 minute documentary buñuel made early 1930s ...</td>\n",
       "    </tr>\n",
       "    <tr>\n",
       "      <th>24999</th>\n",
       "      <td>8478_8</td>\n",
       "      <td>1</td>\n",
       "      <td>I saw this movie as a child and it broke my he...</td>\n",
       "      <td>0.239295</td>\n",
       "      <td>1</td>\n",
       "      <td>i saw this movie as a child and it broke my he...</td>\n",
       "      <td>i saw this movie as a child and it broke my he...</td>\n",
       "      <td>saw movie child broke heart story unfinished e...</td>\n",
       "    </tr>\n",
       "  </tbody>\n",
       "</table>\n",
       "<p>25000 rows × 8 columns</p>\n",
       "</div>"
      ],
      "text/plain": [
       "            id  sentiment                                             review  \\\n",
       "0       5814_8          1  With all this stuff going down at the moment w...   \n",
       "1       2381_9          1  \\The Classic War of the Worlds\\\" by Timothy Hi...   \n",
       "2       7759_3          0  The film starts with a manager (Nicholas Bell)...   \n",
       "3       3630_4          0  It must be assumed that those who praised this...   \n",
       "4       9495_8          1  Superbly trashy and wondrously unpretentious 8...   \n",
       "...        ...        ...                                                ...   \n",
       "24995   3453_3          0  It seems like more consideration has gone into...   \n",
       "24996   5064_1          0  I don't believe they made this film. Completel...   \n",
       "24997  10905_3          0  Guy is a loser. Can't get girls, needs to buil...   \n",
       "24998  10194_3          0  This 30 minute documentary Buñuel made in the ...   \n",
       "24999   8478_8          1  I saw this movie as a child and it broke my he...   \n",
       "\n",
       "       polarity  tb_score                                              lcase  \\\n",
       "0      0.001277         1  with all this stuff going down at the moment w...   \n",
       "1      0.256349         1  \\the classic war of the worlds\\\" by timothy hi...   \n",
       "2     -0.053941         0  the film starts with a manager (nicholas bell)...   \n",
       "3      0.134753         1  it must be assumed that those who praised this...   \n",
       "4     -0.024842         0  superbly trashy and wondrously unpretentious 8...   \n",
       "...         ...       ...                                                ...   \n",
       "24995  0.102083         1  it seems like more consideration has gone into...   \n",
       "24996  0.090813         1  i don't believe they made this film. completel...   \n",
       "24997  0.145256         1  guy is a loser. can't get girls, needs to buil...   \n",
       "24998  0.065625         1  this 30 minute documentary buñuel made in the ...   \n",
       "24999  0.239295         1  i saw this movie as a child and it broke my he...   \n",
       "\n",
       "                                               rmv_punct  \\\n",
       "0      with all this stuff going down at the moment w...   \n",
       "1      the classic war of the worlds by timothy hines...   \n",
       "2      the film starts with a manager nicholas bell g...   \n",
       "3      it must be assumed that those who praised this...   \n",
       "4      superbly trashy and wondrously unpretentious 8...   \n",
       "...                                                  ...   \n",
       "24995  it seems like more consideration has gone into...   \n",
       "24996  i dont believe they made this film completely ...   \n",
       "24997  guy is a loser cant get girls needs to build u...   \n",
       "24998  this 30 minute documentary buñuel made in the ...   \n",
       "24999  i saw this movie as a child and it broke my he...   \n",
       "\n",
       "                                                stpwords  \n",
       "0      stuff going moment mj ive started listening mu...  \n",
       "1      classic war worlds timothy hines entertaining ...  \n",
       "2      film starts manager nicholas bell giving welco...  \n",
       "3      must assumed praised film greatest filmed oper...  \n",
       "4      superbly trashy wondrously unpretentious 80s e...  \n",
       "...                                                  ...  \n",
       "24995  seems like consideration gone imdb reviews fil...  \n",
       "24996  dont believe made film completely unnecessary ...  \n",
       "24997  guy loser cant get girls needs build picked st...  \n",
       "24998  30 minute documentary buñuel made early 1930s ...  \n",
       "24999  saw movie child broke heart story unfinished e...  \n",
       "\n",
       "[25000 rows x 8 columns]"
      ]
     },
     "execution_count": 30,
     "metadata": {},
     "output_type": "execute_result"
    }
   ],
   "source": [
    "df_tblob"
   ]
  },
  {
   "cell_type": "code",
   "execution_count": 31,
   "metadata": {},
   "outputs": [],
   "source": [
    "# Stem every word\n",
    "df_tblob['pstemmer'] = df_tblob['stpwords'].str.split().apply(lambda x: [stemmer.stem(y) for y in x])"
   ]
  },
  {
   "cell_type": "code",
   "execution_count": 44,
   "metadata": {},
   "outputs": [
    {
     "data": {
      "text/html": [
       "<div>\n",
       "<style scoped>\n",
       "    .dataframe tbody tr th:only-of-type {\n",
       "        vertical-align: middle;\n",
       "    }\n",
       "\n",
       "    .dataframe tbody tr th {\n",
       "        vertical-align: top;\n",
       "    }\n",
       "\n",
       "    .dataframe thead th {\n",
       "        text-align: right;\n",
       "    }\n",
       "</style>\n",
       "<table border=\"1\" class=\"dataframe\">\n",
       "  <thead>\n",
       "    <tr style=\"text-align: right;\">\n",
       "      <th></th>\n",
       "      <th>id</th>\n",
       "      <th>sentiment</th>\n",
       "      <th>review</th>\n",
       "      <th>polarity</th>\n",
       "      <th>tb_score</th>\n",
       "      <th>lcase</th>\n",
       "      <th>rmv_punct</th>\n",
       "      <th>stpwords</th>\n",
       "      <th>pstemmer</th>\n",
       "    </tr>\n",
       "  </thead>\n",
       "  <tbody>\n",
       "    <tr>\n",
       "      <th>0</th>\n",
       "      <td>5814_8</td>\n",
       "      <td>1</td>\n",
       "      <td>With all this stuff going down at the moment with MJ i've started listening to his music, watching the odd documentary here and there, watched The Wiz and watched Moonwalker again. Maybe i just want to get a certain insight into this guy who i thought was really cool in the eighties just to maybe make up my mind whether he is guilty or innocent. Moonwalker is part biography, part feature film which i remember going to see at the cinema when it was originally released. Some of it has subtle messages about MJ's feeling towards the press and also the obvious message of drugs are bad m'kay.&lt;br /&gt;&lt;br /&gt;Visually impressive but of course this is all about Michael Jackson so unless you remotely like MJ in anyway then you are going to hate this and find it boring. Some may call MJ an egotist for consenting to the making of this movie BUT MJ and most of his fans would say that he made it for the fans which if true is really nice of him.&lt;br /&gt;&lt;br /&gt;The actual feature film bit when it finally starts is only on for 20 minutes or so excluding the Smooth Criminal sequence and Joe Pesci is convincing as a psychopathic all powerful drug lord. Why he wants MJ dead so bad is beyond me. Because MJ overheard his plans? Nah, Joe Pesci's character ranted that he wanted people to know it is he who is supplying drugs etc so i dunno, maybe he just hates MJ's music.&lt;br /&gt;&lt;br /&gt;Lots of cool things in this like MJ turning into a car and a robot and the whole Speed Demon sequence. Also, the director must have had the patience of a saint when it came to filming the kiddy Bad sequence as usually directors hate working with one kid let alone a whole bunch of them performing a complex dance scene.&lt;br /&gt;&lt;br /&gt;Bottom line, this movie is for people who like MJ on one level or another (which i think is most people). If not, then stay away. It does try and give off a wholesome message and ironically MJ's bestest buddy in this movie is a girl! Michael Jackson is truly one of the most talented people ever to grace this planet but is he guilty? Well, with all the attention i've gave this subject....hmmm well i don't know because people can be different behind closed doors, i know this for a fact. He is either an extremely nice but stupid guy or one of the most sickest liars. I hope he is not the latter.</td>\n",
       "      <td>0.001277</td>\n",
       "      <td>1</td>\n",
       "      <td>with all this stuff going down at the moment with mj i've started listening to his music, watching the odd documentary here and there, watched the wiz and watched moonwalker again. maybe i just want to get a certain insight into this guy who i thought was really cool in the eighties just to maybe make up my mind whether he is guilty or innocent. moonwalker is part biography, part feature film which i remember going to see at the cinema when it was originally released. some of it has subtle messages about mj's feeling towards the press and also the obvious message of drugs are bad m'kay.&lt;br /&gt;&lt;br /&gt;visually impressive but of course this is all about michael jackson so unless you remotely like mj in anyway then you are going to hate this and find it boring. some may call mj an egotist for consenting to the making of this movie but mj and most of his fans would say that he made it for the fans which if true is really nice of him.&lt;br /&gt;&lt;br /&gt;the actual feature film bit when it finally starts is only on for 20 minutes or so excluding the smooth criminal sequence and joe pesci is convincing as a psychopathic all powerful drug lord. why he wants mj dead so bad is beyond me. because mj overheard his plans? nah, joe pesci's character ranted that he wanted people to know it is he who is supplying drugs etc so i dunno, maybe he just hates mj's music.&lt;br /&gt;&lt;br /&gt;lots of cool things in this like mj turning into a car and a robot and the whole speed demon sequence. also, the director must have had the patience of a saint when it came to filming the kiddy bad sequence as usually directors hate working with one kid let alone a whole bunch of them performing a complex dance scene.&lt;br /&gt;&lt;br /&gt;bottom line, this movie is for people who like mj on one level or another (which i think is most people). if not, then stay away. it does try and give off a wholesome message and ironically mj's bestest buddy in this movie is a girl! michael jackson is truly one of the most talented people ever to grace this planet but is he guilty? well, with all the attention i've gave this subject....hmmm well i don't know because people can be different behind closed doors, i know this for a fact. he is either an extremely nice but stupid guy or one of the most sickest liars. i hope he is not the latter.</td>\n",
       "      <td>with all this stuff going down at the moment with mj ive started listening to his music watching the odd documentary here and there watched the wiz and watched moonwalker again maybe i just want to get a certain insight into this guy who i thought was really cool in the eighties just to maybe make up my mind whether he is guilty or innocent moonwalker is part biography part feature film which i remember going to see at the cinema when it was originally released some of it has subtle messages about mjs feeling towards the press and also the obvious message of drugs are bad mkaybr br visually impressive but of course this is all about michael jackson so unless you remotely like mj in anyway then you are going to hate this and find it boring some may call mj an egotist for consenting to the making of this movie but mj and most of his fans would say that he made it for the fans which if true is really nice of himbr br the actual feature film bit when it finally starts is only on for 20 minutes or so excluding the smooth criminal sequence and joe pesci is convincing as a psychopathic all powerful drug lord why he wants mj dead so bad is beyond me because mj overheard his plans nah joe pescis character ranted that he wanted people to know it is he who is supplying drugs etc so i dunno maybe he just hates mjs musicbr br lots of cool things in this like mj turning into a car and a robot and the whole speed demon sequence also the director must have had the patience of a saint when it came to filming the kiddy bad sequence as usually directors hate working with one kid let alone a whole bunch of them performing a complex dance scenebr br bottom line this movie is for people who like mj on one level or another which i think is most people if not then stay away it does try and give off a wholesome message and ironically mjs bestest buddy in this movie is a girl michael jackson is truly one of the most talented people ever to grace this planet but is he guilty well with all the attention ive gave this subjecthmmm well i dont know because people can be different behind closed doors i know this for a fact he is either an extremely nice but stupid guy or one of the most sickest liars i hope he is not the latter</td>\n",
       "      <td>stuff going moment mj ive started listening music watching odd documentary watched wiz watched moonwalker maybe want get certain insight guy thought really cool eighties maybe make mind whether guilty innocent moonwalker part biography part feature film remember going see cinema originally released subtle messages mjs feeling towards press also obvious message drugs bad mkaybr br visually impressive course michael jackson unless remotely like mj anyway going hate find boring may call mj egotist consenting making movie mj fans would say made fans true really nice himbr br actual feature film bit finally starts 20 minutes excluding smooth criminal sequence joe pesci convincing psychopathic powerful drug lord wants mj dead bad beyond mj overheard plans nah joe pescis character ranted wanted people know supplying drugs etc dunno maybe hates mjs musicbr br lots cool things like mj turning car robot whole speed demon sequence also director must patience saint came filming kiddy bad sequence usually directors hate working one kid let alone whole bunch performing complex dance scenebr br bottom line movie people like mj one level another think people stay away try give wholesome message ironically mjs bestest buddy movie girl michael jackson truly one talented people ever grace planet guilty well attention ive gave subjecthmmm well dont know people different behind closed doors know fact either extremely nice stupid guy one sickest liars hope latter</td>\n",
       "      <td>[stuff, go, moment, mj, ive, start, listen, music, watch, odd, documentari, watch, wiz, watch, moonwalk, mayb, want, get, certain, insight, guy, thought, realli, cool, eighti, mayb, make, mind, whether, guilti, innoc, moonwalk, part, biographi, part, featur, film, rememb, go, see, cinema, origin, releas, subtl, messag, mjs, feel, toward, press, also, obvious, messag, drug, bad, mkaybr, br, visual, impress, cours, michael, jackson, unless, remot, like, mj, anyway, go, hate, find, bore, may, call, mj, egotist, consent, make, movi, mj, fan, would, say, made, fan, true, realli, nice, himbr, br, actual, featur, film, bit, final, start, 20, minut, exclud, smooth, crimin, sequenc, ...]</td>\n",
       "    </tr>\n",
       "    <tr>\n",
       "      <th>1</th>\n",
       "      <td>2381_9</td>\n",
       "      <td>1</td>\n",
       "      <td>\\The Classic War of the Worlds\\\" by Timothy Hines is a very entertaining film that obviously goes to great effort and lengths to faithfully recreate H. G. Wells' classic book. Mr. Hines succeeds in doing so. I, and those who watched his film with me, appreciated the fact that it was not the standard, predictable Hollywood fare that comes out every year, e.g. the Spielberg version with Tom Cruise that had only the slightest resemblance to the book. Obviously, everyone looks for different things in a movie. Those who envision themselves as amateur \\\"critics\\\" look only to criticize everything they can. Others rate a movie on more important bases,like being entertained, which is why most people never agree with the \\\"critics\\\". We enjoyed the effort Mr. Hines put into being faithful to H.G. Wells' classic novel, and we found it to be very entertaining. This made it easy to overlook what the \\\"critics\\\" perceive to be its shortcomings.\"</td>\n",
       "      <td>0.256349</td>\n",
       "      <td>1</td>\n",
       "      <td>\\the classic war of the worlds\\\" by timothy hines is a very entertaining film that obviously goes to great effort and lengths to faithfully recreate h. g. wells' classic book. mr. hines succeeds in doing so. i, and those who watched his film with me, appreciated the fact that it was not the standard, predictable hollywood fare that comes out every year, e.g. the spielberg version with tom cruise that had only the slightest resemblance to the book. obviously, everyone looks for different things in a movie. those who envision themselves as amateur \\\"critics\\\" look only to criticize everything they can. others rate a movie on more important bases,like being entertained, which is why most people never agree with the \\\"critics\\\". we enjoyed the effort mr. hines put into being faithful to h.g. wells' classic novel, and we found it to be very entertaining. this made it easy to overlook what the \\\"critics\\\" perceive to be its shortcomings.\"</td>\n",
       "      <td>the classic war of the worlds by timothy hines is a very entertaining film that obviously goes to great effort and lengths to faithfully recreate h g wells classic book mr hines succeeds in doing so i and those who watched his film with me appreciated the fact that it was not the standard predictable hollywood fare that comes out every year eg the spielberg version with tom cruise that had only the slightest resemblance to the book obviously everyone looks for different things in a movie those who envision themselves as amateur critics look only to criticize everything they can others rate a movie on more important baseslike being entertained which is why most people never agree with the critics we enjoyed the effort mr hines put into being faithful to hg wells classic novel and we found it to be very entertaining this made it easy to overlook what the critics perceive to be its shortcomings</td>\n",
       "      <td>classic war worlds timothy hines entertaining film obviously goes great effort lengths faithfully recreate h g wells classic book mr hines succeeds watched film appreciated fact standard predictable hollywood fare comes every year eg spielberg version tom cruise slightest resemblance book obviously everyone looks different things movie envision amateur critics look criticize everything others rate movie important baseslike entertained people never agree critics enjoyed effort mr hines put faithful hg wells classic novel found entertaining made easy overlook critics perceive shortcomings</td>\n",
       "      <td>[classic, war, world, timothi, hine, entertain, film, obvious, goe, great, effort, length, faith, recreat, h, g, well, classic, book, mr, hine, succeed, watch, film, appreci, fact, standard, predict, hollywood, fare, come, everi, year, eg, spielberg, version, tom, cruis, slightest, resembl, book, obvious, everyon, look, differ, thing, movi, envis, amateur, critic, look, critic, everyth, other, rate, movi, import, baseslik, entertain, peopl, never, agre, critic, enjoy, effort, mr, hine, put, faith, hg, well, classic, novel, found, entertain, made, easi, overlook, critic, perceiv, shortcom]</td>\n",
       "    </tr>\n",
       "    <tr>\n",
       "      <th>2</th>\n",
       "      <td>7759_3</td>\n",
       "      <td>0</td>\n",
       "      <td>The film starts with a manager (Nicholas Bell) giving welcome investors (Robert Carradine) to Primal Park . A secret project mutating a primal animal using fossilized DNA, like ¨Jurassik Park¨, and some scientists resurrect one of nature's most fearsome predators, the Sabretooth tiger or Smilodon . Scientific ambition turns deadly, however, and when the high voltage fence is opened the creature escape and begins savagely stalking its prey - the human visitors , tourists and scientific.Meanwhile some youngsters enter in the restricted area of the security center and are attacked by a pack of large pre-historical animals which are deadlier and bigger . In addition , a security agent (Stacy Haiduk) and her mate (Brian Wimmer) fight hardly against the carnivorous Smilodons. The Sabretooths, themselves , of course, are the real star stars and they are astounding terrifyingly though not convincing. The giant animals savagely are stalking its prey and the group run afoul and fight against one nature's most fearsome predators. Furthermore a third Sabretooth more dangerous and slow stalks its victims.&lt;br /&gt;&lt;br /&gt;The movie delivers the goods with lots of blood and gore as beheading, hair-raising chills,full of scares when the Sabretooths appear with mediocre special effects.The story provides exciting and stirring entertainment but it results to be quite boring .The giant animals are majority made by computer generator and seem totally lousy .Middling performances though the players reacting appropriately to becoming food.Actors give vigorously physical performances dodging the beasts ,running,bound and leaps or dangling over walls . And it packs a ridiculous final deadly scene. No for small kids by realistic,gory and violent attack scenes . Other films about Sabretooths or Smilodon are the following : ¨Sabretooth(2002)¨by James R Hickox with Vanessa Angel, David Keith and John Rhys Davies and the much better ¨10.000 BC(2006)¨ by Roland Emmerich with with Steven Strait, Cliff Curtis and Camilla Belle. This motion picture filled with bloody moments is badly directed by George Miller and with no originality because takes too many elements from previous films. Miller is an Australian director usually working for television (Tidal wave, Journey to the center of the earth, and many others) and occasionally for cinema ( The man from Snowy river, Zeus and Roxanne,Robinson Crusoe ). Rating : Below average, bottom of barrel.</td>\n",
       "      <td>-0.053941</td>\n",
       "      <td>0</td>\n",
       "      <td>the film starts with a manager (nicholas bell) giving welcome investors (robert carradine) to primal park . a secret project mutating a primal animal using fossilized dna, like ¨jurassik park¨, and some scientists resurrect one of nature's most fearsome predators, the sabretooth tiger or smilodon . scientific ambition turns deadly, however, and when the high voltage fence is opened the creature escape and begins savagely stalking its prey - the human visitors , tourists and scientific.meanwhile some youngsters enter in the restricted area of the security center and are attacked by a pack of large pre-historical animals which are deadlier and bigger . in addition , a security agent (stacy haiduk) and her mate (brian wimmer) fight hardly against the carnivorous smilodons. the sabretooths, themselves , of course, are the real star stars and they are astounding terrifyingly though not convincing. the giant animals savagely are stalking its prey and the group run afoul and fight against one nature's most fearsome predators. furthermore a third sabretooth more dangerous and slow stalks its victims.&lt;br /&gt;&lt;br /&gt;the movie delivers the goods with lots of blood and gore as beheading, hair-raising chills,full of scares when the sabretooths appear with mediocre special effects.the story provides exciting and stirring entertainment but it results to be quite boring .the giant animals are majority made by computer generator and seem totally lousy .middling performances though the players reacting appropriately to becoming food.actors give vigorously physical performances dodging the beasts ,running,bound and leaps or dangling over walls . and it packs a ridiculous final deadly scene. no for small kids by realistic,gory and violent attack scenes . other films about sabretooths or smilodon are the following : ¨sabretooth(2002)¨by james r hickox with vanessa angel, david keith and john rhys davies and the much better ¨10.000 bc(2006)¨ by roland emmerich with with steven strait, cliff curtis and camilla belle. this motion picture filled with bloody moments is badly directed by george miller and with no originality because takes too many elements from previous films. miller is an australian director usually working for television (tidal wave, journey to the center of the earth, and many others) and occasionally for cinema ( the man from snowy river, zeus and roxanne,robinson crusoe ). rating : below average, bottom of barrel.</td>\n",
       "      <td>the film starts with a manager nicholas bell giving welcome investors robert carradine to primal park  a secret project mutating a primal animal using fossilized dna like jurassik park and some scientists resurrect one of natures most fearsome predators the sabretooth tiger or smilodon  scientific ambition turns deadly however and when the high voltage fence is opened the creature escape and begins savagely stalking its prey  the human visitors  tourists and scientificmeanwhile some youngsters enter in the restricted area of the security center and are attacked by a pack of large prehistorical animals which are deadlier and bigger  in addition  a security agent stacy haiduk and her mate brian wimmer fight hardly against the carnivorous smilodons the sabretooths themselves  of course are the real star stars and they are astounding terrifyingly though not convincing the giant animals savagely are stalking its prey and the group run afoul and fight against one natures most fearsome predators furthermore a third sabretooth more dangerous and slow stalks its victimsbr br the movie delivers the goods with lots of blood and gore as beheading hairraising chillsfull of scares when the sabretooths appear with mediocre special effectsthe story provides exciting and stirring entertainment but it results to be quite boring the giant animals are majority made by computer generator and seem totally lousy middling performances though the players reacting appropriately to becoming foodactors give vigorously physical performances dodging the beasts runningbound and leaps or dangling over walls  and it packs a ridiculous final deadly scene no for small kids by realisticgory and violent attack scenes  other films about sabretooths or smilodon are the following  sabretooth2002by james r hickox with vanessa angel david keith and john rhys davies and the much better 10000 bc2006 by roland emmerich with with steven strait cliff curtis and camilla belle this motion picture filled with bloody moments is badly directed by george miller and with no originality because takes too many elements from previous films miller is an australian director usually working for television tidal wave journey to the center of the earth and many others and occasionally for cinema  the man from snowy river zeus and roxannerobinson crusoe  rating  below average bottom of barrel</td>\n",
       "      <td>film starts manager nicholas bell giving welcome investors robert carradine primal park secret project mutating primal animal using fossilized dna like jurassik park scientists resurrect one natures fearsome predators sabretooth tiger smilodon scientific ambition turns deadly however high voltage fence opened creature escape begins savagely stalking prey human visitors tourists scientificmeanwhile youngsters enter restricted area security center attacked pack large prehistorical animals deadlier bigger addition security agent stacy haiduk mate brian wimmer fight hardly carnivorous smilodons sabretooths course real star stars astounding terrifyingly though convincing giant animals savagely stalking prey group run afoul fight one natures fearsome predators furthermore third sabretooth dangerous slow stalks victimsbr br movie delivers goods lots blood gore beheading hairraising chillsfull scares sabretooths appear mediocre special effectsthe story provides exciting stirring entertainment results quite boring giant animals majority made computer generator seem totally lousy middling performances though players reacting appropriately becoming foodactors give vigorously physical performances dodging beasts runningbound leaps dangling walls packs ridiculous final deadly scene small kids realisticgory violent attack scenes films sabretooths smilodon following sabretooth2002by james r hickox vanessa angel david keith john rhys davies much better 10000 bc2006 roland emmerich steven strait cliff curtis camilla belle motion picture filled bloody moments badly directed george miller originality takes many elements previous films miller australian director usually working television tidal wave journey center earth many others occasionally cinema man snowy river zeus roxannerobinson crusoe rating average bottom barrel</td>\n",
       "      <td>[film, start, manag, nichola, bell, give, welcom, investor, robert, carradin, primal, park, secret, project, mutat, primal, anim, use, fossil, dna, like, jurassik, park, scientist, resurrect, one, natur, fearsom, predat, sabretooth, tiger, smilodon, scientif, ambit, turn, dead, howev, high, voltag, fenc, open, creatur, escap, begin, savag, stalk, prey, human, visitor, tourist, scientificmeanwhil, youngster, enter, restrict, area, secur, center, attack, pack, larg, prehistor, anim, deadlier, bigger, addit, secur, agent, staci, haiduk, mate, brian, wimmer, fight, hard, carnivor, smilodon, sabretooth, cours, real, star, star, astound, terrifi, though, convinc, giant, anim, savag, stalk, prey, group, run, afoul, fight, one, natur, fearsom, predat, furthermor, third, ...]</td>\n",
       "    </tr>\n",
       "    <tr>\n",
       "      <th>3</th>\n",
       "      <td>3630_4</td>\n",
       "      <td>0</td>\n",
       "      <td>It must be assumed that those who praised this film (\\the greatest filmed opera ever,\\\" didn't I read somewhere?) either don't care for opera, don't care for Wagner, or don't care about anything except their desire to appear Cultured. Either as a representation of Wagner's swan-song, or as a movie, this strikes me as an unmitigated disaster, with a leaden reading of the score matched to a tricksy, lugubrious realisation of the text.&lt;br /&gt;&lt;br /&gt;It's questionable that people with ideas as to what an opera (or, for that matter, a play, especially one by Shakespeare) is \\\"about\\\" should be allowed anywhere near a theatre or film studio; Syberberg, very fashionably, but without the smallest justification from Wagner's text, decided that Parsifal is \\\"about\\\" bisexual integration, so that the title character, in the latter stages, transmutes into a kind of beatnik babe, though one who continues to sing high tenor -- few if any of the actors in the film are the singers, and we get a double dose of Armin Jordan, the conductor, who is seen as the face (but not heard as the voice) of Amfortas, and also appears monstrously in double exposure as a kind of Batonzilla or Conductor Who Ate Monsalvat during the playing of the Good Friday music -- in which, by the way, the transcendant loveliness of nature is represented by a scattering of shopworn and flaccid crocuses stuck in ill-laid turf, an expedient which baffles me. In the theatre we sometimes have to piece out such imperfections with our thoughts, but I can't think why Syberberg couldn't splice in, for Parsifal and Gurnemanz, mountain pasture as lush as was provided for Julie Andrews in Sound of Music...&lt;br /&gt;&lt;br /&gt;The sound is hard to endure, the high voices and the trumpets in particular possessing an aural glare that adds another sort of fatigue to our impatience with the uninspired conducting and paralytic unfolding of the ritual. Someone in another review mentioned the 1951 Bayreuth recording, and Knappertsbusch, though his tempi are often very slow, had what Jordan altogether lacks, a sense of pulse, a feeling for the ebb and flow of the music -- and, after half a century, the orchestral sound in that set, in modern pressings, is still superior to this film.\"</td>\n",
       "      <td>0.134753</td>\n",
       "      <td>1</td>\n",
       "      <td>it must be assumed that those who praised this film (\\the greatest filmed opera ever,\\\" didn't i read somewhere?) either don't care for opera, don't care for wagner, or don't care about anything except their desire to appear cultured. either as a representation of wagner's swan-song, or as a movie, this strikes me as an unmitigated disaster, with a leaden reading of the score matched to a tricksy, lugubrious realisation of the text.&lt;br /&gt;&lt;br /&gt;it's questionable that people with ideas as to what an opera (or, for that matter, a play, especially one by shakespeare) is \\\"about\\\" should be allowed anywhere near a theatre or film studio; syberberg, very fashionably, but without the smallest justification from wagner's text, decided that parsifal is \\\"about\\\" bisexual integration, so that the title character, in the latter stages, transmutes into a kind of beatnik babe, though one who continues to sing high tenor -- few if any of the actors in the film are the singers, and we get a double dose of armin jordan, the conductor, who is seen as the face (but not heard as the voice) of amfortas, and also appears monstrously in double exposure as a kind of batonzilla or conductor who ate monsalvat during the playing of the good friday music -- in which, by the way, the transcendant loveliness of nature is represented by a scattering of shopworn and flaccid crocuses stuck in ill-laid turf, an expedient which baffles me. in the theatre we sometimes have to piece out such imperfections with our thoughts, but i can't think why syberberg couldn't splice in, for parsifal and gurnemanz, mountain pasture as lush as was provided for julie andrews in sound of music...&lt;br /&gt;&lt;br /&gt;the sound is hard to endure, the high voices and the trumpets in particular possessing an aural glare that adds another sort of fatigue to our impatience with the uninspired conducting and paralytic unfolding of the ritual. someone in another review mentioned the 1951 bayreuth recording, and knappertsbusch, though his tempi are often very slow, had what jordan altogether lacks, a sense of pulse, a feeling for the ebb and flow of the music -- and, after half a century, the orchestral sound in that set, in modern pressings, is still superior to this film.\"</td>\n",
       "      <td>it must be assumed that those who praised this film the greatest filmed opera ever didnt i read somewhere either dont care for opera dont care for wagner or dont care about anything except their desire to appear cultured either as a representation of wagners swansong or as a movie this strikes me as an unmitigated disaster with a leaden reading of the score matched to a tricksy lugubrious realisation of the textbr br its questionable that people with ideas as to what an opera or for that matter a play especially one by shakespeare is about should be allowed anywhere near a theatre or film studio syberberg very fashionably but without the smallest justification from wagners text decided that parsifal is about bisexual integration so that the title character in the latter stages transmutes into a kind of beatnik babe though one who continues to sing high tenor  few if any of the actors in the film are the singers and we get a double dose of armin jordan the conductor who is seen as the face but not heard as the voice of amfortas and also appears monstrously in double exposure as a kind of batonzilla or conductor who ate monsalvat during the playing of the good friday music  in which by the way the transcendant loveliness of nature is represented by a scattering of shopworn and flaccid crocuses stuck in illlaid turf an expedient which baffles me in the theatre we sometimes have to piece out such imperfections with our thoughts but i cant think why syberberg couldnt splice in for parsifal and gurnemanz mountain pasture as lush as was provided for julie andrews in sound of musicbr br the sound is hard to endure the high voices and the trumpets in particular possessing an aural glare that adds another sort of fatigue to our impatience with the uninspired conducting and paralytic unfolding of the ritual someone in another review mentioned the 1951 bayreuth recording and knappertsbusch though his tempi are often very slow had what jordan altogether lacks a sense of pulse a feeling for the ebb and flow of the music  and after half a century the orchestral sound in that set in modern pressings is still superior to this film</td>\n",
       "      <td>must assumed praised film greatest filmed opera ever didnt read somewhere either dont care opera dont care wagner dont care anything except desire appear cultured either representation wagners swansong movie strikes unmitigated disaster leaden reading score matched tricksy lugubrious realisation textbr br questionable people ideas opera matter play especially one shakespeare allowed anywhere near theatre film studio syberberg fashionably without smallest justification wagners text decided parsifal bisexual integration title character latter stages transmutes kind beatnik babe though one continues sing high tenor actors film singers get double dose armin jordan conductor seen face heard voice amfortas also appears monstrously double exposure kind batonzilla conductor ate monsalvat playing good friday music way transcendant loveliness nature represented scattering shopworn flaccid crocuses stuck illlaid turf expedient baffles theatre sometimes piece imperfections thoughts cant think syberberg couldnt splice parsifal gurnemanz mountain pasture lush provided julie andrews sound musicbr br sound hard endure high voices trumpets particular possessing aural glare adds another sort fatigue impatience uninspired conducting paralytic unfolding ritual someone another review mentioned 1951 bayreuth recording knappertsbusch though tempi often slow jordan altogether lacks sense pulse feeling ebb flow music half century orchestral sound set modern pressings still superior film</td>\n",
       "      <td>[must, assum, prais, film, greatest, film, opera, ever, didnt, read, somewher, either, dont, care, opera, dont, care, wagner, dont, care, anyth, except, desir, appear, cultur, either, represent, wagner, swansong, movi, strike, unmitig, disast, leaden, read, score, match, tricksi, lugubri, realis, textbr, br, question, peopl, idea, opera, matter, play, especi, one, shakespear, allow, anywher, near, theatr, film, studio, syberberg, fashion, without, smallest, justif, wagner, text, decid, parsif, bisexu, integr, titl, charact, latter, stage, transmut, kind, beatnik, babe, though, one, continu, sing, high, tenor, actor, film, singer, get, doubl, dose, armin, jordan, conductor, seen, face, heard, voic, amforta, also, appear, monstrous, doubl, ...]</td>\n",
       "    </tr>\n",
       "    <tr>\n",
       "      <th>4</th>\n",
       "      <td>9495_8</td>\n",
       "      <td>1</td>\n",
       "      <td>Superbly trashy and wondrously unpretentious 80's exploitation, hooray! The pre-credits opening sequences somewhat give the false impression that we're dealing with a serious and harrowing drama, but you need not fear because barely ten minutes later we're up until our necks in nonsensical chainsaw battles, rough fist-fights, lurid dialogs and gratuitous nudity! Bo and Ingrid are two orphaned siblings with an unusually close and even slightly perverted relationship. Can you imagine playfully ripping off the towel that covers your sister's naked body and then stare at her unshaven genitals for several whole minutes? Well, Bo does that to his sister and, judging by her dubbed laughter, she doesn't mind at all. Sick, dude! Anyway, as kids they fled from Russia with their parents, but nasty soldiers brutally slaughtered mommy and daddy. A friendly smuggler took custody over them, however, and even raised and trained Bo and Ingrid into expert smugglers. When the actual plot lifts off, 20 years later, they're facing their ultimate quest as the mythical and incredibly valuable White Fire diamond is coincidentally found in a mine. Very few things in life ever made as little sense as the plot and narrative structure of \\White Fire\\\", but it sure is a lot of fun to watch. Most of the time you have no clue who's beating up who or for what cause (and I bet the actors understood even less) but whatever! The violence is magnificently grotesque and every single plot twist is pleasingly retarded. The script goes totally bonkers beyond repair when suddenly  and I won't reveal for what reason  Bo needs a replacement for Ingrid and Fred Williamson enters the scene with a big cigar in his mouth and his sleazy black fingers all over the local prostitutes. Bo's principal opponent is an Italian chick with big breasts but a hideous accent, the preposterous but catchy theme song plays at least a dozen times throughout the film, there's the obligatory \\\"we're-falling-in-love\\\" montage and loads of other attractions! My God, what a brilliant experience. The original French title translates itself as \\\"Life to Survive\\\", which is uniquely appropriate because it makes just as much sense as the rest of the movie: None!\"</td>\n",
       "      <td>-0.024842</td>\n",
       "      <td>0</td>\n",
       "      <td>superbly trashy and wondrously unpretentious 80's exploitation, hooray! the pre-credits opening sequences somewhat give the false impression that we're dealing with a serious and harrowing drama, but you need not fear because barely ten minutes later we're up until our necks in nonsensical chainsaw battles, rough fist-fights, lurid dialogs and gratuitous nudity! bo and ingrid are two orphaned siblings with an unusually close and even slightly perverted relationship. can you imagine playfully ripping off the towel that covers your sister's naked body and then stare at her unshaven genitals for several whole minutes? well, bo does that to his sister and, judging by her dubbed laughter, she doesn't mind at all. sick, dude! anyway, as kids they fled from russia with their parents, but nasty soldiers brutally slaughtered mommy and daddy. a friendly smuggler took custody over them, however, and even raised and trained bo and ingrid into expert smugglers. when the actual plot lifts off, 20 years later, they're facing their ultimate quest as the mythical and incredibly valuable white fire diamond is coincidentally found in a mine. very few things in life ever made as little sense as the plot and narrative structure of \\white fire\\\", but it sure is a lot of fun to watch. most of the time you have no clue who's beating up who or for what cause (and i bet the actors understood even less) but whatever! the violence is magnificently grotesque and every single plot twist is pleasingly retarded. the script goes totally bonkers beyond repair when suddenly  and i won't reveal for what reason  bo needs a replacement for ingrid and fred williamson enters the scene with a big cigar in his mouth and his sleazy black fingers all over the local prostitutes. bo's principal opponent is an italian chick with big breasts but a hideous accent, the preposterous but catchy theme song plays at least a dozen times throughout the film, there's the obligatory \\\"we're-falling-in-love\\\" montage and loads of other attractions! my god, what a brilliant experience. the original french title translates itself as \\\"life to survive\\\", which is uniquely appropriate because it makes just as much sense as the rest of the movie: none!\"</td>\n",
       "      <td>superbly trashy and wondrously unpretentious 80s exploitation hooray the precredits opening sequences somewhat give the false impression that were dealing with a serious and harrowing drama but you need not fear because barely ten minutes later were up until our necks in nonsensical chainsaw battles rough fistfights lurid dialogs and gratuitous nudity bo and ingrid are two orphaned siblings with an unusually close and even slightly perverted relationship can you imagine playfully ripping off the towel that covers your sisters naked body and then stare at her unshaven genitals for several whole minutes well bo does that to his sister and judging by her dubbed laughter she doesnt mind at all sick dude anyway as kids they fled from russia with their parents but nasty soldiers brutally slaughtered mommy and daddy a friendly smuggler took custody over them however and even raised and trained bo and ingrid into expert smugglers when the actual plot lifts off 20 years later theyre facing their ultimate quest as the mythical and incredibly valuable white fire diamond is coincidentally found in a mine very few things in life ever made as little sense as the plot and narrative structure of white fire but it sure is a lot of fun to watch most of the time you have no clue whos beating up who or for what cause and i bet the actors understood even less but whatever the violence is magnificently grotesque and every single plot twist is pleasingly retarded the script goes totally bonkers beyond repair when suddenly  and i wont reveal for what reason  bo needs a replacement for ingrid and fred williamson enters the scene with a big cigar in his mouth and his sleazy black fingers all over the local prostitutes bos principal opponent is an italian chick with big breasts but a hideous accent the preposterous but catchy theme song plays at least a dozen times throughout the film theres the obligatory werefallinginlove montage and loads of other attractions my god what a brilliant experience the original french title translates itself as life to survive which is uniquely appropriate because it makes just as much sense as the rest of the movie none</td>\n",
       "      <td>superbly trashy wondrously unpretentious 80s exploitation hooray precredits opening sequences somewhat give false impression dealing serious harrowing drama need fear barely ten minutes later necks nonsensical chainsaw battles rough fistfights lurid dialogs gratuitous nudity bo ingrid two orphaned siblings unusually close even slightly perverted relationship imagine playfully ripping towel covers sisters naked body stare unshaven genitals several whole minutes well bo sister judging dubbed laughter doesnt mind sick dude anyway kids fled russia parents nasty soldiers brutally slaughtered mommy daddy friendly smuggler took custody however even raised trained bo ingrid expert smugglers actual plot lifts 20 years later theyre facing ultimate quest mythical incredibly valuable white fire diamond coincidentally found mine things life ever made little sense plot narrative structure white fire sure lot fun watch time clue whos beating cause bet actors understood even less whatever violence magnificently grotesque every single plot twist pleasingly retarded script goes totally bonkers beyond repair suddenly wont reveal reason bo needs replacement ingrid fred williamson enters scene big cigar mouth sleazy black fingers local prostitutes bos principal opponent italian chick big breasts hideous accent preposterous catchy theme song plays least dozen times throughout film theres obligatory werefallinginlove montage loads attractions god brilliant experience original french title translates life survive uniquely appropriate makes much sense rest movie none</td>\n",
       "      <td>[superbl, trashi, wondrous, unpretenti, 80s, exploit, hooray, precredit, open, sequenc, somewhat, give, fals, impress, deal, serious, harrow, drama, need, fear, bare, ten, minut, later, neck, nonsens, chainsaw, battl, rough, fistfight, lurid, dialog, gratuit, nuditi, bo, ingrid, two, orphan, sibl, unusu, close, even, slight, pervert, relationship, imagin, play, rip, towel, cover, sister, nake, bodi, stare, unshaven, genit, sever, whole, minut, well, bo, sister, judg, dub, laughter, doesnt, mind, sick, dude, anyway, kid, fled, russia, parent, nasti, soldier, brutal, slaughter, mommi, daddi, friend, smuggler, took, custodi, howev, even, rais, train, bo, ingrid, expert, smuggler, actual, plot, lift, 20, year, later, theyr, face, ...]</td>\n",
       "    </tr>\n",
       "  </tbody>\n",
       "</table>\n",
       "</div>"
      ],
      "text/plain": [
       "       id  sentiment  \\\n",
       "0  5814_8          1   \n",
       "1  2381_9          1   \n",
       "2  7759_3          0   \n",
       "3  3630_4          0   \n",
       "4  9495_8          1   \n",
       "\n",
       "                                                                                                                                                                                                                                                                                                                                                                                                                                                                                                                                                                                                                                                                                                                                                                                                                                                                                                                                                                                                                                                                                                                                                                                                                                                                                                                                                                                                                                                                                                                                                                                                                                                                                                                                                                                                                                                                                                                                                                                                                                                                                                                                                                                                                                                                                                                                                                                                                                                                                                                                              review  \\\n",
       "0                                                                                                                                                     With all this stuff going down at the moment with MJ i've started listening to his music, watching the odd documentary here and there, watched The Wiz and watched Moonwalker again. Maybe i just want to get a certain insight into this guy who i thought was really cool in the eighties just to maybe make up my mind whether he is guilty or innocent. Moonwalker is part biography, part feature film which i remember going to see at the cinema when it was originally released. Some of it has subtle messages about MJ's feeling towards the press and also the obvious message of drugs are bad m'kay.<br /><br />Visually impressive but of course this is all about Michael Jackson so unless you remotely like MJ in anyway then you are going to hate this and find it boring. Some may call MJ an egotist for consenting to the making of this movie BUT MJ and most of his fans would say that he made it for the fans which if true is really nice of him.<br /><br />The actual feature film bit when it finally starts is only on for 20 minutes or so excluding the Smooth Criminal sequence and Joe Pesci is convincing as a psychopathic all powerful drug lord. Why he wants MJ dead so bad is beyond me. Because MJ overheard his plans? Nah, Joe Pesci's character ranted that he wanted people to know it is he who is supplying drugs etc so i dunno, maybe he just hates MJ's music.<br /><br />Lots of cool things in this like MJ turning into a car and a robot and the whole Speed Demon sequence. Also, the director must have had the patience of a saint when it came to filming the kiddy Bad sequence as usually directors hate working with one kid let alone a whole bunch of them performing a complex dance scene.<br /><br />Bottom line, this movie is for people who like MJ on one level or another (which i think is most people). If not, then stay away. It does try and give off a wholesome message and ironically MJ's bestest buddy in this movie is a girl! Michael Jackson is truly one of the most talented people ever to grace this planet but is he guilty? Well, with all the attention i've gave this subject....hmmm well i don't know because people can be different behind closed doors, i know this for a fact. He is either an extremely nice but stupid guy or one of the most sickest liars. I hope he is not the latter.   \n",
       "1                                                                                                                                                                                                                                                                                                                                                                                                                                                                                                                                                                                                                                                                                                                                                                                                                                                                                                                                                                                                                                                                                                                                                                                                                                                                                                                                                                                                                                                                                                                                                                 \\The Classic War of the Worlds\\\" by Timothy Hines is a very entertaining film that obviously goes to great effort and lengths to faithfully recreate H. G. Wells' classic book. Mr. Hines succeeds in doing so. I, and those who watched his film with me, appreciated the fact that it was not the standard, predictable Hollywood fare that comes out every year, e.g. the Spielberg version with Tom Cruise that had only the slightest resemblance to the book. Obviously, everyone looks for different things in a movie. Those who envision themselves as amateur \\\"critics\\\" look only to criticize everything they can. Others rate a movie on more important bases,like being entertained, which is why most people never agree with the \\\"critics\\\". We enjoyed the effort Mr. Hines put into being faithful to H.G. Wells' classic novel, and we found it to be very entertaining. This made it easy to overlook what the \\\"critics\\\" perceive to be its shortcomings.\"   \n",
       "2  The film starts with a manager (Nicholas Bell) giving welcome investors (Robert Carradine) to Primal Park . A secret project mutating a primal animal using fossilized DNA, like ¨Jurassik Park¨, and some scientists resurrect one of nature's most fearsome predators, the Sabretooth tiger or Smilodon . Scientific ambition turns deadly, however, and when the high voltage fence is opened the creature escape and begins savagely stalking its prey - the human visitors , tourists and scientific.Meanwhile some youngsters enter in the restricted area of the security center and are attacked by a pack of large pre-historical animals which are deadlier and bigger . In addition , a security agent (Stacy Haiduk) and her mate (Brian Wimmer) fight hardly against the carnivorous Smilodons. The Sabretooths, themselves , of course, are the real star stars and they are astounding terrifyingly though not convincing. The giant animals savagely are stalking its prey and the group run afoul and fight against one nature's most fearsome predators. Furthermore a third Sabretooth more dangerous and slow stalks its victims.<br /><br />The movie delivers the goods with lots of blood and gore as beheading, hair-raising chills,full of scares when the Sabretooths appear with mediocre special effects.The story provides exciting and stirring entertainment but it results to be quite boring .The giant animals are majority made by computer generator and seem totally lousy .Middling performances though the players reacting appropriately to becoming food.Actors give vigorously physical performances dodging the beasts ,running,bound and leaps or dangling over walls . And it packs a ridiculous final deadly scene. No for small kids by realistic,gory and violent attack scenes . Other films about Sabretooths or Smilodon are the following : ¨Sabretooth(2002)¨by James R Hickox with Vanessa Angel, David Keith and John Rhys Davies and the much better ¨10.000 BC(2006)¨ by Roland Emmerich with with Steven Strait, Cliff Curtis and Camilla Belle. This motion picture filled with bloody moments is badly directed by George Miller and with no originality because takes too many elements from previous films. Miller is an Australian director usually working for television (Tidal wave, Journey to the center of the earth, and many others) and occasionally for cinema ( The man from Snowy river, Zeus and Roxanne,Robinson Crusoe ). Rating : Below average, bottom of barrel.   \n",
       "3                                                                                                                                                                                                              It must be assumed that those who praised this film (\\the greatest filmed opera ever,\\\" didn't I read somewhere?) either don't care for opera, don't care for Wagner, or don't care about anything except their desire to appear Cultured. Either as a representation of Wagner's swan-song, or as a movie, this strikes me as an unmitigated disaster, with a leaden reading of the score matched to a tricksy, lugubrious realisation of the text.<br /><br />It's questionable that people with ideas as to what an opera (or, for that matter, a play, especially one by Shakespeare) is \\\"about\\\" should be allowed anywhere near a theatre or film studio; Syberberg, very fashionably, but without the smallest justification from Wagner's text, decided that Parsifal is \\\"about\\\" bisexual integration, so that the title character, in the latter stages, transmutes into a kind of beatnik babe, though one who continues to sing high tenor -- few if any of the actors in the film are the singers, and we get a double dose of Armin Jordan, the conductor, who is seen as the face (but not heard as the voice) of Amfortas, and also appears monstrously in double exposure as a kind of Batonzilla or Conductor Who Ate Monsalvat during the playing of the Good Friday music -- in which, by the way, the transcendant loveliness of nature is represented by a scattering of shopworn and flaccid crocuses stuck in ill-laid turf, an expedient which baffles me. In the theatre we sometimes have to piece out such imperfections with our thoughts, but I can't think why Syberberg couldn't splice in, for Parsifal and Gurnemanz, mountain pasture as lush as was provided for Julie Andrews in Sound of Music...<br /><br />The sound is hard to endure, the high voices and the trumpets in particular possessing an aural glare that adds another sort of fatigue to our impatience with the uninspired conducting and paralytic unfolding of the ritual. Someone in another review mentioned the 1951 Bayreuth recording, and Knappertsbusch, though his tempi are often very slow, had what Jordan altogether lacks, a sense of pulse, a feeling for the ebb and flow of the music -- and, after half a century, the orchestral sound in that set, in modern pressings, is still superior to this film.\"   \n",
       "4                                                                                                                                                                                                                            Superbly trashy and wondrously unpretentious 80's exploitation, hooray! The pre-credits opening sequences somewhat give the false impression that we're dealing with a serious and harrowing drama, but you need not fear because barely ten minutes later we're up until our necks in nonsensical chainsaw battles, rough fist-fights, lurid dialogs and gratuitous nudity! Bo and Ingrid are two orphaned siblings with an unusually close and even slightly perverted relationship. Can you imagine playfully ripping off the towel that covers your sister's naked body and then stare at her unshaven genitals for several whole minutes? Well, Bo does that to his sister and, judging by her dubbed laughter, she doesn't mind at all. Sick, dude! Anyway, as kids they fled from Russia with their parents, but nasty soldiers brutally slaughtered mommy and daddy. A friendly smuggler took custody over them, however, and even raised and trained Bo and Ingrid into expert smugglers. When the actual plot lifts off, 20 years later, they're facing their ultimate quest as the mythical and incredibly valuable White Fire diamond is coincidentally found in a mine. Very few things in life ever made as little sense as the plot and narrative structure of \\White Fire\\\", but it sure is a lot of fun to watch. Most of the time you have no clue who's beating up who or for what cause (and I bet the actors understood even less) but whatever! The violence is magnificently grotesque and every single plot twist is pleasingly retarded. The script goes totally bonkers beyond repair when suddenly  and I won't reveal for what reason  Bo needs a replacement for Ingrid and Fred Williamson enters the scene with a big cigar in his mouth and his sleazy black fingers all over the local prostitutes. Bo's principal opponent is an Italian chick with big breasts but a hideous accent, the preposterous but catchy theme song plays at least a dozen times throughout the film, there's the obligatory \\\"we're-falling-in-love\\\" montage and loads of other attractions! My God, what a brilliant experience. The original French title translates itself as \\\"Life to Survive\\\", which is uniquely appropriate because it makes just as much sense as the rest of the movie: None!\"   \n",
       "\n",
       "   polarity  tb_score  \\\n",
       "0  0.001277         1   \n",
       "1  0.256349         1   \n",
       "2 -0.053941         0   \n",
       "3  0.134753         1   \n",
       "4 -0.024842         0   \n",
       "\n",
       "                                                                                                                                                                                                                                                                                                                                                                                                                                                                                                                                                                                                                                                                                                                                                                                                                                                                                                                                                                                                                                                                                                                                                                                                                                                                                                                                                                                                                                                                                                                                                                                                                                                                                                                                                                                                                                                                                                                                                                                                                                                                                                                                                                                                                                                                                                                                                                                                                                                                                                                                               lcase  \\\n",
       "0                                                                                                                                                     with all this stuff going down at the moment with mj i've started listening to his music, watching the odd documentary here and there, watched the wiz and watched moonwalker again. maybe i just want to get a certain insight into this guy who i thought was really cool in the eighties just to maybe make up my mind whether he is guilty or innocent. moonwalker is part biography, part feature film which i remember going to see at the cinema when it was originally released. some of it has subtle messages about mj's feeling towards the press and also the obvious message of drugs are bad m'kay.<br /><br />visually impressive but of course this is all about michael jackson so unless you remotely like mj in anyway then you are going to hate this and find it boring. some may call mj an egotist for consenting to the making of this movie but mj and most of his fans would say that he made it for the fans which if true is really nice of him.<br /><br />the actual feature film bit when it finally starts is only on for 20 minutes or so excluding the smooth criminal sequence and joe pesci is convincing as a psychopathic all powerful drug lord. why he wants mj dead so bad is beyond me. because mj overheard his plans? nah, joe pesci's character ranted that he wanted people to know it is he who is supplying drugs etc so i dunno, maybe he just hates mj's music.<br /><br />lots of cool things in this like mj turning into a car and a robot and the whole speed demon sequence. also, the director must have had the patience of a saint when it came to filming the kiddy bad sequence as usually directors hate working with one kid let alone a whole bunch of them performing a complex dance scene.<br /><br />bottom line, this movie is for people who like mj on one level or another (which i think is most people). if not, then stay away. it does try and give off a wholesome message and ironically mj's bestest buddy in this movie is a girl! michael jackson is truly one of the most talented people ever to grace this planet but is he guilty? well, with all the attention i've gave this subject....hmmm well i don't know because people can be different behind closed doors, i know this for a fact. he is either an extremely nice but stupid guy or one of the most sickest liars. i hope he is not the latter.   \n",
       "1                                                                                                                                                                                                                                                                                                                                                                                                                                                                                                                                                                                                                                                                                                                                                                                                                                                                                                                                                                                                                                                                                                                                                                                                                                                                                                                                                                                                                                                                                                                                                                 \\the classic war of the worlds\\\" by timothy hines is a very entertaining film that obviously goes to great effort and lengths to faithfully recreate h. g. wells' classic book. mr. hines succeeds in doing so. i, and those who watched his film with me, appreciated the fact that it was not the standard, predictable hollywood fare that comes out every year, e.g. the spielberg version with tom cruise that had only the slightest resemblance to the book. obviously, everyone looks for different things in a movie. those who envision themselves as amateur \\\"critics\\\" look only to criticize everything they can. others rate a movie on more important bases,like being entertained, which is why most people never agree with the \\\"critics\\\". we enjoyed the effort mr. hines put into being faithful to h.g. wells' classic novel, and we found it to be very entertaining. this made it easy to overlook what the \\\"critics\\\" perceive to be its shortcomings.\"   \n",
       "2  the film starts with a manager (nicholas bell) giving welcome investors (robert carradine) to primal park . a secret project mutating a primal animal using fossilized dna, like ¨jurassik park¨, and some scientists resurrect one of nature's most fearsome predators, the sabretooth tiger or smilodon . scientific ambition turns deadly, however, and when the high voltage fence is opened the creature escape and begins savagely stalking its prey - the human visitors , tourists and scientific.meanwhile some youngsters enter in the restricted area of the security center and are attacked by a pack of large pre-historical animals which are deadlier and bigger . in addition , a security agent (stacy haiduk) and her mate (brian wimmer) fight hardly against the carnivorous smilodons. the sabretooths, themselves , of course, are the real star stars and they are astounding terrifyingly though not convincing. the giant animals savagely are stalking its prey and the group run afoul and fight against one nature's most fearsome predators. furthermore a third sabretooth more dangerous and slow stalks its victims.<br /><br />the movie delivers the goods with lots of blood and gore as beheading, hair-raising chills,full of scares when the sabretooths appear with mediocre special effects.the story provides exciting and stirring entertainment but it results to be quite boring .the giant animals are majority made by computer generator and seem totally lousy .middling performances though the players reacting appropriately to becoming food.actors give vigorously physical performances dodging the beasts ,running,bound and leaps or dangling over walls . and it packs a ridiculous final deadly scene. no for small kids by realistic,gory and violent attack scenes . other films about sabretooths or smilodon are the following : ¨sabretooth(2002)¨by james r hickox with vanessa angel, david keith and john rhys davies and the much better ¨10.000 bc(2006)¨ by roland emmerich with with steven strait, cliff curtis and camilla belle. this motion picture filled with bloody moments is badly directed by george miller and with no originality because takes too many elements from previous films. miller is an australian director usually working for television (tidal wave, journey to the center of the earth, and many others) and occasionally for cinema ( the man from snowy river, zeus and roxanne,robinson crusoe ). rating : below average, bottom of barrel.   \n",
       "3                                                                                                                                                                                                              it must be assumed that those who praised this film (\\the greatest filmed opera ever,\\\" didn't i read somewhere?) either don't care for opera, don't care for wagner, or don't care about anything except their desire to appear cultured. either as a representation of wagner's swan-song, or as a movie, this strikes me as an unmitigated disaster, with a leaden reading of the score matched to a tricksy, lugubrious realisation of the text.<br /><br />it's questionable that people with ideas as to what an opera (or, for that matter, a play, especially one by shakespeare) is \\\"about\\\" should be allowed anywhere near a theatre or film studio; syberberg, very fashionably, but without the smallest justification from wagner's text, decided that parsifal is \\\"about\\\" bisexual integration, so that the title character, in the latter stages, transmutes into a kind of beatnik babe, though one who continues to sing high tenor -- few if any of the actors in the film are the singers, and we get a double dose of armin jordan, the conductor, who is seen as the face (but not heard as the voice) of amfortas, and also appears monstrously in double exposure as a kind of batonzilla or conductor who ate monsalvat during the playing of the good friday music -- in which, by the way, the transcendant loveliness of nature is represented by a scattering of shopworn and flaccid crocuses stuck in ill-laid turf, an expedient which baffles me. in the theatre we sometimes have to piece out such imperfections with our thoughts, but i can't think why syberberg couldn't splice in, for parsifal and gurnemanz, mountain pasture as lush as was provided for julie andrews in sound of music...<br /><br />the sound is hard to endure, the high voices and the trumpets in particular possessing an aural glare that adds another sort of fatigue to our impatience with the uninspired conducting and paralytic unfolding of the ritual. someone in another review mentioned the 1951 bayreuth recording, and knappertsbusch, though his tempi are often very slow, had what jordan altogether lacks, a sense of pulse, a feeling for the ebb and flow of the music -- and, after half a century, the orchestral sound in that set, in modern pressings, is still superior to this film.\"   \n",
       "4                                                                                                                                                                                                                            superbly trashy and wondrously unpretentious 80's exploitation, hooray! the pre-credits opening sequences somewhat give the false impression that we're dealing with a serious and harrowing drama, but you need not fear because barely ten minutes later we're up until our necks in nonsensical chainsaw battles, rough fist-fights, lurid dialogs and gratuitous nudity! bo and ingrid are two orphaned siblings with an unusually close and even slightly perverted relationship. can you imagine playfully ripping off the towel that covers your sister's naked body and then stare at her unshaven genitals for several whole minutes? well, bo does that to his sister and, judging by her dubbed laughter, she doesn't mind at all. sick, dude! anyway, as kids they fled from russia with their parents, but nasty soldiers brutally slaughtered mommy and daddy. a friendly smuggler took custody over them, however, and even raised and trained bo and ingrid into expert smugglers. when the actual plot lifts off, 20 years later, they're facing their ultimate quest as the mythical and incredibly valuable white fire diamond is coincidentally found in a mine. very few things in life ever made as little sense as the plot and narrative structure of \\white fire\\\", but it sure is a lot of fun to watch. most of the time you have no clue who's beating up who or for what cause (and i bet the actors understood even less) but whatever! the violence is magnificently grotesque and every single plot twist is pleasingly retarded. the script goes totally bonkers beyond repair when suddenly  and i won't reveal for what reason  bo needs a replacement for ingrid and fred williamson enters the scene with a big cigar in his mouth and his sleazy black fingers all over the local prostitutes. bo's principal opponent is an italian chick with big breasts but a hideous accent, the preposterous but catchy theme song plays at least a dozen times throughout the film, there's the obligatory \\\"we're-falling-in-love\\\" montage and loads of other attractions! my god, what a brilliant experience. the original french title translates itself as \\\"life to survive\\\", which is uniquely appropriate because it makes just as much sense as the rest of the movie: none!\"   \n",
       "\n",
       "                                                                                                                                                                                                                                                                                                                                                                                                                                                                                                                                                                                                                                                                                                                                                                                                                                                                                                                                                                                                                                                                                                                                                                                                                                                                                                                                                                                                                                                                                                                                                                                                                                                                                                                                                                                                                                                                                                                                                                                                                                                                                                                                                                                                                                                                                                                                                                                                                                                              rmv_punct  \\\n",
       "0                                                                                                                                           with all this stuff going down at the moment with mj ive started listening to his music watching the odd documentary here and there watched the wiz and watched moonwalker again maybe i just want to get a certain insight into this guy who i thought was really cool in the eighties just to maybe make up my mind whether he is guilty or innocent moonwalker is part biography part feature film which i remember going to see at the cinema when it was originally released some of it has subtle messages about mjs feeling towards the press and also the obvious message of drugs are bad mkaybr br visually impressive but of course this is all about michael jackson so unless you remotely like mj in anyway then you are going to hate this and find it boring some may call mj an egotist for consenting to the making of this movie but mj and most of his fans would say that he made it for the fans which if true is really nice of himbr br the actual feature film bit when it finally starts is only on for 20 minutes or so excluding the smooth criminal sequence and joe pesci is convincing as a psychopathic all powerful drug lord why he wants mj dead so bad is beyond me because mj overheard his plans nah joe pescis character ranted that he wanted people to know it is he who is supplying drugs etc so i dunno maybe he just hates mjs musicbr br lots of cool things in this like mj turning into a car and a robot and the whole speed demon sequence also the director must have had the patience of a saint when it came to filming the kiddy bad sequence as usually directors hate working with one kid let alone a whole bunch of them performing a complex dance scenebr br bottom line this movie is for people who like mj on one level or another which i think is most people if not then stay away it does try and give off a wholesome message and ironically mjs bestest buddy in this movie is a girl michael jackson is truly one of the most talented people ever to grace this planet but is he guilty well with all the attention ive gave this subjecthmmm well i dont know because people can be different behind closed doors i know this for a fact he is either an extremely nice but stupid guy or one of the most sickest liars i hope he is not the latter   \n",
       "1                                                                                                                                                                                                                                                                                                                                                                                                                                                                                                                                                                                                                                                                                                                                                                                                                                                                                                                                                                                                                                                                                                                                                                                                                                                                                                                                                                                                                                                                                                                              the classic war of the worlds by timothy hines is a very entertaining film that obviously goes to great effort and lengths to faithfully recreate h g wells classic book mr hines succeeds in doing so i and those who watched his film with me appreciated the fact that it was not the standard predictable hollywood fare that comes out every year eg the spielberg version with tom cruise that had only the slightest resemblance to the book obviously everyone looks for different things in a movie those who envision themselves as amateur critics look only to criticize everything they can others rate a movie on more important baseslike being entertained which is why most people never agree with the critics we enjoyed the effort mr hines put into being faithful to hg wells classic novel and we found it to be very entertaining this made it easy to overlook what the critics perceive to be its shortcomings   \n",
       "2  the film starts with a manager nicholas bell giving welcome investors robert carradine to primal park  a secret project mutating a primal animal using fossilized dna like jurassik park and some scientists resurrect one of natures most fearsome predators the sabretooth tiger or smilodon  scientific ambition turns deadly however and when the high voltage fence is opened the creature escape and begins savagely stalking its prey  the human visitors  tourists and scientificmeanwhile some youngsters enter in the restricted area of the security center and are attacked by a pack of large prehistorical animals which are deadlier and bigger  in addition  a security agent stacy haiduk and her mate brian wimmer fight hardly against the carnivorous smilodons the sabretooths themselves  of course are the real star stars and they are astounding terrifyingly though not convincing the giant animals savagely are stalking its prey and the group run afoul and fight against one natures most fearsome predators furthermore a third sabretooth more dangerous and slow stalks its victimsbr br the movie delivers the goods with lots of blood and gore as beheading hairraising chillsfull of scares when the sabretooths appear with mediocre special effectsthe story provides exciting and stirring entertainment but it results to be quite boring the giant animals are majority made by computer generator and seem totally lousy middling performances though the players reacting appropriately to becoming foodactors give vigorously physical performances dodging the beasts runningbound and leaps or dangling over walls  and it packs a ridiculous final deadly scene no for small kids by realisticgory and violent attack scenes  other films about sabretooths or smilodon are the following  sabretooth2002by james r hickox with vanessa angel david keith and john rhys davies and the much better 10000 bc2006 by roland emmerich with with steven strait cliff curtis and camilla belle this motion picture filled with bloody moments is badly directed by george miller and with no originality because takes too many elements from previous films miller is an australian director usually working for television tidal wave journey to the center of the earth and many others and occasionally for cinema  the man from snowy river zeus and roxannerobinson crusoe  rating  below average bottom of barrel   \n",
       "3                                                                                                                                                                                                                               it must be assumed that those who praised this film the greatest filmed opera ever didnt i read somewhere either dont care for opera dont care for wagner or dont care about anything except their desire to appear cultured either as a representation of wagners swansong or as a movie this strikes me as an unmitigated disaster with a leaden reading of the score matched to a tricksy lugubrious realisation of the textbr br its questionable that people with ideas as to what an opera or for that matter a play especially one by shakespeare is about should be allowed anywhere near a theatre or film studio syberberg very fashionably but without the smallest justification from wagners text decided that parsifal is about bisexual integration so that the title character in the latter stages transmutes into a kind of beatnik babe though one who continues to sing high tenor  few if any of the actors in the film are the singers and we get a double dose of armin jordan the conductor who is seen as the face but not heard as the voice of amfortas and also appears monstrously in double exposure as a kind of batonzilla or conductor who ate monsalvat during the playing of the good friday music  in which by the way the transcendant loveliness of nature is represented by a scattering of shopworn and flaccid crocuses stuck in illlaid turf an expedient which baffles me in the theatre we sometimes have to piece out such imperfections with our thoughts but i cant think why syberberg couldnt splice in for parsifal and gurnemanz mountain pasture as lush as was provided for julie andrews in sound of musicbr br the sound is hard to endure the high voices and the trumpets in particular possessing an aural glare that adds another sort of fatigue to our impatience with the uninspired conducting and paralytic unfolding of the ritual someone in another review mentioned the 1951 bayreuth recording and knappertsbusch though his tempi are often very slow had what jordan altogether lacks a sense of pulse a feeling for the ebb and flow of the music  and after half a century the orchestral sound in that set in modern pressings is still superior to this film   \n",
       "4                                                                                                                                                                                                                   superbly trashy and wondrously unpretentious 80s exploitation hooray the precredits opening sequences somewhat give the false impression that were dealing with a serious and harrowing drama but you need not fear because barely ten minutes later were up until our necks in nonsensical chainsaw battles rough fistfights lurid dialogs and gratuitous nudity bo and ingrid are two orphaned siblings with an unusually close and even slightly perverted relationship can you imagine playfully ripping off the towel that covers your sisters naked body and then stare at her unshaven genitals for several whole minutes well bo does that to his sister and judging by her dubbed laughter she doesnt mind at all sick dude anyway as kids they fled from russia with their parents but nasty soldiers brutally slaughtered mommy and daddy a friendly smuggler took custody over them however and even raised and trained bo and ingrid into expert smugglers when the actual plot lifts off 20 years later theyre facing their ultimate quest as the mythical and incredibly valuable white fire diamond is coincidentally found in a mine very few things in life ever made as little sense as the plot and narrative structure of white fire but it sure is a lot of fun to watch most of the time you have no clue whos beating up who or for what cause and i bet the actors understood even less but whatever the violence is magnificently grotesque and every single plot twist is pleasingly retarded the script goes totally bonkers beyond repair when suddenly  and i wont reveal for what reason  bo needs a replacement for ingrid and fred williamson enters the scene with a big cigar in his mouth and his sleazy black fingers all over the local prostitutes bos principal opponent is an italian chick with big breasts but a hideous accent the preposterous but catchy theme song plays at least a dozen times throughout the film theres the obligatory werefallinginlove montage and loads of other attractions my god what a brilliant experience the original french title translates itself as life to survive which is uniquely appropriate because it makes just as much sense as the rest of the movie none   \n",
       "\n",
       "                                                                                                                                                                                                                                                                                                                                                                                                                                                                                                                                                                                                                                                                                                                                                                                                                                                                                                                                                                                                                                                                                                                                                                                                                                                                                                                                                                                                                                                                                                                                                                                                                                                                                                                                                                                                                                                                                                     stpwords  \\\n",
       "0                                                                                                                                                                                                                                                                                                                                                                                   stuff going moment mj ive started listening music watching odd documentary watched wiz watched moonwalker maybe want get certain insight guy thought really cool eighties maybe make mind whether guilty innocent moonwalker part biography part feature film remember going see cinema originally released subtle messages mjs feeling towards press also obvious message drugs bad mkaybr br visually impressive course michael jackson unless remotely like mj anyway going hate find boring may call mj egotist consenting making movie mj fans would say made fans true really nice himbr br actual feature film bit finally starts 20 minutes excluding smooth criminal sequence joe pesci convincing psychopathic powerful drug lord wants mj dead bad beyond mj overheard plans nah joe pescis character ranted wanted people know supplying drugs etc dunno maybe hates mjs musicbr br lots cool things like mj turning car robot whole speed demon sequence also director must patience saint came filming kiddy bad sequence usually directors hate working one kid let alone whole bunch performing complex dance scenebr br bottom line movie people like mj one level another think people stay away try give wholesome message ironically mjs bestest buddy movie girl michael jackson truly one talented people ever grace planet guilty well attention ive gave subjecthmmm well dont know people different behind closed doors know fact either extremely nice stupid guy one sickest liars hope latter   \n",
       "1                                                                                                                                                                                                                                                                                                                                                                                                                                                                                                                                                                                                                                                                                                                                                                                                                                                                                                                                                                                                                                                                                                                                                                                                                                                                                           classic war worlds timothy hines entertaining film obviously goes great effort lengths faithfully recreate h g wells classic book mr hines succeeds watched film appreciated fact standard predictable hollywood fare comes every year eg spielberg version tom cruise slightest resemblance book obviously everyone looks different things movie envision amateur critics look criticize everything others rate movie important baseslike entertained people never agree critics enjoyed effort mr hines put faithful hg wells classic novel found entertaining made easy overlook critics perceive shortcomings   \n",
       "2  film starts manager nicholas bell giving welcome investors robert carradine primal park secret project mutating primal animal using fossilized dna like jurassik park scientists resurrect one natures fearsome predators sabretooth tiger smilodon scientific ambition turns deadly however high voltage fence opened creature escape begins savagely stalking prey human visitors tourists scientificmeanwhile youngsters enter restricted area security center attacked pack large prehistorical animals deadlier bigger addition security agent stacy haiduk mate brian wimmer fight hardly carnivorous smilodons sabretooths course real star stars astounding terrifyingly though convincing giant animals savagely stalking prey group run afoul fight one natures fearsome predators furthermore third sabretooth dangerous slow stalks victimsbr br movie delivers goods lots blood gore beheading hairraising chillsfull scares sabretooths appear mediocre special effectsthe story provides exciting stirring entertainment results quite boring giant animals majority made computer generator seem totally lousy middling performances though players reacting appropriately becoming foodactors give vigorously physical performances dodging beasts runningbound leaps dangling walls packs ridiculous final deadly scene small kids realisticgory violent attack scenes films sabretooths smilodon following sabretooth2002by james r hickox vanessa angel david keith john rhys davies much better 10000 bc2006 roland emmerich steven strait cliff curtis camilla belle motion picture filled bloody moments badly directed george miller originality takes many elements previous films miller australian director usually working television tidal wave journey center earth many others occasionally cinema man snowy river zeus roxannerobinson crusoe rating average bottom barrel   \n",
       "3                                                                                                                                                                                                                                                                                                                                                              must assumed praised film greatest filmed opera ever didnt read somewhere either dont care opera dont care wagner dont care anything except desire appear cultured either representation wagners swansong movie strikes unmitigated disaster leaden reading score matched tricksy lugubrious realisation textbr br questionable people ideas opera matter play especially one shakespeare allowed anywhere near theatre film studio syberberg fashionably without smallest justification wagners text decided parsifal bisexual integration title character latter stages transmutes kind beatnik babe though one continues sing high tenor actors film singers get double dose armin jordan conductor seen face heard voice amfortas also appears monstrously double exposure kind batonzilla conductor ate monsalvat playing good friday music way transcendant loveliness nature represented scattering shopworn flaccid crocuses stuck illlaid turf expedient baffles theatre sometimes piece imperfections thoughts cant think syberberg couldnt splice parsifal gurnemanz mountain pasture lush provided julie andrews sound musicbr br sound hard endure high voices trumpets particular possessing aural glare adds another sort fatigue impatience uninspired conducting paralytic unfolding ritual someone another review mentioned 1951 bayreuth recording knappertsbusch though tempi often slow jordan altogether lacks sense pulse feeling ebb flow music half century orchestral sound set modern pressings still superior film   \n",
       "4                                                                                                                                                                                                                                                                            superbly trashy wondrously unpretentious 80s exploitation hooray precredits opening sequences somewhat give false impression dealing serious harrowing drama need fear barely ten minutes later necks nonsensical chainsaw battles rough fistfights lurid dialogs gratuitous nudity bo ingrid two orphaned siblings unusually close even slightly perverted relationship imagine playfully ripping towel covers sisters naked body stare unshaven genitals several whole minutes well bo sister judging dubbed laughter doesnt mind sick dude anyway kids fled russia parents nasty soldiers brutally slaughtered mommy daddy friendly smuggler took custody however even raised trained bo ingrid expert smugglers actual plot lifts 20 years later theyre facing ultimate quest mythical incredibly valuable white fire diamond coincidentally found mine things life ever made little sense plot narrative structure white fire sure lot fun watch time clue whos beating cause bet actors understood even less whatever violence magnificently grotesque every single plot twist pleasingly retarded script goes totally bonkers beyond repair suddenly wont reveal reason bo needs replacement ingrid fred williamson enters scene big cigar mouth sleazy black fingers local prostitutes bos principal opponent italian chick big breasts hideous accent preposterous catchy theme song plays least dozen times throughout film theres obligatory werefallinginlove montage loads attractions god brilliant experience original french title translates life survive uniquely appropriate makes much sense rest movie none   \n",
       "\n",
       "                                                                                                                                                                                                                                                                                                                                                                                                                                                                                                                                                                                                                                                                                                                                                                                                    pstemmer  \n",
       "0                                                                                            [stuff, go, moment, mj, ive, start, listen, music, watch, odd, documentari, watch, wiz, watch, moonwalk, mayb, want, get, certain, insight, guy, thought, realli, cool, eighti, mayb, make, mind, whether, guilti, innoc, moonwalk, part, biographi, part, featur, film, rememb, go, see, cinema, origin, releas, subtl, messag, mjs, feel, toward, press, also, obvious, messag, drug, bad, mkaybr, br, visual, impress, cours, michael, jackson, unless, remot, like, mj, anyway, go, hate, find, bore, may, call, mj, egotist, consent, make, movi, mj, fan, would, say, made, fan, true, realli, nice, himbr, br, actual, featur, film, bit, final, start, 20, minut, exclud, smooth, crimin, sequenc, ...]  \n",
       "1                                                                                                                                                                                        [classic, war, world, timothi, hine, entertain, film, obvious, goe, great, effort, length, faith, recreat, h, g, well, classic, book, mr, hine, succeed, watch, film, appreci, fact, standard, predict, hollywood, fare, come, everi, year, eg, spielberg, version, tom, cruis, slightest, resembl, book, obvious, everyon, look, differ, thing, movi, envis, amateur, critic, look, critic, everyth, other, rate, movi, import, baseslik, entertain, peopl, never, agre, critic, enjoy, effort, mr, hine, put, faith, hg, well, classic, novel, found, entertain, made, easi, overlook, critic, perceiv, shortcom]  \n",
       "2  [film, start, manag, nichola, bell, give, welcom, investor, robert, carradin, primal, park, secret, project, mutat, primal, anim, use, fossil, dna, like, jurassik, park, scientist, resurrect, one, natur, fearsom, predat, sabretooth, tiger, smilodon, scientif, ambit, turn, dead, howev, high, voltag, fenc, open, creatur, escap, begin, savag, stalk, prey, human, visitor, tourist, scientificmeanwhil, youngster, enter, restrict, area, secur, center, attack, pack, larg, prehistor, anim, deadlier, bigger, addit, secur, agent, staci, haiduk, mate, brian, wimmer, fight, hard, carnivor, smilodon, sabretooth, cours, real, star, star, astound, terrifi, though, convinc, giant, anim, savag, stalk, prey, group, run, afoul, fight, one, natur, fearsom, predat, furthermor, third, ...]  \n",
       "3                           [must, assum, prais, film, greatest, film, opera, ever, didnt, read, somewher, either, dont, care, opera, dont, care, wagner, dont, care, anyth, except, desir, appear, cultur, either, represent, wagner, swansong, movi, strike, unmitig, disast, leaden, read, score, match, tricksi, lugubri, realis, textbr, br, question, peopl, idea, opera, matter, play, especi, one, shakespear, allow, anywher, near, theatr, film, studio, syberberg, fashion, without, smallest, justif, wagner, text, decid, parsif, bisexu, integr, titl, charact, latter, stage, transmut, kind, beatnik, babe, though, one, continu, sing, high, tenor, actor, film, singer, get, doubl, dose, armin, jordan, conductor, seen, face, heard, voic, amforta, also, appear, monstrous, doubl, ...]  \n",
       "4                                       [superbl, trashi, wondrous, unpretenti, 80s, exploit, hooray, precredit, open, sequenc, somewhat, give, fals, impress, deal, serious, harrow, drama, need, fear, bare, ten, minut, later, neck, nonsens, chainsaw, battl, rough, fistfight, lurid, dialog, gratuit, nuditi, bo, ingrid, two, orphan, sibl, unusu, close, even, slight, pervert, relationship, imagin, play, rip, towel, cover, sister, nake, bodi, stare, unshaven, genit, sever, whole, minut, well, bo, sister, judg, dub, laughter, doesnt, mind, sick, dude, anyway, kid, fled, russia, parent, nasti, soldier, brutal, slaughter, mommi, daddi, friend, smuggler, took, custodi, howev, even, rais, train, bo, ingrid, expert, smuggler, actual, plot, lift, 20, year, later, theyr, face, ...]  "
      ]
     },
     "execution_count": 44,
     "metadata": {},
     "output_type": "execute_result"
    }
   ],
   "source": [
    "# pd.set_option('display.max_colwidth', None)\n",
    "df_tblob.head()"
   ]
  },
  {
   "cell_type": "code",
   "execution_count": 33,
   "metadata": {},
   "outputs": [],
   "source": [
    "# Export to csv\n",
    "df_tblob.to_csv (r'export_dftblob.csv', index = False, header=True)"
   ]
  },
  {
   "cell_type": "markdown",
   "metadata": {},
   "source": [
    "#### 5. Create a bag-of-words matrix from your stemmed text (output from (4)), where each row is a word-count vector for a single movie review (see sections 5.3 & 6.8 in the Machine Learning with Python Cookbook). Display the dimensions of your bag-of-words matrix. The number of rows in this matrix should be the same as the number of rows in your original data frame."
   ]
  },
  {
   "cell_type": "code",
   "execution_count": 34,
   "metadata": {},
   "outputs": [],
   "source": [
    "# Import needed library\n",
    "from sklearn.feature_extraction.text import CountVectorizer"
   ]
  },
  {
   "cell_type": "code",
   "execution_count": 35,
   "metadata": {},
   "outputs": [],
   "source": [
    "# Create text\n",
    "text = np.array(df_tblob.pstemmer.astype(str))"
   ]
  },
  {
   "cell_type": "code",
   "execution_count": 36,
   "metadata": {},
   "outputs": [],
   "source": [
    "# Create bag of words feature matrix\n",
    "vectorizer = CountVectorizer()"
   ]
  },
  {
   "cell_type": "code",
   "execution_count": 37,
   "metadata": {},
   "outputs": [],
   "source": [
    "# Transform text\n",
    "matrix = vectorizer.fit_transform(text)"
   ]
  },
  {
   "cell_type": "code",
   "execution_count": 38,
   "metadata": {},
   "outputs": [
    {
     "data": {
      "text/plain": [
       "<25000x92112 sparse matrix of type '<class 'numpy.int64'>'\n",
       "\twith 2437183 stored elements in Compressed Sparse Row format>"
      ]
     },
     "execution_count": 38,
     "metadata": {},
     "output_type": "execute_result"
    }
   ],
   "source": [
    "# Results of matrix\n",
    "matrix"
   ]
  },
  {
   "cell_type": "markdown",
   "metadata": {},
   "source": [
    "#### 6. Create a term frequency-inverse document frequency (tf-idf) matrix from your stemmed text, for your movie reviews (see section 6.9 in the Machine Learning with Python Cookbook). Display the dimensions of your tf-idf matrix. These dimensions should be the same as your bag-of-words matrix."
   ]
  },
  {
   "cell_type": "code",
   "execution_count": 39,
   "metadata": {},
   "outputs": [],
   "source": [
    "# Load libary\n",
    "from sklearn.feature_extraction.text import TfidfVectorizer"
   ]
  },
  {
   "cell_type": "code",
   "execution_count": 40,
   "metadata": {},
   "outputs": [],
   "source": [
    "# Create the tf-idf feature matrix\n",
    "tfidf = TfidfVectorizer()\n",
    "tfidf_matrix = tfidf.fit_transform(text)"
   ]
  },
  {
   "cell_type": "code",
   "execution_count": 41,
   "metadata": {},
   "outputs": [
    {
     "data": {
      "text/plain": [
       "<25000x92112 sparse matrix of type '<class 'numpy.float64'>'\n",
       "\twith 2437183 stored elements in Compressed Sparse Row format>"
      ]
     },
     "execution_count": 41,
     "metadata": {},
     "output_type": "execute_result"
    }
   ],
   "source": [
    "# Evaluate tfidf matrix\n",
    "tfidf_matrix"
   ]
  },
  {
   "cell_type": "code",
   "execution_count": 42,
   "metadata": {},
   "outputs": [
    {
     "data": {
      "text/plain": [
       "array([[0., 0., 0., ..., 0., 0., 0.],\n",
       "       [0., 0., 0., ..., 0., 0., 0.],\n",
       "       [0., 0., 0., ..., 0., 0., 0.],\n",
       "       ...,\n",
       "       [0., 0., 0., ..., 0., 0., 0.],\n",
       "       [0., 0., 0., ..., 0., 0., 0.],\n",
       "       [0., 0., 0., ..., 0., 0., 0.]])"
      ]
     },
     "execution_count": 42,
     "metadata": {},
     "output_type": "execute_result"
    }
   ],
   "source": [
    "# show the matrix as dense matrix\n",
    "tfidf_matrix.toarray()"
   ]
  },
  {
   "cell_type": "code",
   "execution_count": null,
   "metadata": {},
   "outputs": [],
   "source": []
  }
 ],
 "metadata": {
  "kernelspec": {
   "display_name": "Python 3 (ipykernel)",
   "language": "python",
   "name": "python3"
  },
  "language_info": {
   "codemirror_mode": {
    "name": "ipython",
    "version": 3
   },
   "file_extension": ".py",
   "mimetype": "text/x-python",
   "name": "python",
   "nbconvert_exporter": "python",
   "pygments_lexer": "ipython3",
   "version": "3.8.12"
  }
 },
 "nbformat": 4,
 "nbformat_minor": 4
}
