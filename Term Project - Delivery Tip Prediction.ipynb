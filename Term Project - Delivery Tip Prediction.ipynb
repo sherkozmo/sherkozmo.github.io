{
 "cells": [
  {
   "cell_type": "markdown",
   "metadata": {},
   "source": [
    "## Milestone #1 - Term Project - Sherry Kosmicki"
   ]
  },
  {
   "cell_type": "markdown",
   "metadata": {},
   "source": [
    "Many studies have been done to predict the tip amount of a restaurant sale based on the original food ticket price. I decided to look at other ways that tips may be able to be determined. I came across a dataset that gathered various variables when providing a delivery service. This data was gathered by a Chinese food delivery service in Charlston, South Carolina. The driver captured the following characteristics for each of his deliveries. \n",
    "\n",
    "Payment type: (C/R) - Cash or Credit  \n",
    "Race: (W/B/L/A) - White/Black/Latino/Asian   \n",
    "Type: (R/W/H/O) - Residence/Work/Hotel/Other   \n",
    "Age: (Y/M/O) - Young/Middle/Old  \n",
    "\n",
    "In addition to these variables, I have the address delivery location or street address in South Carolina, the tip amount, the price of the delivery, time-in, time-out, the time elapsed and the number of miles for the delivery.  \n",
    "\n",
    "The goal is to focus on the tip amount and determine any variation related to the independent variables. It would be bonus information to determine if the address location can impact the tip amount. This would require determining the geo code of the addresses. Gathering income data in Charleston could present information about areas that are considered low versus high income and if that has an impact on the tip amount.  \n",
    "\n",
    "As a restaurant owner I would ask myself how I could use this information. I would need to understand if these characteristics impact tips alone for the delivery drivers. Can the actions of a delivery driver impact their tips outside of these gathered variables? If we can gather data based on location, can that be the determining factor and for those areas that have low income with potentially lower tips, would those tips gathered in high income areas make up for the lower tip amount?  \n",
    "\n",
    "I tried to find datasets from Uber Eats or Grub hub that gather this similar information without much luck. Based on the blind gathering of this data, I would imagine that a larger corporate delivery service would need to get permission from the customer to record such data.  \n",
    "\n",
    "I hope to learn from this project the best way to handle missing data and to make predictions based on modeling the data.  "
   ]
  },
  {
   "cell_type": "code",
   "execution_count": 1,
   "metadata": {},
   "outputs": [],
   "source": [
    "#import necessary packages\n",
    "import pandas as pd\n",
    "import numpy as np\n",
    "import matplotlib.pyplot as plt"
   ]
  },
  {
   "cell_type": "code",
   "execution_count": 2,
   "metadata": {},
   "outputs": [
    {
     "name": "stdout",
     "output_type": "stream",
     "text": [
      "pandas version: 1.4.1\n",
      "numpy version: 1.21.5\n"
     ]
    }
   ],
   "source": [
    "#check versions of packages\n",
    "print('pandas version:', pd.__version__)\n",
    "print('numpy version:', np.__version__)"
   ]
  },
  {
   "cell_type": "markdown",
   "metadata": {},
   "source": [
    "### Exploring the Data"
   ]
  },
  {
   "cell_type": "code",
   "execution_count": 3,
   "metadata": {},
   "outputs": [
    {
     "data": {
      "text/html": [
       "<div>\n",
       "<style scoped>\n",
       "    .dataframe tbody tr th:only-of-type {\n",
       "        vertical-align: middle;\n",
       "    }\n",
       "\n",
       "    .dataframe tbody tr th {\n",
       "        vertical-align: top;\n",
       "    }\n",
       "\n",
       "    .dataframe thead th {\n",
       "        text-align: right;\n",
       "    }\n",
       "</style>\n",
       "<table border=\"1\" class=\"dataframe\">\n",
       "  <thead>\n",
       "    <tr style=\"text-align: right;\">\n",
       "      <th></th>\n",
       "      <th>Street_Address</th>\n",
       "      <th>Date</th>\n",
       "      <th>Tip</th>\n",
       "      <th>Phone_Number</th>\n",
       "      <th>Street_Address2</th>\n",
       "      <th>Race</th>\n",
       "      <th>Gender</th>\n",
       "      <th>Type</th>\n",
       "      <th>Price</th>\n",
       "      <th>Payment_Type</th>\n",
       "      <th>Time_In</th>\n",
       "      <th>Time_Out</th>\n",
       "      <th>Age</th>\n",
       "      <th>Time_Elapsed</th>\n",
       "      <th>Miles</th>\n",
       "    </tr>\n",
       "  </thead>\n",
       "  <tbody>\n",
       "    <tr>\n",
       "      <th>0</th>\n",
       "      <td>23 Kracke</td>\n",
       "      <td>7/5/2016</td>\n",
       "      <td>3.00</td>\n",
       "      <td>8.438056e+09</td>\n",
       "      <td>B</td>\n",
       "      <td>W</td>\n",
       "      <td>F</td>\n",
       "      <td>R</td>\n",
       "      <td>19.83</td>\n",
       "      <td>R</td>\n",
       "      <td>11:58</td>\n",
       "      <td>NaN</td>\n",
       "      <td>Y</td>\n",
       "      <td>NaN</td>\n",
       "      <td>2.5</td>\n",
       "    </tr>\n",
       "    <tr>\n",
       "      <th>1</th>\n",
       "      <td>145 Bee</td>\n",
       "      <td>6/29/2016</td>\n",
       "      <td>4.78</td>\n",
       "      <td>9.149805e+09</td>\n",
       "      <td>NaN</td>\n",
       "      <td>W</td>\n",
       "      <td>F</td>\n",
       "      <td>NaN</td>\n",
       "      <td>NaN</td>\n",
       "      <td>NaN</td>\n",
       "      <td>15:06</td>\n",
       "      <td>NaN</td>\n",
       "      <td>Y</td>\n",
       "      <td>NaN</td>\n",
       "      <td>1.6</td>\n",
       "    </tr>\n",
       "    <tr>\n",
       "      <th>2</th>\n",
       "      <td>Ashley River</td>\n",
       "      <td>7/7/2016</td>\n",
       "      <td>NaN</td>\n",
       "      <td>8.435063e+09</td>\n",
       "      <td>NaN</td>\n",
       "      <td>NaN</td>\n",
       "      <td>NaN</td>\n",
       "      <td>NaN</td>\n",
       "      <td>12.93</td>\n",
       "      <td>C</td>\n",
       "      <td>21:34</td>\n",
       "      <td>NaN</td>\n",
       "      <td>NaN</td>\n",
       "      <td>NaN</td>\n",
       "      <td>2.0</td>\n",
       "    </tr>\n",
       "    <tr>\n",
       "      <th>3</th>\n",
       "      <td>6 Grove Street</td>\n",
       "      <td>6/1/2016</td>\n",
       "      <td>3.67</td>\n",
       "      <td>NaN</td>\n",
       "      <td>NaN</td>\n",
       "      <td>B</td>\n",
       "      <td>M</td>\n",
       "      <td>R</td>\n",
       "      <td>NaN</td>\n",
       "      <td>NaN</td>\n",
       "      <td>16:30</td>\n",
       "      <td>NaN</td>\n",
       "      <td>NaN</td>\n",
       "      <td>NaN</td>\n",
       "      <td>1.7</td>\n",
       "    </tr>\n",
       "    <tr>\n",
       "      <th>4</th>\n",
       "      <td>6 Grove Street</td>\n",
       "      <td>6/28/2016</td>\n",
       "      <td>3.61</td>\n",
       "      <td>8.437938e+09</td>\n",
       "      <td>NaN</td>\n",
       "      <td>B</td>\n",
       "      <td>F</td>\n",
       "      <td>R</td>\n",
       "      <td>NaN</td>\n",
       "      <td>R</td>\n",
       "      <td>14:20</td>\n",
       "      <td>NaN</td>\n",
       "      <td>M</td>\n",
       "      <td>NaN</td>\n",
       "      <td>1.7</td>\n",
       "    </tr>\n",
       "  </tbody>\n",
       "</table>\n",
       "</div>"
      ],
      "text/plain": [
       "   Street_Address       Date   Tip  Phone_Number Street_Address2 Race Gender  \\\n",
       "0       23 Kracke   7/5/2016  3.00  8.438056e+09               B    W      F   \n",
       "1         145 Bee  6/29/2016  4.78  9.149805e+09             NaN    W      F   \n",
       "2    Ashley River   7/7/2016   NaN  8.435063e+09             NaN  NaN    NaN   \n",
       "3  6 Grove Street   6/1/2016  3.67           NaN             NaN    B      M   \n",
       "4  6 Grove Street  6/28/2016  3.61  8.437938e+09             NaN    B      F   \n",
       "\n",
       "  Type  Price Payment_Type Time_In Time_Out  Age  Time_Elapsed  Miles  \n",
       "0    R  19.83            R   11:58      NaN    Y           NaN    2.5  \n",
       "1  NaN    NaN          NaN   15:06      NaN    Y           NaN    1.6  \n",
       "2  NaN  12.93            C   21:34      NaN  NaN           NaN    2.0  \n",
       "3    R    NaN          NaN   16:30      NaN  NaN           NaN    1.7  \n",
       "4    R    NaN            R   14:20      NaN    M           NaN    1.7  "
      ]
     },
     "execution_count": 3,
     "metadata": {},
     "output_type": "execute_result"
    }
   ],
   "source": [
    "#load all fields of Chopstick tip data into a dataframe\n",
    "df_tip_all = pd.read_csv('chopsticks_data.csv')\n",
    "#display the first few rows of data\n",
    "df_tip_all.head()"
   ]
  },
  {
   "cell_type": "code",
   "execution_count": 4,
   "metadata": {},
   "outputs": [
    {
     "data": {
      "text/plain": [
       "(772, 15)"
      ]
     },
     "execution_count": 4,
     "metadata": {},
     "output_type": "execute_result"
    }
   ],
   "source": [
    "#display the dimensions of the dataframe\n",
    "df_tip_all.shape"
   ]
  },
  {
   "cell_type": "markdown",
   "metadata": {},
   "source": [
    "## Observations  \n",
    "\n",
    "1. the dataset has 772 rows and 15 columns  \n",
    "2. Some of the columns will not be useful - Date, Phone_Number, Street_Address2  \n",
    "3. There's a mix of numerical and categorical data\n",
    "4. I will be evaluating the value of the tip column\n",
    "5. I can create a binary value for the tip looking at those which there was 0 tip value - 0=No tip; 1=Yes tip"
   ]
  },
  {
   "cell_type": "code",
   "execution_count": 5,
   "metadata": {},
   "outputs": [
    {
     "data": {
      "text/plain": [
       "Street_Address      object\n",
       "Date                object\n",
       "Tip                float64\n",
       "Phone_Number       float64\n",
       "Street_Address2     object\n",
       "Race                object\n",
       "Gender              object\n",
       "Type                object\n",
       "Price              float64\n",
       "Payment_Type        object\n",
       "Time_In             object\n",
       "Time_Out            object\n",
       "Age                 object\n",
       "Time_Elapsed       float64\n",
       "Miles              float64\n",
       "dtype: object"
      ]
     },
     "execution_count": 5,
     "metadata": {},
     "output_type": "execute_result"
    }
   ],
   "source": [
    "# Column data types\n",
    "df_tip_all.dtypes"
   ]
  },
  {
   "cell_type": "code",
   "execution_count": 6,
   "metadata": {},
   "outputs": [
    {
     "data": {
      "text/html": [
       "<div>\n",
       "<style scoped>\n",
       "    .dataframe tbody tr th:only-of-type {\n",
       "        vertical-align: middle;\n",
       "    }\n",
       "\n",
       "    .dataframe tbody tr th {\n",
       "        vertical-align: top;\n",
       "    }\n",
       "\n",
       "    .dataframe thead th {\n",
       "        text-align: right;\n",
       "    }\n",
       "</style>\n",
       "<table border=\"1\" class=\"dataframe\">\n",
       "  <thead>\n",
       "    <tr style=\"text-align: right;\">\n",
       "      <th></th>\n",
       "      <th>Tip</th>\n",
       "      <th>Phone_Number</th>\n",
       "      <th>Price</th>\n",
       "      <th>Time_Elapsed</th>\n",
       "      <th>Miles</th>\n",
       "    </tr>\n",
       "  </thead>\n",
       "  <tbody>\n",
       "    <tr>\n",
       "      <th>count</th>\n",
       "      <td>671.000000</td>\n",
       "      <td>5.660000e+02</td>\n",
       "      <td>568.000000</td>\n",
       "      <td>457.000000</td>\n",
       "      <td>772.000000</td>\n",
       "    </tr>\n",
       "    <tr>\n",
       "      <th>mean</th>\n",
       "      <td>3.239911</td>\n",
       "      <td>7.092241e+09</td>\n",
       "      <td>17.867324</td>\n",
       "      <td>42.665208</td>\n",
       "      <td>1.230440</td>\n",
       "    </tr>\n",
       "    <tr>\n",
       "      <th>std</th>\n",
       "      <td>2.657423</td>\n",
       "      <td>4.315494e+09</td>\n",
       "      <td>8.558549</td>\n",
       "      <td>16.911390</td>\n",
       "      <td>0.657160</td>\n",
       "    </tr>\n",
       "    <tr>\n",
       "      <th>min</th>\n",
       "      <td>0.000000</td>\n",
       "      <td>2.098990e+06</td>\n",
       "      <td>4.420000</td>\n",
       "      <td>0.000000</td>\n",
       "      <td>0.175235</td>\n",
       "    </tr>\n",
       "    <tr>\n",
       "      <th>25%</th>\n",
       "      <td>2.000000</td>\n",
       "      <td>7.063615e+09</td>\n",
       "      <td>12.000000</td>\n",
       "      <td>31.000000</td>\n",
       "      <td>0.737291</td>\n",
       "    </tr>\n",
       "    <tr>\n",
       "      <th>50%</th>\n",
       "      <td>3.000000</td>\n",
       "      <td>8.434563e+09</td>\n",
       "      <td>15.580000</td>\n",
       "      <td>43.000000</td>\n",
       "      <td>1.071294</td>\n",
       "    </tr>\n",
       "    <tr>\n",
       "      <th>75%</th>\n",
       "      <td>4.200000</td>\n",
       "      <td>8.437367e+09</td>\n",
       "      <td>20.072500</td>\n",
       "      <td>55.000000</td>\n",
       "      <td>1.533305</td>\n",
       "    </tr>\n",
       "    <tr>\n",
       "      <th>max</th>\n",
       "      <td>22.770000</td>\n",
       "      <td>8.432152e+10</td>\n",
       "      <td>59.840000</td>\n",
       "      <td>90.000000</td>\n",
       "      <td>3.557515</td>\n",
       "    </tr>\n",
       "  </tbody>\n",
       "</table>\n",
       "</div>"
      ],
      "text/plain": [
       "              Tip  Phone_Number       Price  Time_Elapsed       Miles\n",
       "count  671.000000  5.660000e+02  568.000000    457.000000  772.000000\n",
       "mean     3.239911  7.092241e+09   17.867324     42.665208    1.230440\n",
       "std      2.657423  4.315494e+09    8.558549     16.911390    0.657160\n",
       "min      0.000000  2.098990e+06    4.420000      0.000000    0.175235\n",
       "25%      2.000000  7.063615e+09   12.000000     31.000000    0.737291\n",
       "50%      3.000000  8.434563e+09   15.580000     43.000000    1.071294\n",
       "75%      4.200000  8.437367e+09   20.072500     55.000000    1.533305\n",
       "max     22.770000  8.432152e+10   59.840000     90.000000    3.557515"
      ]
     },
     "execution_count": 6,
     "metadata": {},
     "output_type": "execute_result"
    }
   ],
   "source": [
    "# look at descriptive statistics of numerical data\n",
    "df_tip_all.describe()"
   ]
  },
  {
   "cell_type": "code",
   "execution_count": 7,
   "metadata": {},
   "outputs": [
    {
     "data": {
      "text/html": [
       "<div>\n",
       "<style scoped>\n",
       "    .dataframe tbody tr th:only-of-type {\n",
       "        vertical-align: middle;\n",
       "    }\n",
       "\n",
       "    .dataframe tbody tr th {\n",
       "        vertical-align: top;\n",
       "    }\n",
       "\n",
       "    .dataframe thead th {\n",
       "        text-align: right;\n",
       "    }\n",
       "</style>\n",
       "<table border=\"1\" class=\"dataframe\">\n",
       "  <thead>\n",
       "    <tr style=\"text-align: right;\">\n",
       "      <th></th>\n",
       "      <th>Street_Address</th>\n",
       "      <th>Date</th>\n",
       "      <th>Street_Address2</th>\n",
       "      <th>Race</th>\n",
       "      <th>Gender</th>\n",
       "      <th>Type</th>\n",
       "      <th>Payment_Type</th>\n",
       "      <th>Time_In</th>\n",
       "      <th>Time_Out</th>\n",
       "      <th>Age</th>\n",
       "    </tr>\n",
       "  </thead>\n",
       "  <tbody>\n",
       "    <tr>\n",
       "      <th>count</th>\n",
       "      <td>772</td>\n",
       "      <td>772</td>\n",
       "      <td>210</td>\n",
       "      <td>663</td>\n",
       "      <td>663</td>\n",
       "      <td>584</td>\n",
       "      <td>624</td>\n",
       "      <td>715</td>\n",
       "      <td>462</td>\n",
       "      <td>481</td>\n",
       "    </tr>\n",
       "    <tr>\n",
       "      <th>unique</th>\n",
       "      <td>498</td>\n",
       "      <td>32</td>\n",
       "      <td>58</td>\n",
       "      <td>4</td>\n",
       "      <td>2</td>\n",
       "      <td>4</td>\n",
       "      <td>2</td>\n",
       "      <td>433</td>\n",
       "      <td>312</td>\n",
       "      <td>3</td>\n",
       "    </tr>\n",
       "    <tr>\n",
       "      <th>top</th>\n",
       "      <td>45 Courtenay</td>\n",
       "      <td>6/27/2016</td>\n",
       "      <td>A</td>\n",
       "      <td>W</td>\n",
       "      <td>F</td>\n",
       "      <td>R</td>\n",
       "      <td>C</td>\n",
       "      <td>12:40</td>\n",
       "      <td>13:20</td>\n",
       "      <td>Y</td>\n",
       "    </tr>\n",
       "    <tr>\n",
       "      <th>freq</th>\n",
       "      <td>18</td>\n",
       "      <td>58</td>\n",
       "      <td>55</td>\n",
       "      <td>429</td>\n",
       "      <td>347</td>\n",
       "      <td>387</td>\n",
       "      <td>314</td>\n",
       "      <td>7</td>\n",
       "      <td>8</td>\n",
       "      <td>248</td>\n",
       "    </tr>\n",
       "  </tbody>\n",
       "</table>\n",
       "</div>"
      ],
      "text/plain": [
       "       Street_Address       Date Street_Address2 Race Gender Type  \\\n",
       "count             772        772             210  663    663  584   \n",
       "unique            498         32              58    4      2    4   \n",
       "top      45 Courtenay  6/27/2016               A    W      F    R   \n",
       "freq               18         58              55  429    347  387   \n",
       "\n",
       "       Payment_Type Time_In Time_Out  Age  \n",
       "count           624     715      462  481  \n",
       "unique            2     433      312    3  \n",
       "top               C   12:40    13:20    Y  \n",
       "freq            314       7        8  248  "
      ]
     },
     "execution_count": 7,
     "metadata": {},
     "output_type": "execute_result"
    }
   ],
   "source": [
    "# look at descriptive statistics of non-numerical data\n",
    "df_tip_all.describe(include = ['O'])"
   ]
  },
  {
   "cell_type": "markdown",
   "metadata": {},
   "source": [
    "## Missing Data\n",
    "* There are NAs in several columns and I have to decide which rows I need to eliminate based on those NAs and which ones that I can provide the median.  \n",
    "* The tip amount needs to be evaluated - I'm leaving 0 (zero) but removing the NAs"
   ]
  },
  {
   "cell_type": "markdown",
   "metadata": {},
   "source": [
    "#### Histograms of the numerical data"
   ]
  },
  {
   "cell_type": "code",
   "execution_count": 8,
   "metadata": {},
   "outputs": [
    {
     "data": {
      "image/png": "[encoded data removed]",
      "text/plain": [
       "<Figure size 1440x720 with 4 Axes>"
      ]
     },
     "metadata": {
      "needs_background": "light"
     },
     "output_type": "display_data"
    }
   ],
   "source": [
    "#set the figure size\n",
    "plt.rcParams['figure.figsize'] = (20, 10)\n",
    "# make subplots\n",
    "fig, axes = plt.subplots(nrows = 2, ncols = 2)\n",
    "# Specify the features of interest\n",
    "num_features = ['Tip', 'Price', 'Time_Elapsed', 'Miles']\n",
    "xaxes = num_features\n",
    "yaxes = ['Count', 'Count', 'Count', 'Count']\n",
    "# draw histograms\n",
    "axes = axes.ravel()\n",
    "for idx, ax in enumerate(axes):\n",
    "    ax.hist(df_tip_all[num_features[idx]].dropna(), bins=40)\n",
    "    ax.set_xlabel(xaxes[idx], fontsize=20)\n",
    "    ax.set_ylabel(yaxes[idx], fontsize=20)\n",
    "    ax.tick_params(axis='both', labelsize=15)\n",
    "plt.show()"
   ]
  },
  {
   "cell_type": "markdown",
   "metadata": {},
   "source": [
    "#### Observations of histograms of numerical data  \n",
    "1. The price variability is more than the tip amount  \n",
    "2. Time elapsed seems evenly spread and I'm not certain yet if I will evaluate this against the tip info  \n",
    "3. Miles just indicates to me that they stay within a certain radius"
   ]
  },
  {
   "cell_type": "markdown",
   "metadata": {},
   "source": [
    "### Create bar charts of categorical data"
   ]
  },
  {
   "cell_type": "code",
   "execution_count": 9,
   "metadata": {},
   "outputs": [],
   "source": [
    "#Create a copy of the dataframe for use with graphing\n",
    "df_plots = df_tip_all.copy()\n",
    "df_plots = df_plots.replace({'Race': {'W': 'White', 'B': 'Black', 'L': 'Latino', 'A': 'Asian'}})\n",
    "df_plots = df_plots.replace({'Type': {'R': 'Home', 'W': 'Work', 'H': 'Hotel', 'O': 'Other'}})\n",
    "df_plots = df_plots.replace({'Age': {'Y': 'Young', 'M': 'Middle', 'O': 'Old'}})"
   ]
  },
  {
   "cell_type": "code",
   "execution_count": 10,
   "metadata": {},
   "outputs": [
    {
     "data": {
      "image/png": "[encoded data removed]",
      "text/plain": [
       "<Figure size 1440x720 with 4 Axes>"
      ]
     },
     "metadata": {
      "needs_background": "light"
     },
     "output_type": "display_data"
    }
   ],
   "source": [
    "# %matplotlib inline\n",
    "plt.rcParams['figure.figsize'] = (20, 10)\n",
    "# make subplots\n",
    "fig, axes = plt.subplots(nrows = 2, ncols= 2)\n",
    "\n",
    "# Create the Race graph\n",
    "X_race = df_plots.groupby('Race').size().reset_index(name='Counts')['Race']\n",
    "Y_race = df_plots.groupby('Race').size().reset_index(name='Counts')['Counts']\n",
    "# make the bar graph\n",
    "axes[0,0].bar(X_race, Y_race)\n",
    "axes[0,0].set_title('Race', fontsize=25)\n",
    "axes[0,0].set_ylabel('Counts', fontsize=20)\n",
    "axes[0,0].tick_params(axis='both', labelsize=15)\n",
    "\n",
    "# Create the Type graph\n",
    "X_type = df_plots.groupby('Type').size().reset_index(name='Counts')['Type']\n",
    "Y_type = df_plots.groupby('Type').size().reset_index(name='Counts')['Counts']\n",
    "# make the bar graph\n",
    "axes[0,1].bar(X_type, Y_type)\n",
    "axes[0,1].set_title('Type of Delivery Location', fontsize=25)\n",
    "axes[0,1].set_ylabel('Counts', fontsize=20)\n",
    "axes[0,1].tick_params(axis='both', labelsize=15)\n",
    "\n",
    "# Create the Age graph\n",
    "X_age = df_plots.groupby('Age').size().reset_index(name='Counts')['Age']\n",
    "Y_age = df_plots.groupby('Age').size().reset_index(name='Counts')['Counts']\n",
    "# make the bar graph\n",
    "axes[1,0].bar(X_age, Y_age)\n",
    "axes[1,0].set_title('Age Category', fontsize=25)\n",
    "axes[1,0].set_ylabel('Counts', fontsize=20)\n",
    "axes[1,0].tick_params(axis='both', labelsize=15)\n",
    "\n",
    "# Create the Gender graph\n",
    "X_gender = df_plots.groupby('Gender').size().reset_index(name='Counts')['Gender']\n",
    "Y_gender = df_plots.groupby('Gender').size().reset_index(name='Counts')['Counts']\n",
    "# make the bar graph\n",
    "axes[1,1].bar(X_gender, Y_gender)\n",
    "axes[1,1].set_title('Gender', fontsize=25)\n",
    "axes[1,1].set_ylabel('Counts', fontsize=20)\n",
    "axes[1,1].tick_params(axis='both', labelsize=15)"
   ]
  },
  {
   "cell_type": "code",
   "execution_count": 11,
   "metadata": {},
   "outputs": [
    {
     "data": {
      "text/html": [
       "<div>\n",
       "<style scoped>\n",
       "    .dataframe tbody tr th:only-of-type {\n",
       "        vertical-align: middle;\n",
       "    }\n",
       "\n",
       "    .dataframe tbody tr th {\n",
       "        vertical-align: top;\n",
       "    }\n",
       "\n",
       "    .dataframe thead th {\n",
       "        text-align: right;\n",
       "    }\n",
       "</style>\n",
       "<table border=\"1\" class=\"dataframe\">\n",
       "  <thead>\n",
       "    <tr style=\"text-align: right;\">\n",
       "      <th></th>\n",
       "      <th>Street_Address</th>\n",
       "      <th>Date</th>\n",
       "      <th>Tip</th>\n",
       "      <th>Phone_Number</th>\n",
       "      <th>Street_Address2</th>\n",
       "      <th>Race</th>\n",
       "      <th>Gender</th>\n",
       "      <th>Type</th>\n",
       "      <th>Price</th>\n",
       "      <th>Payment_Type</th>\n",
       "      <th>Time_In</th>\n",
       "      <th>Time_Out</th>\n",
       "      <th>Age</th>\n",
       "      <th>Time_Elapsed</th>\n",
       "      <th>Miles</th>\n",
       "    </tr>\n",
       "  </thead>\n",
       "  <tbody>\n",
       "    <tr>\n",
       "      <th>0</th>\n",
       "      <td>23 Kracke</td>\n",
       "      <td>7/5/2016</td>\n",
       "      <td>3.00</td>\n",
       "      <td>8.438056e+09</td>\n",
       "      <td>B</td>\n",
       "      <td>White</td>\n",
       "      <td>F</td>\n",
       "      <td>Home</td>\n",
       "      <td>19.83</td>\n",
       "      <td>R</td>\n",
       "      <td>11:58</td>\n",
       "      <td>NaN</td>\n",
       "      <td>Young</td>\n",
       "      <td>NaN</td>\n",
       "      <td>2.500000</td>\n",
       "    </tr>\n",
       "    <tr>\n",
       "      <th>1</th>\n",
       "      <td>145 Bee</td>\n",
       "      <td>6/29/2016</td>\n",
       "      <td>4.78</td>\n",
       "      <td>9.149805e+09</td>\n",
       "      <td>NaN</td>\n",
       "      <td>White</td>\n",
       "      <td>F</td>\n",
       "      <td>NaN</td>\n",
       "      <td>NaN</td>\n",
       "      <td>NaN</td>\n",
       "      <td>15:06</td>\n",
       "      <td>NaN</td>\n",
       "      <td>Young</td>\n",
       "      <td>NaN</td>\n",
       "      <td>1.600000</td>\n",
       "    </tr>\n",
       "    <tr>\n",
       "      <th>2</th>\n",
       "      <td>Ashley River</td>\n",
       "      <td>7/7/2016</td>\n",
       "      <td>NaN</td>\n",
       "      <td>8.435063e+09</td>\n",
       "      <td>NaN</td>\n",
       "      <td>NaN</td>\n",
       "      <td>NaN</td>\n",
       "      <td>NaN</td>\n",
       "      <td>12.93</td>\n",
       "      <td>C</td>\n",
       "      <td>21:34</td>\n",
       "      <td>NaN</td>\n",
       "      <td>NaN</td>\n",
       "      <td>NaN</td>\n",
       "      <td>2.000000</td>\n",
       "    </tr>\n",
       "    <tr>\n",
       "      <th>3</th>\n",
       "      <td>6 Grove Street</td>\n",
       "      <td>6/1/2016</td>\n",
       "      <td>3.67</td>\n",
       "      <td>NaN</td>\n",
       "      <td>NaN</td>\n",
       "      <td>Black</td>\n",
       "      <td>M</td>\n",
       "      <td>Home</td>\n",
       "      <td>NaN</td>\n",
       "      <td>NaN</td>\n",
       "      <td>16:30</td>\n",
       "      <td>NaN</td>\n",
       "      <td>NaN</td>\n",
       "      <td>NaN</td>\n",
       "      <td>1.700000</td>\n",
       "    </tr>\n",
       "    <tr>\n",
       "      <th>4</th>\n",
       "      <td>6 Grove Street</td>\n",
       "      <td>6/28/2016</td>\n",
       "      <td>3.61</td>\n",
       "      <td>8.437938e+09</td>\n",
       "      <td>NaN</td>\n",
       "      <td>Black</td>\n",
       "      <td>F</td>\n",
       "      <td>Home</td>\n",
       "      <td>NaN</td>\n",
       "      <td>R</td>\n",
       "      <td>14:20</td>\n",
       "      <td>NaN</td>\n",
       "      <td>Middle</td>\n",
       "      <td>NaN</td>\n",
       "      <td>1.700000</td>\n",
       "    </tr>\n",
       "    <tr>\n",
       "      <th>...</th>\n",
       "      <td>...</td>\n",
       "      <td>...</td>\n",
       "      <td>...</td>\n",
       "      <td>...</td>\n",
       "      <td>...</td>\n",
       "      <td>...</td>\n",
       "      <td>...</td>\n",
       "      <td>...</td>\n",
       "      <td>...</td>\n",
       "      <td>...</td>\n",
       "      <td>...</td>\n",
       "      <td>...</td>\n",
       "      <td>...</td>\n",
       "      <td>...</td>\n",
       "      <td>...</td>\n",
       "    </tr>\n",
       "    <tr>\n",
       "      <th>767</th>\n",
       "      <td>21 George</td>\n",
       "      <td>7/8/2016</td>\n",
       "      <td>4.53</td>\n",
       "      <td>8.704185e+06</td>\n",
       "      <td>300</td>\n",
       "      <td>White</td>\n",
       "      <td>F</td>\n",
       "      <td>Home</td>\n",
       "      <td>NaN</td>\n",
       "      <td>NaN</td>\n",
       "      <td>18:54</td>\n",
       "      <td>NaN</td>\n",
       "      <td>Old</td>\n",
       "      <td>NaN</td>\n",
       "      <td>0.223704</td>\n",
       "    </tr>\n",
       "    <tr>\n",
       "      <th>768</th>\n",
       "      <td>35 St. Philip</td>\n",
       "      <td>7/8/2016</td>\n",
       "      <td>3.07</td>\n",
       "      <td>8.437232e+09</td>\n",
       "      <td>NaN</td>\n",
       "      <td>Black</td>\n",
       "      <td>F</td>\n",
       "      <td>Home</td>\n",
       "      <td>12.93</td>\n",
       "      <td>C</td>\n",
       "      <td>19:48</td>\n",
       "      <td>20:32</td>\n",
       "      <td>Old</td>\n",
       "      <td>44.0</td>\n",
       "      <td>0.203198</td>\n",
       "    </tr>\n",
       "    <tr>\n",
       "      <th>769</th>\n",
       "      <td>50 George</td>\n",
       "      <td>6/29/2016</td>\n",
       "      <td>2.47</td>\n",
       "      <td>2.247239e+09</td>\n",
       "      <td>NaN</td>\n",
       "      <td>White</td>\n",
       "      <td>F</td>\n",
       "      <td>NaN</td>\n",
       "      <td>NaN</td>\n",
       "      <td>NaN</td>\n",
       "      <td>NaN</td>\n",
       "      <td>NaN</td>\n",
       "      <td>Young</td>\n",
       "      <td>NaN</td>\n",
       "      <td>0.175235</td>\n",
       "    </tr>\n",
       "    <tr>\n",
       "      <th>770</th>\n",
       "      <td>50 George</td>\n",
       "      <td>6/27/2016</td>\n",
       "      <td>2.36</td>\n",
       "      <td>8.039172e+09</td>\n",
       "      <td>NaN</td>\n",
       "      <td>White</td>\n",
       "      <td>M</td>\n",
       "      <td>Home</td>\n",
       "      <td>15.64</td>\n",
       "      <td>C</td>\n",
       "      <td>19:37</td>\n",
       "      <td>20:25</td>\n",
       "      <td>Young</td>\n",
       "      <td>48.0</td>\n",
       "      <td>0.175235</td>\n",
       "    </tr>\n",
       "    <tr>\n",
       "      <th>771</th>\n",
       "      <td>50 George</td>\n",
       "      <td>7/8/2016</td>\n",
       "      <td>3.73</td>\n",
       "      <td>2.247239e+09</td>\n",
       "      <td>NaN</td>\n",
       "      <td>White</td>\n",
       "      <td>F</td>\n",
       "      <td>Home</td>\n",
       "      <td>NaN</td>\n",
       "      <td>NaN</td>\n",
       "      <td>NaN</td>\n",
       "      <td>NaN</td>\n",
       "      <td>Young</td>\n",
       "      <td>NaN</td>\n",
       "      <td>0.175235</td>\n",
       "    </tr>\n",
       "  </tbody>\n",
       "</table>\n",
       "<p>772 rows × 15 columns</p>\n",
       "</div>"
      ],
      "text/plain": [
       "     Street_Address       Date   Tip  Phone_Number Street_Address2   Race  \\\n",
       "0         23 Kracke   7/5/2016  3.00  8.438056e+09               B  White   \n",
       "1           145 Bee  6/29/2016  4.78  9.149805e+09             NaN  White   \n",
       "2      Ashley River   7/7/2016   NaN  8.435063e+09             NaN    NaN   \n",
       "3    6 Grove Street   6/1/2016  3.67           NaN             NaN  Black   \n",
       "4    6 Grove Street  6/28/2016  3.61  8.437938e+09             NaN  Black   \n",
       "..              ...        ...   ...           ...             ...    ...   \n",
       "767       21 George   7/8/2016  4.53  8.704185e+06             300  White   \n",
       "768   35 St. Philip   7/8/2016  3.07  8.437232e+09             NaN  Black   \n",
       "769       50 George  6/29/2016  2.47  2.247239e+09             NaN  White   \n",
       "770       50 George  6/27/2016  2.36  8.039172e+09             NaN  White   \n",
       "771       50 George   7/8/2016  3.73  2.247239e+09             NaN  White   \n",
       "\n",
       "    Gender  Type  Price Payment_Type Time_In Time_Out     Age  Time_Elapsed  \\\n",
       "0        F  Home  19.83            R   11:58      NaN   Young           NaN   \n",
       "1        F   NaN    NaN          NaN   15:06      NaN   Young           NaN   \n",
       "2      NaN   NaN  12.93            C   21:34      NaN     NaN           NaN   \n",
       "3        M  Home    NaN          NaN   16:30      NaN     NaN           NaN   \n",
       "4        F  Home    NaN            R   14:20      NaN  Middle           NaN   \n",
       "..     ...   ...    ...          ...     ...      ...     ...           ...   \n",
       "767      F  Home    NaN          NaN   18:54      NaN     Old           NaN   \n",
       "768      F  Home  12.93            C   19:48    20:32     Old          44.0   \n",
       "769      F   NaN    NaN          NaN     NaN      NaN   Young           NaN   \n",
       "770      M  Home  15.64            C   19:37    20:25   Young          48.0   \n",
       "771      F  Home    NaN          NaN     NaN      NaN   Young           NaN   \n",
       "\n",
       "        Miles  \n",
       "0    2.500000  \n",
       "1    1.600000  \n",
       "2    2.000000  \n",
       "3    1.700000  \n",
       "4    1.700000  \n",
       "..        ...  \n",
       "767  0.223704  \n",
       "768  0.203198  \n",
       "769  0.175235  \n",
       "770  0.175235  \n",
       "771  0.175235  \n",
       "\n",
       "[772 rows x 15 columns]"
      ]
     },
     "execution_count": 11,
     "metadata": {},
     "output_type": "execute_result"
    }
   ],
   "source": [
    "df_plots"
   ]
  },
  {
   "cell_type": "markdown",
   "metadata": {},
   "source": [
    "### Graph analysis\n",
    "1. The counts for each of the categories are not surprising and what I would expect for each of those variables.  "
   ]
  },
  {
   "cell_type": "markdown",
   "metadata": {},
   "source": [
    "### Next steps\n",
    "1. Cleaning up the data more, removing NA values and creating a binary column, removing unneeded columns  \n",
    "2. Looking at geo code for the area  \n",
    "3. Seeing if there is any specific median income I can add to the dataset related to location  \n",
    "4. Looking closer at the tip values and the price values to see there relationships with the categorical data"
   ]
  },
  {
   "cell_type": "markdown",
   "metadata": {},
   "source": [
    "## Milestone #2 - Term Project - Sherry Kosmicki"
   ]
  },
  {
   "cell_type": "markdown",
   "metadata": {},
   "source": [
    "Goals for this Milestone:  \n",
    "1. Drop any columns the will not be useful for analysis or model building, and explain why  \n",
    "2. Deal with missing data and justify why and how to deal with it  \n",
    "3. Create scatter plots of the various data points, plot regression line\n",
    "4. Look for outliers  \n",
    "5. Create a heat map\n",
    "6. Create dummy variables as needed  \n",
    "7. Determine what models I plan to use for this project and what features are needed"
   ]
  },
  {
   "cell_type": "markdown",
   "metadata": {},
   "source": [
    "### 1. Drop any columns that will not be useful for analysis or model building, and explain why"
   ]
  },
  {
   "cell_type": "code",
   "execution_count": 12,
   "metadata": {},
   "outputs": [
    {
     "data": {
      "text/plain": [
       "Street_Address      object\n",
       "Date                object\n",
       "Tip                float64\n",
       "Phone_Number       float64\n",
       "Street_Address2     object\n",
       "Race                object\n",
       "Gender              object\n",
       "Type                object\n",
       "Price              float64\n",
       "Payment_Type        object\n",
       "Time_In             object\n",
       "Time_Out            object\n",
       "Age                 object\n",
       "Time_Elapsed       float64\n",
       "Miles              float64\n",
       "dtype: object"
      ]
     },
     "execution_count": 12,
     "metadata": {},
     "output_type": "execute_result"
    }
   ],
   "source": [
    "# Review columns to determine which ones to remove that have no value for the project\n",
    "# Column data types\n",
    "df_tip_all.dtypes"
   ]
  },
  {
   "cell_type": "code",
   "execution_count": 13,
   "metadata": {},
   "outputs": [],
   "source": [
    "# Create new dataset and remove the following columns that do not have a relationship with the tip amount\n",
    "# Phone_Number, Street_Address2, Payment_Type"
   ]
  },
  {
   "cell_type": "code",
   "execution_count": 14,
   "metadata": {},
   "outputs": [],
   "source": [
    "df_tip_v1 = df_tip_all.drop(columns=['Phone_Number', 'Street_Address2', 'Payment_Type'])"
   ]
  },
  {
   "cell_type": "code",
   "execution_count": 15,
   "metadata": {},
   "outputs": [
    {
     "data": {
      "text/plain": [
       "Street_Address     object\n",
       "Date               object\n",
       "Tip               float64\n",
       "Race               object\n",
       "Gender             object\n",
       "Type               object\n",
       "Price             float64\n",
       "Time_In            object\n",
       "Time_Out           object\n",
       "Age                object\n",
       "Time_Elapsed      float64\n",
       "Miles             float64\n",
       "dtype: object"
      ]
     },
     "execution_count": 15,
     "metadata": {},
     "output_type": "execute_result"
    }
   ],
   "source": [
    "df_tip_v1.dtypes"
   ]
  },
  {
   "cell_type": "markdown",
   "metadata": {},
   "source": [
    "### 2. Deal with missing data and justify why and how to deal with it  "
   ]
  },
  {
   "cell_type": "code",
   "execution_count": 16,
   "metadata": {},
   "outputs": [
    {
     "data": {
      "text/plain": [
       "(772, 12)"
      ]
     },
     "execution_count": 16,
     "metadata": {},
     "output_type": "execute_result"
    }
   ],
   "source": [
    "df_tip_v1.shape"
   ]
  },
  {
   "cell_type": "code",
   "execution_count": 17,
   "metadata": {},
   "outputs": [
    {
     "data": {
      "text/plain": [
       "Street_Address      0\n",
       "Date                0\n",
       "Tip               101\n",
       "Race              109\n",
       "Gender            109\n",
       "Type              188\n",
       "Price             204\n",
       "Time_In            57\n",
       "Time_Out          310\n",
       "Age               291\n",
       "Time_Elapsed      315\n",
       "Miles               0\n",
       "dtype: int64"
      ]
     },
     "execution_count": 17,
     "metadata": {},
     "output_type": "execute_result"
    }
   ],
   "source": [
    "# Reviewing NA values in all the columns\n",
    "df_tip_v1.isna().sum()"
   ]
  },
  {
   "cell_type": "markdown",
   "metadata": {},
   "source": [
    "#### For column missing values, I plan to replace NAs as follows:  \n",
    "For Tip and Price I plan to replace NAs with the mean value for the column.  \n",
    "For Race, Gender, Type, Age - I plan to replace NAs with the mode value in the column."
   ]
  },
  {
   "cell_type": "code",
   "execution_count": 18,
   "metadata": {},
   "outputs": [
    {
     "data": {
      "text/plain": [
       "3.0"
      ]
     },
     "execution_count": 18,
     "metadata": {},
     "output_type": "execute_result"
    }
   ],
   "source": [
    "# Determine median value of current Tip values\n",
    "median_tip=df_tip_v1['Tip'].median()\n",
    "median_tip"
   ]
  },
  {
   "cell_type": "code",
   "execution_count": 19,
   "metadata": {},
   "outputs": [
    {
     "data": {
      "text/plain": [
       "0"
      ]
     },
     "execution_count": 19,
     "metadata": {},
     "output_type": "execute_result"
    }
   ],
   "source": [
    "# Replace missing values in Tip with new median calculation\n",
    "df_tip_v1['Tip'] = df_tip_v1['Tip'].replace(np.nan, median_tip)\n",
    "# Review replacement\n",
    "df_tip_v1['Tip'].isna().sum()"
   ]
  },
  {
   "cell_type": "code",
   "execution_count": 20,
   "metadata": {},
   "outputs": [
    {
     "data": {
      "text/plain": [
       "15.58"
      ]
     },
     "execution_count": 20,
     "metadata": {},
     "output_type": "execute_result"
    }
   ],
   "source": [
    "# Determine median value of current Price values\n",
    "median_price=df_tip_v1['Price'].median()\n",
    "median_price"
   ]
  },
  {
   "cell_type": "code",
   "execution_count": 21,
   "metadata": {},
   "outputs": [
    {
     "data": {
      "text/plain": [
       "0"
      ]
     },
     "execution_count": 21,
     "metadata": {},
     "output_type": "execute_result"
    }
   ],
   "source": [
    "# Replace missing values in Tip with new median calculation\n",
    "df_tip_v1['Price'] = df_tip_v1['Price'].replace(np.nan, median_price)\n",
    "# Review replacement\n",
    "df_tip_v1['Price'].isna().sum()"
   ]
  },
  {
   "cell_type": "code",
   "execution_count": 22,
   "metadata": {},
   "outputs": [
    {
     "name": "stdout",
     "output_type": "stream",
     "text": [
      "Race mode: 0    W\n",
      "Name: Race, dtype: object\n",
      "Gender mode: 0    F\n",
      "Name: Gender, dtype: object\n",
      "Type mode: 0    R\n",
      "Name: Type, dtype: object\n",
      "Age mode: 0    Y\n",
      "Name: Age, dtype: object\n"
     ]
    }
   ],
   "source": [
    "# Determine mode value of Race, Gender, Type, Age\n",
    "mode_race = df_tip_v1['Race'].mode()\n",
    "print('Race mode:', mode_race)\n",
    "mode_gender = df_tip_v1['Gender'].mode()\n",
    "print('Gender mode:', mode_gender)\n",
    "mode_type = df_tip_v1['Type'].mode()\n",
    "print('Type mode:', mode_type)\n",
    "mode_age = df_tip_v1['Age'].mode()\n",
    "print('Age mode:', mode_age)"
   ]
  },
  {
   "cell_type": "code",
   "execution_count": 23,
   "metadata": {},
   "outputs": [
    {
     "data": {
      "text/plain": [
       "Street_Address      0\n",
       "Date                0\n",
       "Tip                 0\n",
       "Race                0\n",
       "Gender              0\n",
       "Type                0\n",
       "Price               0\n",
       "Time_In            57\n",
       "Time_Out          310\n",
       "Age                 0\n",
       "Time_Elapsed      315\n",
       "Miles               0\n",
       "dtype: int64"
      ]
     },
     "execution_count": 23,
     "metadata": {},
     "output_type": "execute_result"
    }
   ],
   "source": [
    "# Replace missing values in Tip with new median calculation\n",
    "df_tip_v1['Race'].fillna('W',inplace=True)\n",
    "df_tip_v1['Gender'].fillna('F',inplace=True)\n",
    "df_tip_v1['Type'].fillna('R',inplace=True)\n",
    "df_tip_v1['Age'].fillna('Y',inplace=True)\n",
    "# Review replacement\n",
    "df_tip_v1.isna().sum()"
   ]
  },
  {
   "cell_type": "markdown",
   "metadata": {},
   "source": [
    "#### At this time I'm not going to clean Time_In, Time_Out, Time_Elapsed - there is basically no Time_Elapsed value if the Time_Out is not populated. I'm not sure yet if I can find any value to use it in relationship to the tip or price amounts"
   ]
  },
  {
   "cell_type": "markdown",
   "metadata": {},
   "source": [
    "### 3. Create scatter plots of the various data points, plot regression line"
   ]
  },
  {
   "cell_type": "code",
   "execution_count": 24,
   "metadata": {},
   "outputs": [],
   "source": [
    "#Create a copy of the dataframe for use with graphing after removing missing data so I can create scatter plot looks\n",
    "df_plots_v1 = df_tip_v1.copy()\n",
    "df_plots_v1 = df_plots_v1.replace({'Race': {'W': 'White', 'B': 'Black', 'L': 'Latino', 'A': 'Asian'}})\n",
    "df_plots_v1 = df_plots_v1.replace({'Type': {'R': 'Home', 'W': 'Work', 'H': 'Hotel', 'O': 'Other'}})\n",
    "df_plots_v1 = df_plots_v1.replace({'Age': {'Y': 'Young', 'M': 'Middle', 'O': 'Old'}})"
   ]
  },
  {
   "cell_type": "code",
   "execution_count": 25,
   "metadata": {},
   "outputs": [
    {
     "data": {
      "image/png": "[encoded data removed]",
      "text/plain": [
       "<Figure size 1440x720 with 4 Axes>"
      ]
     },
     "metadata": {
      "needs_background": "light"
     },
     "output_type": "display_data"
    }
   ],
   "source": [
    "fig, axes= plt.subplots(nrows=2, ncols=2)\n",
    "\n",
    "# Create a Race scatter plot compared to tip amount\n",
    "axes[0][0].scatter(df_plots_v1['Race'], df_plots_v1['Tip'])\n",
    "axes[0][0].set_title(\"Race vs Tip\", fontsize=20)\n",
    "axes[0][0].set_ylabel('Tip Amount', fontsize=15)\n",
    "\n",
    "# Create a Type of Delivery scatter plot compared to tip amount\n",
    "axes[0][1].scatter(df_plots_v1['Type'], df_plots_v1['Tip'])\n",
    "axes[0][1].set_title(\"Type of Delivery vs Tip\", fontsize=20)\n",
    "axes[0][1].set_ylabel('Tip Amount', fontsize=15)\n",
    "\n",
    "# Create an Age scatter plot compared to tip amount\n",
    "axes[1][0].scatter(df_plots_v1['Age'], df_plots_v1['Tip'])\n",
    "axes[1][0].set_title(\"Age vs Tip\", fontsize=20)\n",
    "axes[1][0].set_ylabel('Tip Amount', fontsize=15)\n",
    "\n",
    "# Create a Gender scatter plot compared to tip amount\n",
    "axes[1][1].scatter(df_plots_v1['Gender'], df_plots_v1['Tip'])\n",
    "axes[1][1].set_title(\"Gender vs Tip\", fontsize=20)\n",
    "axes[1][1].set_ylabel('Tip Amount', fontsize=15)\n",
    "\n",
    "plt.tight_layout()\n",
    "plt.show()"
   ]
  },
  {
   "cell_type": "code",
   "execution_count": 26,
   "metadata": {},
   "outputs": [
    {
     "data": {
      "image/png": "[encoded data removed]",
      "text/plain": [
       "<Figure size 1440x720 with 1 Axes>"
      ]
     },
     "metadata": {
      "needs_background": "light"
     },
     "output_type": "display_data"
    }
   ],
   "source": [
    "# Create a scatter plot of Tip vs. Price and add a regression line\n",
    "# Import needed library\n",
    "from scipy.stats import linregress\n",
    "\n",
    "x = df_tip_v1['Tip']\n",
    "y = df_tip_v1['Price']\n",
    "\n",
    "stats = linregress(x, y)\n",
    "\n",
    "m = stats.slope\n",
    "b = stats.intercept\n",
    "\n",
    "plt.scatter(x, y)\n",
    "plt.plot(x, m * x + b, color=\"red\")   # I've added a color argument here\n",
    "\n",
    "\n",
    "plt.show()"
   ]
  },
  {
   "cell_type": "code",
   "execution_count": 27,
   "metadata": {},
   "outputs": [
    {
     "data": {
      "text/plain": [
       "Text(0, 0.5, 'Dollars')"
      ]
     },
     "execution_count": 27,
     "metadata": {},
     "output_type": "execute_result"
    },
    {
     "data": {
      "image/png": "[encoded data removed]",
      "text/plain": [
       "<Figure size 1440x720 with 1 Axes>"
      ]
     },
     "metadata": {
      "needs_background": "light"
     },
     "output_type": "display_data"
    }
   ],
   "source": [
    "# Created a box and whisker look to see if outliers could be determined\n",
    "plot_tip = df_plots_v1['Tip']\n",
    "plot_price = df_plots_v1['Price']\n",
    "\n",
    "columns = [plot_tip, plot_price]\n",
    "\n",
    "plt.boxplot(columns)\n",
    "plt.xticks([1,2], [\"Tip Amount\", \"Food Price\"])\n",
    "plt.ylabel(\"Dollars\")"
   ]
  },
  {
   "cell_type": "markdown",
   "metadata": {},
   "source": [
    "### As far as outliers, I can really only make that call for the tip amount and food price. The time values would have to be evaluated for outliers if I were to use them in the dataset. Although I have some values in the scatter plot that show a large food price a very little tip amount, those can be valid values."
   ]
  },
  {
   "cell_type": "markdown",
   "metadata": {},
   "source": [
    "### 5. Create dummy variables"
   ]
  },
  {
   "cell_type": "code",
   "execution_count": 28,
   "metadata": {},
   "outputs": [
    {
     "data": {
      "text/html": [
       "<div>\n",
       "<style scoped>\n",
       "    .dataframe tbody tr th:only-of-type {\n",
       "        vertical-align: middle;\n",
       "    }\n",
       "\n",
       "    .dataframe tbody tr th {\n",
       "        vertical-align: top;\n",
       "    }\n",
       "\n",
       "    .dataframe thead th {\n",
       "        text-align: right;\n",
       "    }\n",
       "</style>\n",
       "<table border=\"1\" class=\"dataframe\">\n",
       "  <thead>\n",
       "    <tr style=\"text-align: right;\">\n",
       "      <th></th>\n",
       "      <th>race_A</th>\n",
       "      <th>race_B</th>\n",
       "      <th>race_L</th>\n",
       "      <th>race_W</th>\n",
       "    </tr>\n",
       "  </thead>\n",
       "  <tbody>\n",
       "    <tr>\n",
       "      <th>0</th>\n",
       "      <td>0</td>\n",
       "      <td>0</td>\n",
       "      <td>0</td>\n",
       "      <td>1</td>\n",
       "    </tr>\n",
       "    <tr>\n",
       "      <th>1</th>\n",
       "      <td>0</td>\n",
       "      <td>0</td>\n",
       "      <td>0</td>\n",
       "      <td>1</td>\n",
       "    </tr>\n",
       "    <tr>\n",
       "      <th>2</th>\n",
       "      <td>0</td>\n",
       "      <td>0</td>\n",
       "      <td>0</td>\n",
       "      <td>1</td>\n",
       "    </tr>\n",
       "    <tr>\n",
       "      <th>3</th>\n",
       "      <td>0</td>\n",
       "      <td>1</td>\n",
       "      <td>0</td>\n",
       "      <td>0</td>\n",
       "    </tr>\n",
       "    <tr>\n",
       "      <th>4</th>\n",
       "      <td>0</td>\n",
       "      <td>1</td>\n",
       "      <td>0</td>\n",
       "      <td>0</td>\n",
       "    </tr>\n",
       "  </tbody>\n",
       "</table>\n",
       "</div>"
      ],
      "text/plain": [
       "   race_A  race_B  race_L  race_W\n",
       "0       0       0       0       1\n",
       "1       0       0       0       1\n",
       "2       0       0       0       1\n",
       "3       0       1       0       0\n",
       "4       0       1       0       0"
      ]
     },
     "execution_count": 28,
     "metadata": {},
     "output_type": "execute_result"
    }
   ],
   "source": [
    "# Create dummy variables for independent variable Race\n",
    "dummy_race = pd.get_dummies(df_tip_v1['Race'], prefix='race')\n",
    "dummy_race.head()"
   ]
  },
  {
   "cell_type": "code",
   "execution_count": 29,
   "metadata": {},
   "outputs": [],
   "source": [
    "# Creating v2 to populate the dummy variables and add the race dummy variables to the dataframe\n",
    "df_tip_v2 = pd.concat([df_tip_v1, dummy_race], axis=1)"
   ]
  },
  {
   "cell_type": "code",
   "execution_count": 30,
   "metadata": {},
   "outputs": [
    {
     "data": {
      "text/plain": [
       "(772, 16)"
      ]
     },
     "execution_count": 30,
     "metadata": {},
     "output_type": "execute_result"
    }
   ],
   "source": [
    "# Check it\n",
    "df_tip_v2.shape"
   ]
  },
  {
   "cell_type": "code",
   "execution_count": 31,
   "metadata": {},
   "outputs": [
    {
     "data": {
      "text/html": [
       "<div>\n",
       "<style scoped>\n",
       "    .dataframe tbody tr th:only-of-type {\n",
       "        vertical-align: middle;\n",
       "    }\n",
       "\n",
       "    .dataframe tbody tr th {\n",
       "        vertical-align: top;\n",
       "    }\n",
       "\n",
       "    .dataframe thead th {\n",
       "        text-align: right;\n",
       "    }\n",
       "</style>\n",
       "<table border=\"1\" class=\"dataframe\">\n",
       "  <thead>\n",
       "    <tr style=\"text-align: right;\">\n",
       "      <th></th>\n",
       "      <th>TOD_H</th>\n",
       "      <th>TOD_O</th>\n",
       "      <th>TOD_R</th>\n",
       "      <th>TOD_W</th>\n",
       "    </tr>\n",
       "  </thead>\n",
       "  <tbody>\n",
       "    <tr>\n",
       "      <th>0</th>\n",
       "      <td>0</td>\n",
       "      <td>0</td>\n",
       "      <td>1</td>\n",
       "      <td>0</td>\n",
       "    </tr>\n",
       "    <tr>\n",
       "      <th>1</th>\n",
       "      <td>0</td>\n",
       "      <td>0</td>\n",
       "      <td>1</td>\n",
       "      <td>0</td>\n",
       "    </tr>\n",
       "    <tr>\n",
       "      <th>2</th>\n",
       "      <td>0</td>\n",
       "      <td>0</td>\n",
       "      <td>1</td>\n",
       "      <td>0</td>\n",
       "    </tr>\n",
       "    <tr>\n",
       "      <th>3</th>\n",
       "      <td>0</td>\n",
       "      <td>0</td>\n",
       "      <td>1</td>\n",
       "      <td>0</td>\n",
       "    </tr>\n",
       "    <tr>\n",
       "      <th>4</th>\n",
       "      <td>0</td>\n",
       "      <td>0</td>\n",
       "      <td>1</td>\n",
       "      <td>0</td>\n",
       "    </tr>\n",
       "  </tbody>\n",
       "</table>\n",
       "</div>"
      ],
      "text/plain": [
       "   TOD_H  TOD_O  TOD_R  TOD_W\n",
       "0      0      0      1      0\n",
       "1      0      0      1      0\n",
       "2      0      0      1      0\n",
       "3      0      0      1      0\n",
       "4      0      0      1      0"
      ]
     },
     "execution_count": 31,
     "metadata": {},
     "output_type": "execute_result"
    }
   ],
   "source": [
    "# Create dummy variables for independent variable Type of Delivery H=Hotel, R=Home, O=Other, W=Work\n",
    "dummy_tod = pd.get_dummies(df_tip_v1['Type'], prefix='TOD')\n",
    "dummy_tod.head()"
   ]
  },
  {
   "cell_type": "code",
   "execution_count": 32,
   "metadata": {},
   "outputs": [],
   "source": [
    "# Add Type dummy variables to tip v2 dataframe\n",
    "df_tip_v2 = pd.concat([df_tip_v2, dummy_tod], axis=1)"
   ]
  },
  {
   "cell_type": "code",
   "execution_count": 33,
   "metadata": {},
   "outputs": [
    {
     "data": {
      "text/plain": [
       "(772, 20)"
      ]
     },
     "execution_count": 33,
     "metadata": {},
     "output_type": "execute_result"
    }
   ],
   "source": [
    "df_tip_v2.shape"
   ]
  },
  {
   "cell_type": "code",
   "execution_count": 34,
   "metadata": {},
   "outputs": [
    {
     "data": {
      "text/html": [
       "<div>\n",
       "<style scoped>\n",
       "    .dataframe tbody tr th:only-of-type {\n",
       "        vertical-align: middle;\n",
       "    }\n",
       "\n",
       "    .dataframe tbody tr th {\n",
       "        vertical-align: top;\n",
       "    }\n",
       "\n",
       "    .dataframe thead th {\n",
       "        text-align: right;\n",
       "    }\n",
       "</style>\n",
       "<table border=\"1\" class=\"dataframe\">\n",
       "  <thead>\n",
       "    <tr style=\"text-align: right;\">\n",
       "      <th></th>\n",
       "      <th>Age_M</th>\n",
       "      <th>Age_O</th>\n",
       "      <th>Age_Y</th>\n",
       "    </tr>\n",
       "  </thead>\n",
       "  <tbody>\n",
       "    <tr>\n",
       "      <th>0</th>\n",
       "      <td>0</td>\n",
       "      <td>0</td>\n",
       "      <td>1</td>\n",
       "    </tr>\n",
       "    <tr>\n",
       "      <th>1</th>\n",
       "      <td>0</td>\n",
       "      <td>0</td>\n",
       "      <td>1</td>\n",
       "    </tr>\n",
       "    <tr>\n",
       "      <th>2</th>\n",
       "      <td>0</td>\n",
       "      <td>0</td>\n",
       "      <td>1</td>\n",
       "    </tr>\n",
       "    <tr>\n",
       "      <th>3</th>\n",
       "      <td>0</td>\n",
       "      <td>0</td>\n",
       "      <td>1</td>\n",
       "    </tr>\n",
       "    <tr>\n",
       "      <th>4</th>\n",
       "      <td>1</td>\n",
       "      <td>0</td>\n",
       "      <td>0</td>\n",
       "    </tr>\n",
       "  </tbody>\n",
       "</table>\n",
       "</div>"
      ],
      "text/plain": [
       "   Age_M  Age_O  Age_Y\n",
       "0      0      0      1\n",
       "1      0      0      1\n",
       "2      0      0      1\n",
       "3      0      0      1\n",
       "4      1      0      0"
      ]
     },
     "execution_count": 34,
     "metadata": {},
     "output_type": "execute_result"
    }
   ],
   "source": [
    "# Create dummy variables for independent variable Age M=Middle, O=Old, Y=Young\n",
    "dummy_age = pd.get_dummies(df_tip_v1['Age'], prefix='Age')\n",
    "dummy_age.head()"
   ]
  },
  {
   "cell_type": "code",
   "execution_count": 35,
   "metadata": {},
   "outputs": [],
   "source": [
    "# Add Age dummy variables to tip v2 dataframe\n",
    "df_tip_v2 = pd.concat([df_tip_v2, dummy_age], axis=1)"
   ]
  },
  {
   "cell_type": "code",
   "execution_count": 36,
   "metadata": {},
   "outputs": [
    {
     "data": {
      "text/plain": [
       "(772, 23)"
      ]
     },
     "execution_count": 36,
     "metadata": {},
     "output_type": "execute_result"
    }
   ],
   "source": [
    "df_tip_v2.shape"
   ]
  },
  {
   "cell_type": "code",
   "execution_count": 37,
   "metadata": {},
   "outputs": [
    {
     "data": {
      "text/html": [
       "<div>\n",
       "<style scoped>\n",
       "    .dataframe tbody tr th:only-of-type {\n",
       "        vertical-align: middle;\n",
       "    }\n",
       "\n",
       "    .dataframe tbody tr th {\n",
       "        vertical-align: top;\n",
       "    }\n",
       "\n",
       "    .dataframe thead th {\n",
       "        text-align: right;\n",
       "    }\n",
       "</style>\n",
       "<table border=\"1\" class=\"dataframe\">\n",
       "  <thead>\n",
       "    <tr style=\"text-align: right;\">\n",
       "      <th></th>\n",
       "      <th>Gen_F</th>\n",
       "      <th>Gen_M</th>\n",
       "    </tr>\n",
       "  </thead>\n",
       "  <tbody>\n",
       "    <tr>\n",
       "      <th>0</th>\n",
       "      <td>1</td>\n",
       "      <td>0</td>\n",
       "    </tr>\n",
       "    <tr>\n",
       "      <th>1</th>\n",
       "      <td>1</td>\n",
       "      <td>0</td>\n",
       "    </tr>\n",
       "    <tr>\n",
       "      <th>2</th>\n",
       "      <td>1</td>\n",
       "      <td>0</td>\n",
       "    </tr>\n",
       "    <tr>\n",
       "      <th>3</th>\n",
       "      <td>0</td>\n",
       "      <td>1</td>\n",
       "    </tr>\n",
       "    <tr>\n",
       "      <th>4</th>\n",
       "      <td>1</td>\n",
       "      <td>0</td>\n",
       "    </tr>\n",
       "  </tbody>\n",
       "</table>\n",
       "</div>"
      ],
      "text/plain": [
       "   Gen_F  Gen_M\n",
       "0      1      0\n",
       "1      1      0\n",
       "2      1      0\n",
       "3      0      1\n",
       "4      1      0"
      ]
     },
     "execution_count": 37,
     "metadata": {},
     "output_type": "execute_result"
    }
   ],
   "source": [
    "# Create dummy variables for independent variable Gender M=Male, F=Female\n",
    "dummy_gen = pd.get_dummies(df_tip_v1['Gender'], prefix='Gen')\n",
    "dummy_gen.head()"
   ]
  },
  {
   "cell_type": "code",
   "execution_count": 38,
   "metadata": {},
   "outputs": [],
   "source": [
    "# Add Gender dummy variables to tip v2 dataframe\n",
    "df_tip_v2 = pd.concat([df_tip_v2, dummy_gen], axis=1)"
   ]
  },
  {
   "cell_type": "code",
   "execution_count": 39,
   "metadata": {},
   "outputs": [
    {
     "data": {
      "text/plain": [
       "(772, 25)"
      ]
     },
     "execution_count": 39,
     "metadata": {},
     "output_type": "execute_result"
    }
   ],
   "source": [
    "df_tip_v2.shape"
   ]
  },
  {
   "cell_type": "markdown",
   "metadata": {},
   "source": [
    "#### I was extremely careful with that step, when I started out I added one dummy variable 3 times while I was inquiring on the dataframe in the same window as I was doing the concat method.  Lesson learned."
   ]
  },
  {
   "cell_type": "markdown",
   "metadata": {},
   "source": [
    "## Observations"
   ]
  },
  {
   "cell_type": "markdown",
   "metadata": {},
   "source": [
    "When comparing tip amount to categorical variables:  \n",
    "1. Gender shows no variance - fairly equal  \n",
    "2. White people tip at a consistent amount  \n",
    "3. There's a small amount of variability in a black persons tip amount  \n",
    "4. Majority of the deliveries are to a home  \n",
    "5. Age ranges of services are to young and middle aged individuals  \n",
    "\n",
    "Regression line shows a positive regression which indicates with an increase in food price, the tip amount increases"
   ]
  },
  {
   "cell_type": "markdown",
   "metadata": {},
   "source": [
    "### Next Steps"
   ]
  },
  {
   "cell_type": "markdown",
   "metadata": {},
   "source": [
    "1. Create a heat map  \n",
    "2. Prepare for data modeling - split the data  \n",
    "3. Correlation coefficient matrix and/or visualization  \n",
    "4. Perform Linear Regression  \n",
    "5. Evaluate accuracy, R2 score\n"
   ]
  },
  {
   "cell_type": "markdown",
   "metadata": {},
   "source": [
    "### I would entertain any input from you professor on the best ways to evaluate this data. Since I don't have many features, I'm not sure it's worth transforming those. Engineering new useful features may be something for me to think about. "
   ]
  },
  {
   "cell_type": "markdown",
   "metadata": {},
   "source": [
    "### After looking at the next two milestones I will be looking at ways to enhance my data to provide additional modeling features. Wish me luck!"
   ]
  },
  {
   "cell_type": "markdown",
   "metadata": {},
   "source": [
    "## Milestone #3"
   ]
  },
  {
   "cell_type": "markdown",
   "metadata": {},
   "source": [
    "I decided to do some reasearch on if there is a standard for tipping restaurant deliveries.  \n",
    "I was able to pull the following from this referenced website:  \n",
    "https://www.cnbc.com/2019/07/25/how-much-to-tip-when-you-order-food-on-a-delivery-app.html#:~:text=Other%20sources%20support%20that%20conclusion,according%20to%20U.S.%20Foods'%20report.  \n",
    "\n",
    "Customers and deliverers agree that a tip should be around \\\\$4 for a typical order, according to a recent study from U.S. Foods, a foodservice distributor, which asked customers and food deliverers how they feel about using apps like Grubhub and UberEats, with an emphasis on tipping. Other sources support that conclusion: Consumer Reports notes that \\\\$3 to \\\\$5 is standard, or around 20% of the total bill, whichever is higher. On average, customers were willing to pay a maximum of \\\\$8.50 for the tip, delivery fee and service fee combined, according to U.S. Foods’ report. However, it’s worth noting that the delivery apps themselves can eat up a large chunk of that \\\\$8.50, leaving little to the food deliverers.  \n",
    "\n",
    "Base on this finding, I'm going to determine which tips where 20% of the food price and mark those with a Y and N for those that did not in a column of its own."
   ]
  },
  {
   "cell_type": "code",
   "execution_count": 40,
   "metadata": {},
   "outputs": [
    {
     "data": {
      "text/html": [
       "<div>\n",
       "<style scoped>\n",
       "    .dataframe tbody tr th:only-of-type {\n",
       "        vertical-align: middle;\n",
       "    }\n",
       "\n",
       "    .dataframe tbody tr th {\n",
       "        vertical-align: top;\n",
       "    }\n",
       "\n",
       "    .dataframe thead th {\n",
       "        text-align: right;\n",
       "    }\n",
       "</style>\n",
       "<table border=\"1\" class=\"dataframe\">\n",
       "  <thead>\n",
       "    <tr style=\"text-align: right;\">\n",
       "      <th></th>\n",
       "      <th>Street_Address</th>\n",
       "      <th>Date</th>\n",
       "      <th>Tip</th>\n",
       "      <th>Race</th>\n",
       "      <th>Gender</th>\n",
       "      <th>Type</th>\n",
       "      <th>Price</th>\n",
       "      <th>Time_In</th>\n",
       "      <th>Time_Out</th>\n",
       "      <th>Age</th>\n",
       "      <th>...</th>\n",
       "      <th>race_W</th>\n",
       "      <th>TOD_H</th>\n",
       "      <th>TOD_O</th>\n",
       "      <th>TOD_R</th>\n",
       "      <th>TOD_W</th>\n",
       "      <th>Age_M</th>\n",
       "      <th>Age_O</th>\n",
       "      <th>Age_Y</th>\n",
       "      <th>Gen_F</th>\n",
       "      <th>Gen_M</th>\n",
       "    </tr>\n",
       "  </thead>\n",
       "  <tbody>\n",
       "    <tr>\n",
       "      <th>0</th>\n",
       "      <td>23 Kracke</td>\n",
       "      <td>7/5/2016</td>\n",
       "      <td>3.00</td>\n",
       "      <td>W</td>\n",
       "      <td>F</td>\n",
       "      <td>R</td>\n",
       "      <td>19.83</td>\n",
       "      <td>11:58</td>\n",
       "      <td>NaN</td>\n",
       "      <td>Y</td>\n",
       "      <td>...</td>\n",
       "      <td>1</td>\n",
       "      <td>0</td>\n",
       "      <td>0</td>\n",
       "      <td>1</td>\n",
       "      <td>0</td>\n",
       "      <td>0</td>\n",
       "      <td>0</td>\n",
       "      <td>1</td>\n",
       "      <td>1</td>\n",
       "      <td>0</td>\n",
       "    </tr>\n",
       "    <tr>\n",
       "      <th>1</th>\n",
       "      <td>145 Bee</td>\n",
       "      <td>6/29/2016</td>\n",
       "      <td>4.78</td>\n",
       "      <td>W</td>\n",
       "      <td>F</td>\n",
       "      <td>R</td>\n",
       "      <td>15.58</td>\n",
       "      <td>15:06</td>\n",
       "      <td>NaN</td>\n",
       "      <td>Y</td>\n",
       "      <td>...</td>\n",
       "      <td>1</td>\n",
       "      <td>0</td>\n",
       "      <td>0</td>\n",
       "      <td>1</td>\n",
       "      <td>0</td>\n",
       "      <td>0</td>\n",
       "      <td>0</td>\n",
       "      <td>1</td>\n",
       "      <td>1</td>\n",
       "      <td>0</td>\n",
       "    </tr>\n",
       "    <tr>\n",
       "      <th>2</th>\n",
       "      <td>Ashley River</td>\n",
       "      <td>7/7/2016</td>\n",
       "      <td>3.00</td>\n",
       "      <td>W</td>\n",
       "      <td>F</td>\n",
       "      <td>R</td>\n",
       "      <td>12.93</td>\n",
       "      <td>21:34</td>\n",
       "      <td>NaN</td>\n",
       "      <td>Y</td>\n",
       "      <td>...</td>\n",
       "      <td>1</td>\n",
       "      <td>0</td>\n",
       "      <td>0</td>\n",
       "      <td>1</td>\n",
       "      <td>0</td>\n",
       "      <td>0</td>\n",
       "      <td>0</td>\n",
       "      <td>1</td>\n",
       "      <td>1</td>\n",
       "      <td>0</td>\n",
       "    </tr>\n",
       "    <tr>\n",
       "      <th>3</th>\n",
       "      <td>6 Grove Street</td>\n",
       "      <td>6/1/2016</td>\n",
       "      <td>3.67</td>\n",
       "      <td>B</td>\n",
       "      <td>M</td>\n",
       "      <td>R</td>\n",
       "      <td>15.58</td>\n",
       "      <td>16:30</td>\n",
       "      <td>NaN</td>\n",
       "      <td>Y</td>\n",
       "      <td>...</td>\n",
       "      <td>0</td>\n",
       "      <td>0</td>\n",
       "      <td>0</td>\n",
       "      <td>1</td>\n",
       "      <td>0</td>\n",
       "      <td>0</td>\n",
       "      <td>0</td>\n",
       "      <td>1</td>\n",
       "      <td>0</td>\n",
       "      <td>1</td>\n",
       "    </tr>\n",
       "    <tr>\n",
       "      <th>4</th>\n",
       "      <td>6 Grove Street</td>\n",
       "      <td>6/28/2016</td>\n",
       "      <td>3.61</td>\n",
       "      <td>B</td>\n",
       "      <td>F</td>\n",
       "      <td>R</td>\n",
       "      <td>15.58</td>\n",
       "      <td>14:20</td>\n",
       "      <td>NaN</td>\n",
       "      <td>M</td>\n",
       "      <td>...</td>\n",
       "      <td>0</td>\n",
       "      <td>0</td>\n",
       "      <td>0</td>\n",
       "      <td>1</td>\n",
       "      <td>0</td>\n",
       "      <td>1</td>\n",
       "      <td>0</td>\n",
       "      <td>0</td>\n",
       "      <td>1</td>\n",
       "      <td>0</td>\n",
       "    </tr>\n",
       "  </tbody>\n",
       "</table>\n",
       "<p>5 rows × 25 columns</p>\n",
       "</div>"
      ],
      "text/plain": [
       "   Street_Address       Date   Tip Race Gender Type  Price Time_In Time_Out  \\\n",
       "0       23 Kracke   7/5/2016  3.00    W      F    R  19.83   11:58      NaN   \n",
       "1         145 Bee  6/29/2016  4.78    W      F    R  15.58   15:06      NaN   \n",
       "2    Ashley River   7/7/2016  3.00    W      F    R  12.93   21:34      NaN   \n",
       "3  6 Grove Street   6/1/2016  3.67    B      M    R  15.58   16:30      NaN   \n",
       "4  6 Grove Street  6/28/2016  3.61    B      F    R  15.58   14:20      NaN   \n",
       "\n",
       "  Age  ...  race_W  TOD_H  TOD_O  TOD_R  TOD_W  Age_M  Age_O  Age_Y  Gen_F  \\\n",
       "0   Y  ...       1      0      0      1      0      0      0      1      1   \n",
       "1   Y  ...       1      0      0      1      0      0      0      1      1   \n",
       "2   Y  ...       1      0      0      1      0      0      0      1      1   \n",
       "3   Y  ...       0      0      0      1      0      0      0      1      0   \n",
       "4   M  ...       0      0      0      1      0      1      0      0      1   \n",
       "\n",
       "   Gen_M  \n",
       "0      0  \n",
       "1      0  \n",
       "2      0  \n",
       "3      1  \n",
       "4      0  \n",
       "\n",
       "[5 rows x 25 columns]"
      ]
     },
     "execution_count": 40,
     "metadata": {},
     "output_type": "execute_result"
    }
   ],
   "source": [
    "df_tip_v2.head()"
   ]
  },
  {
   "cell_type": "code",
   "execution_count": 41,
   "metadata": {},
   "outputs": [],
   "source": [
    "df_tip_v2['tip_20p'] = np.where(df_tip_v2['Tip']/df_tip_v2['Price']>=.20, 1, 0)\n",
    "df_plots_v1['tip_20p'] = np.where(df_plots_v1['Tip']/df_tip_v2['Price']>=.20, 1, 0)"
   ]
  },
  {
   "cell_type": "code",
   "execution_count": 42,
   "metadata": {},
   "outputs": [
    {
     "data": {
      "text/html": [
       "<div>\n",
       "<style scoped>\n",
       "    .dataframe tbody tr th:only-of-type {\n",
       "        vertical-align: middle;\n",
       "    }\n",
       "\n",
       "    .dataframe tbody tr th {\n",
       "        vertical-align: top;\n",
       "    }\n",
       "\n",
       "    .dataframe thead th {\n",
       "        text-align: right;\n",
       "    }\n",
       "</style>\n",
       "<table border=\"1\" class=\"dataframe\">\n",
       "  <thead>\n",
       "    <tr style=\"text-align: right;\">\n",
       "      <th></th>\n",
       "      <th>Street_Address</th>\n",
       "      <th>Date</th>\n",
       "      <th>Tip</th>\n",
       "      <th>Race</th>\n",
       "      <th>Gender</th>\n",
       "      <th>Type</th>\n",
       "      <th>Price</th>\n",
       "      <th>Time_In</th>\n",
       "      <th>Time_Out</th>\n",
       "      <th>Age</th>\n",
       "      <th>...</th>\n",
       "      <th>TOD_H</th>\n",
       "      <th>TOD_O</th>\n",
       "      <th>TOD_R</th>\n",
       "      <th>TOD_W</th>\n",
       "      <th>Age_M</th>\n",
       "      <th>Age_O</th>\n",
       "      <th>Age_Y</th>\n",
       "      <th>Gen_F</th>\n",
       "      <th>Gen_M</th>\n",
       "      <th>tip_20p</th>\n",
       "    </tr>\n",
       "  </thead>\n",
       "  <tbody>\n",
       "    <tr>\n",
       "      <th>0</th>\n",
       "      <td>23 Kracke</td>\n",
       "      <td>7/5/2016</td>\n",
       "      <td>3.00</td>\n",
       "      <td>W</td>\n",
       "      <td>F</td>\n",
       "      <td>R</td>\n",
       "      <td>19.83</td>\n",
       "      <td>11:58</td>\n",
       "      <td>NaN</td>\n",
       "      <td>Y</td>\n",
       "      <td>...</td>\n",
       "      <td>0</td>\n",
       "      <td>0</td>\n",
       "      <td>1</td>\n",
       "      <td>0</td>\n",
       "      <td>0</td>\n",
       "      <td>0</td>\n",
       "      <td>1</td>\n",
       "      <td>1</td>\n",
       "      <td>0</td>\n",
       "      <td>0</td>\n",
       "    </tr>\n",
       "    <tr>\n",
       "      <th>1</th>\n",
       "      <td>145 Bee</td>\n",
       "      <td>6/29/2016</td>\n",
       "      <td>4.78</td>\n",
       "      <td>W</td>\n",
       "      <td>F</td>\n",
       "      <td>R</td>\n",
       "      <td>15.58</td>\n",
       "      <td>15:06</td>\n",
       "      <td>NaN</td>\n",
       "      <td>Y</td>\n",
       "      <td>...</td>\n",
       "      <td>0</td>\n",
       "      <td>0</td>\n",
       "      <td>1</td>\n",
       "      <td>0</td>\n",
       "      <td>0</td>\n",
       "      <td>0</td>\n",
       "      <td>1</td>\n",
       "      <td>1</td>\n",
       "      <td>0</td>\n",
       "      <td>1</td>\n",
       "    </tr>\n",
       "    <tr>\n",
       "      <th>2</th>\n",
       "      <td>Ashley River</td>\n",
       "      <td>7/7/2016</td>\n",
       "      <td>3.00</td>\n",
       "      <td>W</td>\n",
       "      <td>F</td>\n",
       "      <td>R</td>\n",
       "      <td>12.93</td>\n",
       "      <td>21:34</td>\n",
       "      <td>NaN</td>\n",
       "      <td>Y</td>\n",
       "      <td>...</td>\n",
       "      <td>0</td>\n",
       "      <td>0</td>\n",
       "      <td>1</td>\n",
       "      <td>0</td>\n",
       "      <td>0</td>\n",
       "      <td>0</td>\n",
       "      <td>1</td>\n",
       "      <td>1</td>\n",
       "      <td>0</td>\n",
       "      <td>1</td>\n",
       "    </tr>\n",
       "    <tr>\n",
       "      <th>3</th>\n",
       "      <td>6 Grove Street</td>\n",
       "      <td>6/1/2016</td>\n",
       "      <td>3.67</td>\n",
       "      <td>B</td>\n",
       "      <td>M</td>\n",
       "      <td>R</td>\n",
       "      <td>15.58</td>\n",
       "      <td>16:30</td>\n",
       "      <td>NaN</td>\n",
       "      <td>Y</td>\n",
       "      <td>...</td>\n",
       "      <td>0</td>\n",
       "      <td>0</td>\n",
       "      <td>1</td>\n",
       "      <td>0</td>\n",
       "      <td>0</td>\n",
       "      <td>0</td>\n",
       "      <td>1</td>\n",
       "      <td>0</td>\n",
       "      <td>1</td>\n",
       "      <td>1</td>\n",
       "    </tr>\n",
       "    <tr>\n",
       "      <th>4</th>\n",
       "      <td>6 Grove Street</td>\n",
       "      <td>6/28/2016</td>\n",
       "      <td>3.61</td>\n",
       "      <td>B</td>\n",
       "      <td>F</td>\n",
       "      <td>R</td>\n",
       "      <td>15.58</td>\n",
       "      <td>14:20</td>\n",
       "      <td>NaN</td>\n",
       "      <td>M</td>\n",
       "      <td>...</td>\n",
       "      <td>0</td>\n",
       "      <td>0</td>\n",
       "      <td>1</td>\n",
       "      <td>0</td>\n",
       "      <td>1</td>\n",
       "      <td>0</td>\n",
       "      <td>0</td>\n",
       "      <td>1</td>\n",
       "      <td>0</td>\n",
       "      <td>1</td>\n",
       "    </tr>\n",
       "  </tbody>\n",
       "</table>\n",
       "<p>5 rows × 26 columns</p>\n",
       "</div>"
      ],
      "text/plain": [
       "   Street_Address       Date   Tip Race Gender Type  Price Time_In Time_Out  \\\n",
       "0       23 Kracke   7/5/2016  3.00    W      F    R  19.83   11:58      NaN   \n",
       "1         145 Bee  6/29/2016  4.78    W      F    R  15.58   15:06      NaN   \n",
       "2    Ashley River   7/7/2016  3.00    W      F    R  12.93   21:34      NaN   \n",
       "3  6 Grove Street   6/1/2016  3.67    B      M    R  15.58   16:30      NaN   \n",
       "4  6 Grove Street  6/28/2016  3.61    B      F    R  15.58   14:20      NaN   \n",
       "\n",
       "  Age  ...  TOD_H  TOD_O  TOD_R  TOD_W  Age_M  Age_O  Age_Y  Gen_F  Gen_M  \\\n",
       "0   Y  ...      0      0      1      0      0      0      1      1      0   \n",
       "1   Y  ...      0      0      1      0      0      0      1      1      0   \n",
       "2   Y  ...      0      0      1      0      0      0      1      1      0   \n",
       "3   Y  ...      0      0      1      0      0      0      1      0      1   \n",
       "4   M  ...      0      0      1      0      1      0      0      1      0   \n",
       "\n",
       "   tip_20p  \n",
       "0        0  \n",
       "1        1  \n",
       "2        1  \n",
       "3        1  \n",
       "4        1  \n",
       "\n",
       "[5 rows x 26 columns]"
      ]
     },
     "execution_count": 42,
     "metadata": {},
     "output_type": "execute_result"
    }
   ],
   "source": [
    "df_tip_v2.head()"
   ]
  },
  {
   "cell_type": "markdown",
   "metadata": {},
   "source": [
    "#### I'm also going to add a column of data based on information I gathered from the U.S. Census Bureau on median income in the Charleston, SC area based on race.  \n",
    "* White 88,353  \n",
    "* Black 37,181  \n",
    "* Asian 50,820  \n",
    "* Latino 75,612"
   ]
  },
  {
   "cell_type": "code",
   "execution_count": 43,
   "metadata": {},
   "outputs": [],
   "source": [
    "# create a list of our conditions for looking at the Race field\n",
    "conditions = [\n",
    "    (df_tip_v2['Race'] == 'W'),\n",
    "    (df_tip_v2['Race'] == 'A'),\n",
    "    (df_tip_v2['Race'] == 'L'),\n",
    "    (df_tip_v2['Race'] == 'B')\n",
    "    ]\n",
    "\n",
    "# create a list of the values we want to assign for each condition\n",
    "values = [88353, 50820, 75612, 37181]\n",
    "\n",
    "# create a new column and use np.select to assign values to it using our lists as arguments\n",
    "df_tip_v2['median_inc'] = np.select(conditions, values)"
   ]
  },
  {
   "cell_type": "code",
   "execution_count": 44,
   "metadata": {},
   "outputs": [
    {
     "data": {
      "text/html": [
       "<div>\n",
       "<style scoped>\n",
       "    .dataframe tbody tr th:only-of-type {\n",
       "        vertical-align: middle;\n",
       "    }\n",
       "\n",
       "    .dataframe tbody tr th {\n",
       "        vertical-align: top;\n",
       "    }\n",
       "\n",
       "    .dataframe thead th {\n",
       "        text-align: right;\n",
       "    }\n",
       "</style>\n",
       "<table border=\"1\" class=\"dataframe\">\n",
       "  <thead>\n",
       "    <tr style=\"text-align: right;\">\n",
       "      <th></th>\n",
       "      <th>Street_Address</th>\n",
       "      <th>Date</th>\n",
       "      <th>Tip</th>\n",
       "      <th>Race</th>\n",
       "      <th>Gender</th>\n",
       "      <th>Type</th>\n",
       "      <th>Price</th>\n",
       "      <th>Time_In</th>\n",
       "      <th>Time_Out</th>\n",
       "      <th>Age</th>\n",
       "      <th>...</th>\n",
       "      <th>TOD_O</th>\n",
       "      <th>TOD_R</th>\n",
       "      <th>TOD_W</th>\n",
       "      <th>Age_M</th>\n",
       "      <th>Age_O</th>\n",
       "      <th>Age_Y</th>\n",
       "      <th>Gen_F</th>\n",
       "      <th>Gen_M</th>\n",
       "      <th>tip_20p</th>\n",
       "      <th>median_inc</th>\n",
       "    </tr>\n",
       "  </thead>\n",
       "  <tbody>\n",
       "    <tr>\n",
       "      <th>0</th>\n",
       "      <td>23 Kracke</td>\n",
       "      <td>7/5/2016</td>\n",
       "      <td>3.00</td>\n",
       "      <td>W</td>\n",
       "      <td>F</td>\n",
       "      <td>R</td>\n",
       "      <td>19.83</td>\n",
       "      <td>11:58</td>\n",
       "      <td>NaN</td>\n",
       "      <td>Y</td>\n",
       "      <td>...</td>\n",
       "      <td>0</td>\n",
       "      <td>1</td>\n",
       "      <td>0</td>\n",
       "      <td>0</td>\n",
       "      <td>0</td>\n",
       "      <td>1</td>\n",
       "      <td>1</td>\n",
       "      <td>0</td>\n",
       "      <td>0</td>\n",
       "      <td>88353</td>\n",
       "    </tr>\n",
       "    <tr>\n",
       "      <th>1</th>\n",
       "      <td>145 Bee</td>\n",
       "      <td>6/29/2016</td>\n",
       "      <td>4.78</td>\n",
       "      <td>W</td>\n",
       "      <td>F</td>\n",
       "      <td>R</td>\n",
       "      <td>15.58</td>\n",
       "      <td>15:06</td>\n",
       "      <td>NaN</td>\n",
       "      <td>Y</td>\n",
       "      <td>...</td>\n",
       "      <td>0</td>\n",
       "      <td>1</td>\n",
       "      <td>0</td>\n",
       "      <td>0</td>\n",
       "      <td>0</td>\n",
       "      <td>1</td>\n",
       "      <td>1</td>\n",
       "      <td>0</td>\n",
       "      <td>1</td>\n",
       "      <td>88353</td>\n",
       "    </tr>\n",
       "    <tr>\n",
       "      <th>2</th>\n",
       "      <td>Ashley River</td>\n",
       "      <td>7/7/2016</td>\n",
       "      <td>3.00</td>\n",
       "      <td>W</td>\n",
       "      <td>F</td>\n",
       "      <td>R</td>\n",
       "      <td>12.93</td>\n",
       "      <td>21:34</td>\n",
       "      <td>NaN</td>\n",
       "      <td>Y</td>\n",
       "      <td>...</td>\n",
       "      <td>0</td>\n",
       "      <td>1</td>\n",
       "      <td>0</td>\n",
       "      <td>0</td>\n",
       "      <td>0</td>\n",
       "      <td>1</td>\n",
       "      <td>1</td>\n",
       "      <td>0</td>\n",
       "      <td>1</td>\n",
       "      <td>88353</td>\n",
       "    </tr>\n",
       "    <tr>\n",
       "      <th>3</th>\n",
       "      <td>6 Grove Street</td>\n",
       "      <td>6/1/2016</td>\n",
       "      <td>3.67</td>\n",
       "      <td>B</td>\n",
       "      <td>M</td>\n",
       "      <td>R</td>\n",
       "      <td>15.58</td>\n",
       "      <td>16:30</td>\n",
       "      <td>NaN</td>\n",
       "      <td>Y</td>\n",
       "      <td>...</td>\n",
       "      <td>0</td>\n",
       "      <td>1</td>\n",
       "      <td>0</td>\n",
       "      <td>0</td>\n",
       "      <td>0</td>\n",
       "      <td>1</td>\n",
       "      <td>0</td>\n",
       "      <td>1</td>\n",
       "      <td>1</td>\n",
       "      <td>37181</td>\n",
       "    </tr>\n",
       "    <tr>\n",
       "      <th>4</th>\n",
       "      <td>6 Grove Street</td>\n",
       "      <td>6/28/2016</td>\n",
       "      <td>3.61</td>\n",
       "      <td>B</td>\n",
       "      <td>F</td>\n",
       "      <td>R</td>\n",
       "      <td>15.58</td>\n",
       "      <td>14:20</td>\n",
       "      <td>NaN</td>\n",
       "      <td>M</td>\n",
       "      <td>...</td>\n",
       "      <td>0</td>\n",
       "      <td>1</td>\n",
       "      <td>0</td>\n",
       "      <td>1</td>\n",
       "      <td>0</td>\n",
       "      <td>0</td>\n",
       "      <td>1</td>\n",
       "      <td>0</td>\n",
       "      <td>1</td>\n",
       "      <td>37181</td>\n",
       "    </tr>\n",
       "  </tbody>\n",
       "</table>\n",
       "<p>5 rows × 27 columns</p>\n",
       "</div>"
      ],
      "text/plain": [
       "   Street_Address       Date   Tip Race Gender Type  Price Time_In Time_Out  \\\n",
       "0       23 Kracke   7/5/2016  3.00    W      F    R  19.83   11:58      NaN   \n",
       "1         145 Bee  6/29/2016  4.78    W      F    R  15.58   15:06      NaN   \n",
       "2    Ashley River   7/7/2016  3.00    W      F    R  12.93   21:34      NaN   \n",
       "3  6 Grove Street   6/1/2016  3.67    B      M    R  15.58   16:30      NaN   \n",
       "4  6 Grove Street  6/28/2016  3.61    B      F    R  15.58   14:20      NaN   \n",
       "\n",
       "  Age  ...  TOD_O  TOD_R  TOD_W  Age_M  Age_O  Age_Y  Gen_F  Gen_M  tip_20p  \\\n",
       "0   Y  ...      0      1      0      0      0      1      1      0        0   \n",
       "1   Y  ...      0      1      0      0      0      1      1      0        1   \n",
       "2   Y  ...      0      1      0      0      0      1      1      0        1   \n",
       "3   Y  ...      0      1      0      0      0      1      0      1        1   \n",
       "4   M  ...      0      1      0      1      0      0      1      0        1   \n",
       "\n",
       "   median_inc  \n",
       "0       88353  \n",
       "1       88353  \n",
       "2       88353  \n",
       "3       37181  \n",
       "4       37181  \n",
       "\n",
       "[5 rows x 27 columns]"
      ]
     },
     "execution_count": 44,
     "metadata": {},
     "output_type": "execute_result"
    }
   ],
   "source": [
    "df_tip_v2.head()"
   ]
  },
  {
   "cell_type": "markdown",
   "metadata": {},
   "source": [
    "I'm going to create stackable charts to show the categories along with whether or not the tip was more or less than 20%"
   ]
  },
  {
   "cell_type": "code",
   "execution_count": 45,
   "metadata": {},
   "outputs": [
    {
     "data": {
      "image/png": "[encoded data removed]",
      "text/plain": [
       "<Figure size 1440x720 with 4 Axes>"
      ]
     },
     "metadata": {
      "needs_background": "light"
     },
     "output_type": "display_data"
    }
   ],
   "source": [
    "# make subplots\n",
    "fig, axes = plt.subplots(nrows = 2, ncols = 2)\n",
    "\n",
    "# make the data read to feed into the visulizer for Race column\n",
    "Race_tip20_more = df_plots_v1[df_plots_v1['tip_20p']==1]['Race'].value_counts()\n",
    "Race_tip20_less = df_plots_v1[df_plots_v1['tip_20p']==0]['Race'].value_counts()\n",
    "Race_tip20_less = Race_tip20_less.reindex(index = Race_tip20_more.index)\n",
    "# make the bar plot in position 0,0\n",
    "p1 = axes[0, 0].bar(Race_tip20_less.index, Race_tip20_less.values)\n",
    "p2 = axes[0, 0].bar(Race_tip20_more.index, Race_tip20_more.values, bottom=Race_tip20_less.values)\n",
    "axes[0, 0].set_title('Race', fontsize=25)\n",
    "axes[0, 0].set_ylabel('Counts', fontsize=20)\n",
    "axes[0, 0].tick_params(axis='both', labelsize=15)\n",
    "axes[0, 0].legend((p1[0], p2[0]), ('Tip Under 20%', 'Tip Over 20%'), fontsize = 15)\n",
    "\n",
    "# make the data read to feed into the visulizer for Type of Delivery column\n",
    "Type_tip20_more = df_plots_v1[df_plots_v1['tip_20p']==1]['Type'].value_counts()\n",
    "Type_tip20_less = df_plots_v1[df_plots_v1['tip_20p']==0]['Type'].value_counts()\n",
    "Type_tip20_less = Type_tip20_less.reindex(index = Type_tip20_more.index)\n",
    "# make the bar plot in position 0,1\n",
    "p1 = axes[0, 1].bar(Type_tip20_less.index, Type_tip20_less.values)\n",
    "p2 = axes[0, 1].bar(Type_tip20_more.index, Type_tip20_more.values, bottom=Type_tip20_less.values)\n",
    "axes[0, 1].set_title('Type of Delivery', fontsize=25)\n",
    "axes[0, 1].set_ylabel('Counts', fontsize=20)\n",
    "axes[0, 1].tick_params(axis='both', labelsize=15)\n",
    "axes[0, 1].legend((p1[0], p2[0]), ('Tip Under 20%', 'Tip Over 20%'), fontsize = 15)\n",
    "\n",
    "# make the data read to feed into the visulizer for Age column\n",
    "Age_tip20_more = df_plots_v1[df_plots_v1['tip_20p']==1]['Age'].value_counts()\n",
    "Age_tip20_less = df_plots_v1[df_plots_v1['tip_20p']==0]['Age'].value_counts()\n",
    "Age_tip20_less = Age_tip20_less.reindex(index = Age_tip20_more.index)\n",
    "# make the bar plot in position 1,0\n",
    "p1 = axes[1, 0].bar(Age_tip20_less.index, Age_tip20_less.values)\n",
    "p2 = axes[1, 0].bar(Age_tip20_more.index, Age_tip20_more.values, bottom=Age_tip20_less.values)\n",
    "axes[1, 0].set_title('Age', fontsize=25)\n",
    "axes[1, 0].set_ylabel('Counts', fontsize=20)\n",
    "axes[1, 0].tick_params(axis='both', labelsize=15)\n",
    "axes[1, 0].legend((p1[0], p2[0]), ('Tip Under 20%', 'Tip Over 20%'), fontsize = 15)\n",
    "\n",
    "# make the data read to feed into the visulizer for Gender column\n",
    "Gen_tip20_more = df_plots_v1[df_plots_v1['tip_20p']==1]['Gender'].value_counts()\n",
    "Gen_tip20_less = df_plots_v1[df_plots_v1['tip_20p']==0]['Gender'].value_counts()\n",
    "Gen_tip20_less = Gen_tip20_less.reindex(index = Gen_tip20_more.index)\n",
    "# make the bar plot in position 1,1\n",
    "p1 = axes[1, 1].bar(Gen_tip20_less.index, Gen_tip20_less.values)\n",
    "p2 = axes[1, 1].bar(Gen_tip20_more.index, Gen_tip20_more.values, bottom=Gen_tip20_less.values)\n",
    "axes[1, 1].set_title('Gender', fontsize=25)\n",
    "axes[1, 1].set_ylabel('Counts', fontsize=20)\n",
    "axes[1, 1].tick_params(axis='both', labelsize=15)\n",
    "axes[1, 1].legend((p1[0], p2[0]), ('Tip Under 20%', 'Tip Over 20%'), fontsize = 15)\n",
    "\n",
    "plt.show()"
   ]
  },
  {
   "cell_type": "markdown",
   "metadata": {},
   "source": [
    "## Observations\n",
    "1. Looking at the categories where people tip over 20%, it appears it's about 50/50 for whites and latinos in the race category.  \n",
    "2. In delivery type, we see large tips to those that were delivered to at home.  \n",
    "3. The Younger or Middle aged tend to tip over 20% and lastly the males tend to tip 20% more so than females."
   ]
  },
  {
   "cell_type": "code",
   "execution_count": 46,
   "metadata": {},
   "outputs": [],
   "source": [
    "# Creating a dataframe for my heat map\n",
    "df_tip_heat_map = df_tip_v2.drop(['Street_Address','Date', 'Race', 'Gender', 'Type', 'Time_In', 'Time_Out', 'Age', 'Time_Elapsed', 'Miles'], axis=1)\n",
    "df_tip_heat_map.reset_index(drop=True, inplace=True)"
   ]
  },
  {
   "cell_type": "code",
   "execution_count": 47,
   "metadata": {},
   "outputs": [
    {
     "data": {
      "text/html": [
       "<div>\n",
       "<style scoped>\n",
       "    .dataframe tbody tr th:only-of-type {\n",
       "        vertical-align: middle;\n",
       "    }\n",
       "\n",
       "    .dataframe tbody tr th {\n",
       "        vertical-align: top;\n",
       "    }\n",
       "\n",
       "    .dataframe thead th {\n",
       "        text-align: right;\n",
       "    }\n",
       "</style>\n",
       "<table border=\"1\" class=\"dataframe\">\n",
       "  <thead>\n",
       "    <tr style=\"text-align: right;\">\n",
       "      <th></th>\n",
       "      <th>Tip</th>\n",
       "      <th>Price</th>\n",
       "      <th>race_A</th>\n",
       "      <th>race_B</th>\n",
       "      <th>race_L</th>\n",
       "      <th>race_W</th>\n",
       "      <th>TOD_H</th>\n",
       "      <th>TOD_O</th>\n",
       "      <th>TOD_R</th>\n",
       "      <th>TOD_W</th>\n",
       "      <th>Age_M</th>\n",
       "      <th>Age_O</th>\n",
       "      <th>Age_Y</th>\n",
       "      <th>Gen_F</th>\n",
       "      <th>Gen_M</th>\n",
       "      <th>tip_20p</th>\n",
       "      <th>median_inc</th>\n",
       "    </tr>\n",
       "  </thead>\n",
       "  <tbody>\n",
       "    <tr>\n",
       "      <th>0</th>\n",
       "      <td>3.00</td>\n",
       "      <td>19.83</td>\n",
       "      <td>0</td>\n",
       "      <td>0</td>\n",
       "      <td>0</td>\n",
       "      <td>1</td>\n",
       "      <td>0</td>\n",
       "      <td>0</td>\n",
       "      <td>1</td>\n",
       "      <td>0</td>\n",
       "      <td>0</td>\n",
       "      <td>0</td>\n",
       "      <td>1</td>\n",
       "      <td>1</td>\n",
       "      <td>0</td>\n",
       "      <td>0</td>\n",
       "      <td>88353</td>\n",
       "    </tr>\n",
       "    <tr>\n",
       "      <th>1</th>\n",
       "      <td>4.78</td>\n",
       "      <td>15.58</td>\n",
       "      <td>0</td>\n",
       "      <td>0</td>\n",
       "      <td>0</td>\n",
       "      <td>1</td>\n",
       "      <td>0</td>\n",
       "      <td>0</td>\n",
       "      <td>1</td>\n",
       "      <td>0</td>\n",
       "      <td>0</td>\n",
       "      <td>0</td>\n",
       "      <td>1</td>\n",
       "      <td>1</td>\n",
       "      <td>0</td>\n",
       "      <td>1</td>\n",
       "      <td>88353</td>\n",
       "    </tr>\n",
       "    <tr>\n",
       "      <th>2</th>\n",
       "      <td>3.00</td>\n",
       "      <td>12.93</td>\n",
       "      <td>0</td>\n",
       "      <td>0</td>\n",
       "      <td>0</td>\n",
       "      <td>1</td>\n",
       "      <td>0</td>\n",
       "      <td>0</td>\n",
       "      <td>1</td>\n",
       "      <td>0</td>\n",
       "      <td>0</td>\n",
       "      <td>0</td>\n",
       "      <td>1</td>\n",
       "      <td>1</td>\n",
       "      <td>0</td>\n",
       "      <td>1</td>\n",
       "      <td>88353</td>\n",
       "    </tr>\n",
       "    <tr>\n",
       "      <th>3</th>\n",
       "      <td>3.67</td>\n",
       "      <td>15.58</td>\n",
       "      <td>0</td>\n",
       "      <td>1</td>\n",
       "      <td>0</td>\n",
       "      <td>0</td>\n",
       "      <td>0</td>\n",
       "      <td>0</td>\n",
       "      <td>1</td>\n",
       "      <td>0</td>\n",
       "      <td>0</td>\n",
       "      <td>0</td>\n",
       "      <td>1</td>\n",
       "      <td>0</td>\n",
       "      <td>1</td>\n",
       "      <td>1</td>\n",
       "      <td>37181</td>\n",
       "    </tr>\n",
       "    <tr>\n",
       "      <th>4</th>\n",
       "      <td>3.61</td>\n",
       "      <td>15.58</td>\n",
       "      <td>0</td>\n",
       "      <td>1</td>\n",
       "      <td>0</td>\n",
       "      <td>0</td>\n",
       "      <td>0</td>\n",
       "      <td>0</td>\n",
       "      <td>1</td>\n",
       "      <td>0</td>\n",
       "      <td>1</td>\n",
       "      <td>0</td>\n",
       "      <td>0</td>\n",
       "      <td>1</td>\n",
       "      <td>0</td>\n",
       "      <td>1</td>\n",
       "      <td>37181</td>\n",
       "    </tr>\n",
       "  </tbody>\n",
       "</table>\n",
       "</div>"
      ],
      "text/plain": [
       "    Tip  Price  race_A  race_B  race_L  race_W  TOD_H  TOD_O  TOD_R  TOD_W  \\\n",
       "0  3.00  19.83       0       0       0       1      0      0      1      0   \n",
       "1  4.78  15.58       0       0       0       1      0      0      1      0   \n",
       "2  3.00  12.93       0       0       0       1      0      0      1      0   \n",
       "3  3.67  15.58       0       1       0       0      0      0      1      0   \n",
       "4  3.61  15.58       0       1       0       0      0      0      1      0   \n",
       "\n",
       "   Age_M  Age_O  Age_Y  Gen_F  Gen_M  tip_20p  median_inc  \n",
       "0      0      0      1      1      0        0       88353  \n",
       "1      0      0      1      1      0        1       88353  \n",
       "2      0      0      1      1      0        1       88353  \n",
       "3      0      0      1      0      1        1       37181  \n",
       "4      1      0      0      1      0        1       37181  "
      ]
     },
     "execution_count": 47,
     "metadata": {},
     "output_type": "execute_result"
    }
   ],
   "source": [
    "df_tip_heat_map.head()"
   ]
  },
  {
   "cell_type": "code",
   "execution_count": 48,
   "metadata": {},
   "outputs": [],
   "source": [
    "# Import more libraries\n",
    "import matplotlib.pyplot as plt\n",
    "import seaborn as sns\n",
    "%matplotlib inline\n",
    "from sklearn import metrics"
   ]
  },
  {
   "cell_type": "code",
   "execution_count": 49,
   "metadata": {},
   "outputs": [],
   "source": [
    "# Just keeping this code incase I want to look back at using iloc\n",
    "#X_features = df_tip_heat_map.iloc[:, :7].values\n",
    "#Y_target = df_tip_heat_map.iloc[:, -1:].values"
   ]
  },
  {
   "cell_type": "code",
   "execution_count": 50,
   "metadata": {},
   "outputs": [
    {
     "data": {
      "text/plain": [
       "Text(0.5, 1.0, 'Multi-Collinearity of Delivery Tip Attributes')"
      ]
     },
     "execution_count": 50,
     "metadata": {},
     "output_type": "execute_result"
    },
    {
     "data": {
      "image/png": "[encoded data removed]",
      "text/plain": [
       "<Figure size 720x432 with 2 Axes>"
      ]
     },
     "metadata": {
      "needs_background": "light"
     },
     "output_type": "display_data"
    }
   ],
   "source": [
    "# created a heatmap to create a correlation of the data to compare with mpg\n",
    "fig, ax = plt.subplots(figsize=(10,6))\n",
    "sns.heatmap(df_tip_heat_map.corr(), center=0, cmap='Blues')\n",
    "ax.set_title('Multi-Collinearity of Delivery Tip Attributes')"
   ]
  },
  {
   "cell_type": "markdown",
   "metadata": {},
   "source": [
    "### Observations\n",
    "1. There's a high correlation between median income and white race relative to tip over 20%  \n",
    "2. The actual tip amount is showing some correlation with determining the tip amount over 20%  \n",
    "3. Price also has an impact on the independent variable"
   ]
  },
  {
   "cell_type": "markdown",
   "metadata": {},
   "source": [
    "### Prepare the Data for Modeling"
   ]
  },
  {
   "cell_type": "code",
   "execution_count": 51,
   "metadata": {},
   "outputs": [],
   "source": [
    "from sklearn.linear_model import LinearRegression"
   ]
  },
  {
   "cell_type": "code",
   "execution_count": 52,
   "metadata": {},
   "outputs": [],
   "source": [
    "# splitting the data into training and testing dataframes\n",
    "# creating X and y\n",
    "X = df_tip_heat_map.loc[:, df_tip_heat_map.columns != 'tip_20p']\n",
    "y = df_tip_heat_map['tip_20p']"
   ]
  },
  {
   "cell_type": "code",
   "execution_count": 53,
   "metadata": {},
   "outputs": [],
   "source": [
    "# Splitting the variables as training and testing\n",
    "from sklearn.model_selection import train_test_split\n",
    "X_train, X_test, y_train, y_test = train_test_split(X, y, train_size = 0.8, \n",
    "                                                    test_size = 0.2, random_state = 0)"
   ]
  },
  {
   "cell_type": "code",
   "execution_count": 54,
   "metadata": {},
   "outputs": [
    {
     "data": {
      "text/plain": [
       "(617,)"
      ]
     },
     "execution_count": 54,
     "metadata": {},
     "output_type": "execute_result"
    }
   ],
   "source": [
    "y_train.shape"
   ]
  },
  {
   "cell_type": "markdown",
   "metadata": {},
   "source": [
    "### Create a Linear Regression Model with tip amount and price"
   ]
  },
  {
   "cell_type": "code",
   "execution_count": 55,
   "metadata": {},
   "outputs": [],
   "source": [
    "# Create X and y values from the training data to test linear regression on Tip and Price\n",
    "X_lr = X_train['Price']\n",
    "X_lr = np.array(X_lr).reshape((-1, 1))\n",
    "y_lr = X_train['Tip']"
   ]
  },
  {
   "cell_type": "code",
   "execution_count": 56,
   "metadata": {},
   "outputs": [
    {
     "data": {
      "text/plain": [
       "(617, 1)"
      ]
     },
     "execution_count": 56,
     "metadata": {},
     "output_type": "execute_result"
    }
   ],
   "source": [
    "X_lr.shape"
   ]
  },
  {
   "cell_type": "code",
   "execution_count": 57,
   "metadata": {},
   "outputs": [],
   "source": [
    "lr_model = LinearRegression()"
   ]
  },
  {
   "cell_type": "code",
   "execution_count": 58,
   "metadata": {},
   "outputs": [
    {
     "data": {
      "text/plain": [
       "LinearRegression()"
      ]
     },
     "execution_count": 58,
     "metadata": {},
     "output_type": "execute_result"
    }
   ],
   "source": [
    "lr_model.fit(X_lr, y_lr)"
   ]
  },
  {
   "cell_type": "code",
   "execution_count": 59,
   "metadata": {},
   "outputs": [
    {
     "name": "stdout",
     "output_type": "stream",
     "text": [
      "coefficient of determiniation: 0.14316149023708247\n"
     ]
    }
   ],
   "source": [
    "# Get results of Linear Regression\n",
    "lr_r_sq = lr_model.score(X_lr, y_lr)\n",
    "print('coefficient of determiniation:', lr_r_sq)"
   ]
  },
  {
   "cell_type": "markdown",
   "metadata": {},
   "source": [
    "Observation - the coefficient of determiniation is 14% which means the price is not a good predictor of tip amount and it's not a good fit for this model."
   ]
  },
  {
   "cell_type": "markdown",
   "metadata": {},
   "source": [
    "### Create a Multiple Linear Regression Model"
   ]
  },
  {
   "cell_type": "code",
   "execution_count": 60,
   "metadata": {},
   "outputs": [],
   "source": [
    "# Create X and y values from the training data to test multiple linear regression on tip vs. all other variables\n",
    "X_mlr = X_train.iloc[:, :7].values\n",
    "y_mlr = y_train.values"
   ]
  },
  {
   "cell_type": "code",
   "execution_count": 61,
   "metadata": {},
   "outputs": [],
   "source": [
    "mlr_model = LinearRegression().fit(X_mlr, y_mlr)"
   ]
  },
  {
   "cell_type": "code",
   "execution_count": 62,
   "metadata": {},
   "outputs": [
    {
     "name": "stdout",
     "output_type": "stream",
     "text": [
      "coefficient of determination: 0.4215794518381051\n"
     ]
    }
   ],
   "source": [
    "# Get results of Multiple Linear Regression\n",
    "mlr_r_sq = mlr_model.score(X_mlr, y_mlr)\n",
    "print('coefficient of determination:', mlr_r_sq)"
   ]
  },
  {
   "cell_type": "code",
   "execution_count": 63,
   "metadata": {},
   "outputs": [
    {
     "name": "stdout",
     "output_type": "stream",
     "text": [
      "intercept: 0.5341846955603669\n"
     ]
    }
   ],
   "source": [
    "print('intercept:', mlr_model.intercept_)"
   ]
  },
  {
   "cell_type": "code",
   "execution_count": 64,
   "metadata": {},
   "outputs": [
    {
     "name": "stdout",
     "output_type": "stream",
     "text": [
      "slope: [ 0.12577028 -0.0324617  -0.12566578 -0.02668983  0.10834998  0.04400563\n",
      "  0.16514258]\n"
     ]
    }
   ],
   "source": [
    "print('slope:', mlr_model.coef_)"
   ]
  },
  {
   "cell_type": "markdown",
   "metadata": {},
   "source": [
    "The coefficient of determination is 42% which is much better using the other variables than linear regression."
   ]
  },
  {
   "cell_type": "markdown",
   "metadata": {},
   "source": [
    "### Create Logistic Regression Model"
   ]
  },
  {
   "cell_type": "code",
   "execution_count": 65,
   "metadata": {},
   "outputs": [],
   "source": [
    "#import logistic regression model\n",
    "from sklearn.linear_model import LogisticRegression\n",
    "\n",
    "#import evaluation tools\n",
    "from yellowbrick.classifier import ConfusionMatrix\n",
    "from yellowbrick.classifier import ClassificationReport\n",
    "from yellowbrick.classifier import ROCAUC"
   ]
  },
  {
   "cell_type": "code",
   "execution_count": 66,
   "metadata": {},
   "outputs": [],
   "source": [
    "#instantiate the logistic regression model \n",
    "logr_model = LogisticRegression(max_iter = 500)\n",
    "#fit the model to the training set\n",
    "logr = logr_model.fit(X_train, y_train)"
   ]
  },
  {
   "cell_type": "code",
   "execution_count": 70,
   "metadata": {},
   "outputs": [
    {
     "name": "stdout",
     "output_type": "stream",
     "text": [
      "Model Accuracy: 73.55%\n"
     ]
    },
    {
     "name": "stderr",
     "output_type": "stream",
     "text": [
      "C:\\Users\\kozfa\\anaconda3\\lib\\site-packages\\sklearn\\base.py:450: UserWarning: X does not have valid feature names, but LogisticRegression was fitted with feature names\n",
      "  warnings.warn(\n"
     ]
    },
    {
     "data": {
      "image/png": "[encoded data removed]",
      "text/plain": [
       "<Figure size 576x396 with 1 Axes>"
      ]
     },
     "metadata": {},
     "output_type": "display_data"
    },
    {
     "data": {
      "text/plain": [
       "<AxesSubplot:title={'center':'LogisticRegression Confusion Matrix'}, xlabel='Predicted Class', ylabel='True Class'>"
      ]
     },
     "execution_count": 70,
     "metadata": {},
     "output_type": "execute_result"
    }
   ],
   "source": [
    "#get model accuracy and create a confusion matrix\n",
    "\n",
    "#create class labels for confusion matrix\n",
    "#classes = ['Did Not Survive','Survived']\n",
    "label_encoder = {0: 'Tip Under 20%', 1: 'Tip Over 20%'}\n",
    "\n",
    "#initialize the confusion matrix\n",
    "cm = ConfusionMatrix(logr_model, encoder = label_encoder,  percent=False)\n",
    "\n",
    "#fit the test set to the confusion matrix\n",
    "cm.fit(X_test, y_test)\n",
    "\n",
    "#creates the confusion matrix and gets the accuracy\n",
    "mod_acc = 100*cm.score(X_test, y_test)\n",
    "print('Model Accuracy: ', round(mod_acc,2), '%', sep = '')\n",
    "\n",
    "#change fontsize of the labels in the figure\n",
    "for label in cm.ax.texts:\n",
    "    label.set_size(25)\n",
    "\n",
    "#display the confusion matrix\n",
    "cm.show()"
   ]
  },
  {
   "cell_type": "code",
   "execution_count": 71,
   "metadata": {},
   "outputs": [
    {
     "name": "stderr",
     "output_type": "stream",
     "text": [
      "C:\\Users\\kozfa\\anaconda3\\lib\\site-packages\\sklearn\\base.py:450: UserWarning: X does not have valid feature names, but LogisticRegression was fitted with feature names\n",
      "  warnings.warn(\n"
     ]
    },
    {
     "data": {
      "image/png": "[encoded data removed]",
      "text/plain": [
       "<Figure size 1080x504 with 2 Axes>"
      ]
     },
     "metadata": {},
     "output_type": "display_data"
    },
    {
     "data": {
      "text/plain": [
       "<AxesSubplot:title={'center':'LogisticRegression Classification Report'}>"
      ]
     },
     "execution_count": 71,
     "metadata": {},
     "output_type": "execute_result"
    }
   ],
   "source": [
    "#get precision, recall, and F1-score from the classification report\n",
    "#set the size of the figure and the font size \n",
    "plt.rcParams['figure.figsize'] = (15, 7)\n",
    "plt.rcParams['font.size'] = 20\n",
    "\n",
    "#instantiate the classification report\n",
    "class_report = ClassificationReport(logr_model, encoder = label_encoder)\n",
    "\n",
    "#fit the classification report to the test data\n",
    "class_report.fit(X_train, y_test)  \n",
    "#evaluate the model on the test data\n",
    "class_report.score(X_test, y_test)  \n",
    "class_report.show()"
   ]
  },
  {
   "cell_type": "code",
   "execution_count": 72,
   "metadata": {
    "scrolled": false
   },
   "outputs": [
    {
     "name": "stderr",
     "output_type": "stream",
     "text": [
      "C:\\Users\\kozfa\\anaconda3\\lib\\site-packages\\sklearn\\base.py:450: UserWarning: X does not have valid feature names, but LogisticRegression was fitted with feature names\n",
      "  warnings.warn(\n"
     ]
    },
    {
     "data": {
      "image/png": "[encoded data removed]",
      "text/plain": [
       "<Figure size 1080x504 with 1 Axes>"
      ]
     },
     "metadata": {},
     "output_type": "display_data"
    },
    {
     "data": {
      "text/plain": [
       "<AxesSubplot:title={'center':'ROC Curves for LogisticRegression'}, xlabel='False Positive Rate', ylabel='True Positive Rate'>"
      ]
     },
     "execution_count": 72,
     "metadata": {},
     "output_type": "execute_result"
    }
   ],
   "source": [
    "# ROC and AUC\n",
    "#Instantiate the visualizer\n",
    "roc_curve = ROCAUC(logr_model, encoder = label_encoder, solver = 'liblinear')\n",
    "\n",
    "#fit the ROC curve to the test data\n",
    "roc_curve.fit(X_test, y_test)\n",
    "#evaluate the model on the test data\n",
    "roc_curve.score(X_test, y_test)  \n",
    "roc_curve.show()"
   ]
  },
  {
   "cell_type": "markdown",
   "metadata": {},
   "source": [
    "## Create KNN Classifier"
   ]
  },
  {
   "cell_type": "code",
   "execution_count": 73,
   "metadata": {},
   "outputs": [],
   "source": [
    "# Import necessary modules\n",
    "from sklearn.neighbors import KNeighborsClassifier"
   ]
  },
  {
   "cell_type": "code",
   "execution_count": 74,
   "metadata": {},
   "outputs": [],
   "source": [
    "knn = KNeighborsClassifier(n_neighbors=5)"
   ]
  },
  {
   "cell_type": "code",
   "execution_count": 75,
   "metadata": {},
   "outputs": [
    {
     "data": {
      "text/plain": [
       "KNeighborsClassifier()"
      ]
     },
     "execution_count": 75,
     "metadata": {},
     "output_type": "execute_result"
    }
   ],
   "source": [
    "knn.fit(X_train, y_train)"
   ]
  },
  {
   "cell_type": "code",
   "execution_count": 76,
   "metadata": {},
   "outputs": [
    {
     "data": {
      "text/plain": [
       "array([0, 0, 0, 1, 0, 1, 0, 0, 0, 1, 0, 1, 0, 1, 0, 1, 0, 0, 0, 0, 0, 0,\n",
       "       1, 0, 0, 1, 0, 0, 1, 1, 1, 0, 0, 0, 1, 0, 1, 0, 0, 1, 1, 1, 1, 1,\n",
       "       0, 1, 0, 1, 1, 1, 0, 1, 0, 1, 0, 1, 0, 1, 1, 0, 0, 0, 1, 0, 0, 1,\n",
       "       1, 0, 0, 0, 0, 1, 1, 0, 1, 0, 0, 0, 1, 0, 1, 0, 0, 1, 0, 1, 0, 0,\n",
       "       1, 1, 0, 1, 0, 0, 0, 0, 0, 0, 0, 0, 1, 0, 1, 0, 0, 1, 1, 0, 1, 1,\n",
       "       1, 1, 0, 0, 0, 1, 0, 0, 0, 0, 0, 0, 0, 1, 1, 0, 0, 0, 1, 1, 0, 0,\n",
       "       0, 1, 0, 0, 0, 0, 0, 1, 0, 1, 0, 1, 0, 0, 1, 0, 1, 1, 1, 0, 1, 0,\n",
       "       0])"
      ]
     },
     "execution_count": 76,
     "metadata": {},
     "output_type": "execute_result"
    }
   ],
   "source": [
    "knn.predict(X_test)"
   ]
  },
  {
   "cell_type": "code",
   "execution_count": 77,
   "metadata": {},
   "outputs": [
    {
     "name": "stdout",
     "output_type": "stream",
     "text": [
      "0.896774193548387\n"
     ]
    }
   ],
   "source": [
    "# Calculate the accuracy of the model\n",
    "print(knn.score(X_test, y_test))"
   ]
  },
  {
   "cell_type": "markdown",
   "metadata": {},
   "source": [
    "Well, that accuracy is good! 89%"
   ]
  }
 ],
 "metadata": {
  "kernelspec": {
   "display_name": "Python 3 (ipykernel)",
   "language": "python",
   "name": "python3"
  },
  "language_info": {
   "codemirror_mode": {
    "name": "ipython",
    "version": 3
   },
   "file_extension": ".py",
   "mimetype": "text/x-python",
   "name": "python",
   "nbconvert_exporter": "python",
   "pygments_lexer": "ipython3",
   "version": "3.8.12"
  }
 },
 "nbformat": 4,
 "nbformat_minor": 4
}
